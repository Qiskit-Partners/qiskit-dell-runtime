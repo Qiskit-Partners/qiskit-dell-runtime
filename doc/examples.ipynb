{
 "cells": [
  {
   "cell_type": "markdown",
   "source": [
    "# Dell Qiskit Runtime Emulator Examples\n",
    "\n",
    "# Local Execution\n",
    "    \n",
    "The following program walks through a (simple) example usage of the \n",
    "Qiskit Runtime Emulator in a local execution environment: i.e. potentially\n",
    "using a locally installed simulator or a remote call directly from a\n",
    "local machine to a remote simulator or QPU."
   ],
   "metadata": {}
  },
  {
   "cell_type": "code",
   "execution_count": null,
   "source": [
    "from qiskit_emulator import EmulatorProvider\n",
    "from qiskit import QuantumCircuit\n",
    "import logging\n",
    "import requests\n",
    "import time\n",
    "import os"
   ],
   "outputs": [],
   "metadata": {}
  },
  {
   "cell_type": "markdown",
   "source": [
    "\n",
    "If the program that interacts with the simulator/QPU is small enough,\n",
    "it can be stored as a string in the file that interfaces with the \n",
    "provider. Both directories and files can be taken as input, as well."
   ],
   "metadata": {}
  },
  {
   "cell_type": "code",
   "execution_count": null,
   "source": [
    "RUNTIME_PROGRAM = \"\"\"\n",
    "# This code is part of qiskit-runtime.\n",
    "#\n",
    "# (C) Copyright IBM 2021.\n",
    "#\n",
    "# This code is licensed under the Apache License, Version 2.0. You may\n",
    "# obtain a copy of this license in the LICENSE.txt file in the root directory\n",
    "# of this source tree or at http://www.apache.org/licenses/LICENSE-2.0.\n",
    "#\n",
    "# Any modifications or derivative works of this code must retain this\n",
    "# copyright notice, and modified files need to carry a notice indicating\n",
    "# that they have been altered from the originals.\n",
    "from qiskit.compiler import transpile, schedule\n",
    "\n",
    "\n",
    "def main(\n",
    "    backend,\n",
    "    user_messenger,\n",
    "    circuits,\n",
    "    **kwargs,\n",
    "):\n",
    "    circuits = transpile(\n",
    "        circuits,\n",
    "    )\n",
    "    \n",
    "    user_messenger.publish({'results': 'intermittently'}, final=False)\n",
    "\n",
    "    if not isinstance(circuits, list):\n",
    "        circuits = [circuits]\n",
    "\n",
    "    # Compute raw results using either simulator or QPU backend.\n",
    "    result = backend.run(circuits, **kwargs).result()\n",
    "\n",
    "    user_messenger.publish(result.to_dict(), final=True)\n",
    "\"\"\"\n",
    "\n",
    "RUNTIME_PROGRAM_METADATA = {\n",
    "    \"max_execution_time\": 600,\n",
    "    \"description\": \"Qiskit test program\"\n",
    "}\n",
    "\n",
    "PROGRAM_PREFIX = 'qiskit-test'\n",
    "REMOTE_RUNTIME = os.getenv(\"SERVER_URL\") \n",
    "\n",
    "logging.basicConfig(level=logging.DEBUG)"
   ],
   "outputs": [],
   "metadata": {}
  },
  {
   "cell_type": "markdown",
   "source": [
    "The EmulatorProvider is an interface that offers a choice of runtime\n",
    "(local or remote) and lists which backends are available locally.\n",
    "\n",
    "Both the client process and the job process interact with the \n",
    "EmulatorProvider - the client mainly uses it for the runtime while the \n",
    "job process selects a backend from the list."
   ],
   "metadata": {}
  },
  {
   "cell_type": "code",
   "execution_count": null,
   "source": [
    "provider = EmulatorProvider()"
   ],
   "outputs": [],
   "metadata": {}
  },
  {
   "cell_type": "markdown",
   "source": [
    "The runtime is a service provided that allows clients to upload, update,\n",
    "view, and run programs inside an execution environment. Since the client\n",
    "has not specified a remote runtime to the provider it defaults to local."
   ],
   "metadata": {}
  },
  {
   "cell_type": "code",
   "execution_count": null,
   "source": [
    "program_id = provider.runtime.upload_program(RUNTIME_PROGRAM, metadata=RUNTIME_PROGRAM_METADATA)\n",
    "print(f\"PROGRAM ID: {program_id}\")\n",
    "programs = provider.runtime.pprint_programs(refresh=True)"
   ],
   "outputs": [],
   "metadata": {}
  },
  {
   "cell_type": "markdown",
   "source": [
    "The following updates the existing program with a new description - this can be done for any of the metadata fields or the program data itself, though changes to the program data are not shown in the `pprint_programs` output."
   ],
   "metadata": {}
  },
  {
   "cell_type": "code",
   "execution_count": null,
   "source": [
    "provider.runtime.update_program(program_id, description=\"IBM/Dell Updated Qiskit Runtime Program\")\n",
    "programs = provider.runtime.pprint_programs(refresh=True)"
   ],
   "outputs": [],
   "metadata": {}
  },
  {
   "cell_type": "markdown",
   "source": [
    "Below we use the Qiskit QuantumCircuit to create a circuit for our program to run. We then place that circuit in `program_inputs` - a dictionary of things that will be provided to our runtime program."
   ],
   "metadata": {}
  },
  {
   "cell_type": "code",
   "execution_count": null,
   "source": [
    "qc = QuantumCircuit(2, 2)\n",
    "qc.h(0)\n",
    "qc.cx(0, 1)\n",
    "qc.measure([0, 1], [0, 1])\n",
    "\n",
    "program_inputs = {\n",
    "    'circuits': qc,\n",
    "}"
   ],
   "outputs": [],
   "metadata": {}
  },
  {
   "cell_type": "markdown",
   "source": [
    "Through the `provider` we are able to run an instance of our program with the inputs we have created. \n",
    "\n",
    "When we run a job locally, a new process is started. This new process returns results to the main process via a socket connection."
   ],
   "metadata": {}
  },
  {
   "cell_type": "code",
   "execution_count": null,
   "source": [
    "job = provider.runtime.run(program_id, options=None, inputs=program_inputs)"
   ],
   "outputs": [],
   "metadata": {}
  },
  {
   "cell_type": "markdown",
   "source": [
    "We can obtain a job's final results and specify a timeout for how long we are willing to wait. If no timeout is specified, the function will return `None` or the final results if they are present."
   ],
   "metadata": {}
  },
  {
   "cell_type": "code",
   "execution_count": null,
   "source": [
    "results = job.result(timeout=60)\n",
    "print(results)"
   ],
   "outputs": [],
   "metadata": {}
  },
  {
   "cell_type": "markdown",
   "source": [
    "We can also provide a callback function to the runtime for a job. A thread launched in the client process to poll for messages will call the callback when a non-final message is received."
   ],
   "metadata": {}
  },
  {
   "cell_type": "code",
   "execution_count": null,
   "source": [
    "def callback_function(msg):\n",
    "    print(f'******************\\n\\n\\nFrom Callback Function: {msg}\\n\\n\\n******************')\n",
    "\n",
    "job = provider.runtime.run(program_id, inputs=program_inputs, options=None, callback=callback_function)"
   ],
   "outputs": [],
   "metadata": {}
  },
  {
   "cell_type": "markdown",
   "source": [
    "You may also specify a different backend on which you would like the quantum code to run. The default backend is the Qiskit Aer simulator."
   ],
   "metadata": {}
  },
  {
   "cell_type": "code",
   "execution_count": null,
   "source": [
    "program_inputs['backend_name'] = 'emulator'\n",
    "job = provider.runtime.run(program_id, inputs=program_inputs, options=None, callback=callback_function)"
   ],
   "outputs": [],
   "metadata": {}
  }
 ],
 "metadata": {
  "orig_nbformat": 4,
  "language_info": {
   "name": "python"
  }
 },
 "nbformat": 4,
 "nbformat_minor": 2
}