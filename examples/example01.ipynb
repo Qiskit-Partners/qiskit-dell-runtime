{
 "cells": [
  {
   "cell_type": "code",
   "execution_count": 1,
   "id": "726eb8ac",
   "metadata": {},
   "outputs": [
    {
     "name": "stderr",
     "output_type": "stream",
     "text": [
      "/home/geoff/.local/lib/python3.6/site-packages/qiskit/__init__.py:67: DeprecationWarning: Using Qiskit with Python 3.6 is deprecated as of the 0.17.0 release. Support for running Qiskit with Python 3.6 will be removed in a future release.\n",
      "  \"future release.\", DeprecationWarning)\n"
     ]
    }
   ],
   "source": [
    "from qiskit_emulator import EmulatorProvider"
   ]
  },
  {
   "cell_type": "code",
   "execution_count": 2,
   "id": "54354970",
   "metadata": {},
   "outputs": [
    {
     "data": {
      "text/plain": [
       "[<EmulatorBackend('emulator')>]"
      ]
     },
     "execution_count": 2,
     "metadata": {},
     "output_type": "execute_result"
    }
   ],
   "source": [
    "provider = EmulatorProvider()\n",
    "provider.backends()"
   ]
  },
  {
   "cell_type": "code",
   "execution_count": 5,
   "id": "aa4aac18",
   "metadata": {},
   "outputs": [],
   "source": [
    "backend = provider.get_backend(name=\"emulator\")"
   ]
  },
  {
   "cell_type": "code",
   "execution_count": 8,
   "id": "03744412",
   "metadata": {},
   "outputs": [],
   "source": [
    "backend_config = backend.configuration()"
   ]
  },
  {
   "cell_type": "code",
   "execution_count": 10,
   "id": "1aa396b5",
   "metadata": {},
   "outputs": [
    {
     "data": {
      "text/plain": [
       "'0.1.0'"
      ]
     },
     "execution_count": 10,
     "metadata": {},
     "output_type": "execute_result"
    }
   ],
   "source": [
    "backend_config.backend_name"
   ]
  },
  {
   "cell_type": "code",
   "execution_count": 11,
   "id": "eeb61fae",
   "metadata": {},
   "outputs": [
    {
     "data": {
      "text/plain": [
       "'0.1.0'"
      ]
     },
     "execution_count": 11,
     "metadata": {},
     "output_type": "execute_result"
    }
   ],
   "source": [
    "backend_config.backend_version"
   ]
  },
  {
   "cell_type": "code",
   "execution_count": 12,
   "id": "f4edac7b",
   "metadata": {},
   "outputs": [
    {
     "data": {
      "text/plain": [
       "29"
      ]
     },
     "execution_count": 12,
     "metadata": {},
     "output_type": "execute_result"
    }
   ],
   "source": [
    "backend_config.n_qubits"
   ]
  },
  {
   "cell_type": "code",
   "execution_count": 13,
   "id": "42f6fb57",
   "metadata": {},
   "outputs": [
    {
     "data": {
      "text/plain": [
       "True"
      ]
     },
     "execution_count": 13,
     "metadata": {},
     "output_type": "execute_result"
    }
   ],
   "source": [
    "# https://qiskit.org/documentation/stubs/qiskit.providers.models.BackendConfiguration.html\n",
    "backend_config.local"
   ]
  },
  {
   "cell_type": "code",
   "execution_count": 14,
   "id": "cceba6df",
   "metadata": {},
   "outputs": [
    {
     "data": {
      "text/plain": [
       "False"
      ]
     },
     "execution_count": 14,
     "metadata": {},
     "output_type": "execute_result"
    }
   ],
   "source": [
    "backend_config.open_pulse"
   ]
  },
  {
   "cell_type": "code",
   "execution_count": null,
   "id": "bf9113b9",
   "metadata": {},
   "outputs": [],
   "source": []
  }
 ],
 "metadata": {
  "kernelspec": {
   "display_name": "Python 3",
   "language": "python",
   "name": "python3"
  },
  "language_info": {
   "codemirror_mode": {
    "name": "ipython",
    "version": 3
   },
   "file_extension": ".py",
   "mimetype": "text/x-python",
   "name": "python",
   "nbconvert_exporter": "python",
   "pygments_lexer": "ipython3",
   "version": "3.6.9"
  }
 },
 "nbformat": 4,
 "nbformat_minor": 5
}
