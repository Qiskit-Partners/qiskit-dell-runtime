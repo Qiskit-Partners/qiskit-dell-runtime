{
 "cells": [
  {
   "cell_type": "code",
   "execution_count": 1,
   "id": "9275e789",
   "metadata": {},
   "outputs": [],
   "source": [
    "from qiskit_emulator import EmulatorProvider"
   ]
  },
  {
   "cell_type": "code",
   "execution_count": 2,
   "id": "a5506e37",
   "metadata": {},
   "outputs": [],
   "source": [
    "provider = EmulatorProvider()"
   ]
  },
  {
   "cell_type": "code",
   "execution_count": 3,
   "id": "086697ab",
   "metadata": {},
   "outputs": [],
   "source": [
    "provider.remote('http://qre-vf.oro-sandbox-small1.k8s.cec.lab.emc.com')"
   ]
  },
  {
   "cell_type": "code",
   "execution_count": 4,
   "id": "1903c8da",
   "metadata": {},
   "outputs": [
    {
     "data": {
      "text/plain": [
       "{'4f2b45518fa1': <qiskit.providers.ibmq.runtime.runtime_program.RuntimeProgram at 0x7f222c18edc0>,\n",
       " 'cb9e10dcb3dd': <qiskit.providers.ibmq.runtime.runtime_program.RuntimeProgram at 0x7f222c18e550>}"
      ]
     },
     "execution_count": 4,
     "metadata": {},
     "output_type": "execute_result"
    }
   ],
   "source": [
    "provider.runtime.programs()"
   ]
  },
  {
   "cell_type": "code",
   "execution_count": 5,
   "id": "83598953",
   "metadata": {},
   "outputs": [],
   "source": [
    "RUNTIME_PROGRAM = \"\"\"\n",
    "from qiskit.compiler import transpile, schedule\n",
    "\n",
    "\n",
    "def main(\n",
    "    backend,\n",
    "    user_messenger,\n",
    "    circuits,\n",
    "    **kwargs,\n",
    "):\n",
    "\n",
    "    user_messenger.publish({'results': 'intermittently'})\n",
    "\n",
    "    circuits = transpile(\n",
    "        circuits,\n",
    "    )\n",
    "\n",
    "    if not isinstance(circuits, list):\n",
    "        circuits = [circuits]\n",
    "\n",
    "    # Compute raw results\n",
    "    result = backend.run(circuits, **kwargs).result()\n",
    "\n",
    "    user_messenger.publish({'results': 'finally'})\n",
    "    user_messenger.publish(result.to_dict(), final=True)\n",
    "    print(\"job complete successfully\")\n",
    "\"\"\""
   ]
  },
  {
   "cell_type": "code",
   "execution_count": 6,
   "id": "437bd0d6",
   "metadata": {},
   "outputs": [],
   "source": [
    "RUNTIME_PROGRAM_METADATA = {\n",
    "    \"max_execution_time\": 600,\n",
    "    \"description\": \"Qiskit test program\"\n",
    "}"
   ]
  },
  {
   "cell_type": "code",
   "execution_count": 7,
   "id": "7f0aec3d",
   "metadata": {},
   "outputs": [],
   "source": [
    "program_id = provider.runtime.upload_program(RUNTIME_PROGRAM, metadata=RUNTIME_PROGRAM_METADATA)"
   ]
  },
  {
   "cell_type": "code",
   "execution_count": 8,
   "id": "627f3709",
   "metadata": {},
   "outputs": [
    {
     "data": {
      "text/plain": [
       "{'4f2b45518fa1': <qiskit.providers.ibmq.runtime.runtime_program.RuntimeProgram at 0x7f222c18edc0>,\n",
       " 'cb9e10dcb3dd': <qiskit.providers.ibmq.runtime.runtime_program.RuntimeProgram at 0x7f222c18e550>}"
      ]
     },
     "execution_count": 8,
     "metadata": {},
     "output_type": "execute_result"
    }
   ],
   "source": [
    "proglist = provider.runtime.programs()\n",
    "proglist"
   ]
  },
  {
   "cell_type": "code",
   "execution_count": 9,
   "id": "7bea698f",
   "metadata": {},
   "outputs": [
    {
     "data": {
      "text/plain": [
       "'a63f5461c788'"
      ]
     },
     "execution_count": 9,
     "metadata": {},
     "output_type": "execute_result"
    }
   ],
   "source": [
    "program_id"
   ]
  },
  {
   "cell_type": "code",
   "execution_count": 10,
   "id": "24ec122a",
   "metadata": {},
   "outputs": [],
   "source": [
    "from qiskit import QuantumCircuit, execute, transpile\n",
    "qc = QuantumCircuit(2, 2)\n",
    "qc.h(0)\n",
    "qc.cx(0, 1)\n",
    "qc.measure([0, 1], [0, 1])\n",
    "\n",
    "program_inputs = {\n",
    "    'circuits': qc,\n",
    "}"
   ]
  },
  {
   "cell_type": "code",
   "execution_count": 11,
   "id": "9894da7c",
   "metadata": {},
   "outputs": [],
   "source": [
    "job = provider.runtime.run(program_id, options=None, inputs=program_inputs)"
   ]
  },
  {
   "cell_type": "code",
   "execution_count": null,
   "id": "fc8c341a",
   "metadata": {},
   "outputs": [],
   "source": [
    "result = job.result(timeout=120)"
   ]
  },
  {
   "cell_type": "code",
   "execution_count": null,
   "id": "7bb49994",
   "metadata": {},
   "outputs": [],
   "source": []
  }
 ],
 "metadata": {
  "kernelspec": {
   "display_name": "Python 3",
   "language": "python",
   "name": "python3"
  },
  "language_info": {
   "codemirror_mode": {
    "name": "ipython",
    "version": 3
   },
   "file_extension": ".py",
   "mimetype": "text/x-python",
   "name": "python",
   "nbconvert_exporter": "python",
   "pygments_lexer": "ipython3",
   "version": "3.9.5"
  }
 },
 "nbformat": 4,
 "nbformat_minor": 5
}
