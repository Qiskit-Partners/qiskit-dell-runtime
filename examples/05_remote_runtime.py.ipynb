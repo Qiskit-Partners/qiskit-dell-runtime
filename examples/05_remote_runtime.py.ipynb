{
 "cells": [
  {
   "cell_type": "code",
   "execution_count": 5,
   "id": "9275e789",
   "metadata": {},
   "outputs": [],
   "source": [
    "from qiskit_emulator import EmulatorProvider"
   ]
  },
  {
   "cell_type": "code",
   "execution_count": 6,
   "id": "a5506e37",
   "metadata": {},
   "outputs": [],
   "source": [
    "provider = EmulatorProvider()"
   ]
  },
  {
   "cell_type": "code",
   "execution_count": 7,
   "id": "086697ab",
   "metadata": {},
   "outputs": [],
   "source": [
    "provider.remote('http://localhost:5000')"
   ]
  },
  {
   "cell_type": "code",
   "execution_count": 10,
   "id": "1903c8da",
   "metadata": {},
   "outputs": [
    {
     "data": {
      "text/plain": [
       "'[{\"program_id\": \"728ef37592446b08\", \"name\": \"728ef37592446b08\", \"description\": null}, {\"program_id\": \"54f5c04faf081855\", \"name\": \"54f5c04faf081855\", \"description\": null}, {\"program_id\": \"xdc0673e49996448\", \"name\": \"xdc0673e49996448\", \"description\": null}, {\"program_id\": \"xaabbfb8fad55b0a\", \"name\": \"xaabbfb8fad55b0a\", \"description\": null}, {\"program_id\": \"587976dad5bef21c\", \"name\": \"587976dad5bef21c\", \"description\": \"basic execution\"}]'"
      ]
     },
     "execution_count": 10,
     "metadata": {},
     "output_type": "execute_result"
    }
   ],
   "source": [
    "provider.runtime.programs()"
   ]
  },
  {
   "cell_type": "code",
   "execution_count": null,
   "id": "83598953",
   "metadata": {},
   "outputs": [],
   "source": []
  },
  {
   "cell_type": "code",
   "execution_count": null,
   "id": "437bd0d6",
   "metadata": {},
   "outputs": [],
   "source": []
  }
 ],
 "metadata": {
  "kernelspec": {
   "display_name": "qruntime",
   "language": "python",
   "name": "qruntime"
  },
  "language_info": {
   "codemirror_mode": {
    "name": "ipython",
    "version": 3
   },
   "file_extension": ".py",
   "mimetype": "text/x-python",
   "name": "python",
   "nbconvert_exporter": "python",
   "pygments_lexer": "ipython3",
   "version": "3.9.5"
  }
 },
 "nbformat": 4,
 "nbformat_minor": 5
}
