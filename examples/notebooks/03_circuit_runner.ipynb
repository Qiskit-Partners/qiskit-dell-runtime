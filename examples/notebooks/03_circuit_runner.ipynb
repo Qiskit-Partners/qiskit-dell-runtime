{
 "cells": [
  {
   "cell_type": "code",
   "execution_count": 1,
   "id": "75e455b6",
   "metadata": {},
   "outputs": [],
   "source": [
    "from qiskit_emulator import EmulatorProvider\n",
    "from qiskit import QuantumCircuit\n",
    "\n",
    "provider = EmulatorProvider()"
   ]
  },
  {
   "cell_type": "code",
   "execution_count": 2,
   "id": "662400ee",
   "metadata": {},
   "outputs": [],
   "source": [
    "RUNTIME_PROGRAM = \"\"\"\n",
    "# This code is part of qiskit-runtime.\n",
    "#\n",
    "# (C) Copyright IBM 2021.\n",
    "#\n",
    "# This code is licensed under the Apache License, Version 2.0. You may\n",
    "# obtain a copy of this license in the LICENSE.txt file in the root directory\n",
    "# of this source tree or at http://www.apache.org/licenses/LICENSE-2.0.\n",
    "#\n",
    "# Any modifications or derivative works of this code must retain this\n",
    "# copyright notice, and modified files need to carry a notice indicating\n",
    "# that they have been altered from the originals.\n",
    "\n",
    "# This is a simplified version of the circuit-runner program.\n",
    "\n",
    "from qiskit.compiler import transpile, schedule\n",
    "\n",
    "\n",
    "def main(\n",
    "    backend,\n",
    "    user_messenger,\n",
    "    circuits,\n",
    "    initial_layout=None,\n",
    "    seed_transpiler=None,\n",
    "    optimization_level=None,\n",
    "    transpiler_options=None,\n",
    "    scheduling_method=None,\n",
    "    schedule_circuit=False,\n",
    "    inst_map=None,\n",
    "    meas_map=None,\n",
    "    measurement_error_mitigation=False,\n",
    "    **kwargs,\n",
    "):\n",
    "\n",
    "    # transpiling the circuits using given transpile options\n",
    "    transpiler_options = transpiler_options or {}\n",
    "    circuits = transpile(\n",
    "        circuits,\n",
    "        initial_layout=initial_layout,\n",
    "        seed_transpiler=seed_transpiler,\n",
    "        optimization_level=optimization_level,\n",
    "        backend=backend,\n",
    "        **transpiler_options,\n",
    "    )\n",
    "\n",
    "    if schedule_circuit:\n",
    "        circuits = schedule(\n",
    "            circuits=circuits,\n",
    "            backend=backend,\n",
    "            inst_map=inst_map,\n",
    "            meas_map=meas_map,\n",
    "            method=scheduling_method,\n",
    "        )\n",
    "\n",
    "    if not isinstance(circuits, list):\n",
    "        circuits = [circuits]\n",
    "\n",
    "    # Compute raw results\n",
    "    result = backend.run(circuits, **kwargs).result()\n",
    "\n",
    "    if measurement_error_mitigation:\n",
    "        # Performs measurement error mitigation.\n",
    "        pass\n",
    "\n",
    "    user_messenger.publish(result.to_dict(), final=True)\n",
    "\"\"\""
   ]
  },
  {
   "cell_type": "code",
   "execution_count": 3,
   "id": "35d9ece4",
   "metadata": {},
   "outputs": [],
   "source": [
    "RUNTIME_PROGRAM_METADATA = {\n",
    "    \"max_execution_time\": 600,\n",
    "    \"description\": \"Qiskit test program\"\n",
    "}"
   ]
  },
  {
   "cell_type": "code",
   "execution_count": 4,
   "id": "2e4544d6",
   "metadata": {},
   "outputs": [],
   "source": [
    "program_id = provider.runtime.upload_program(RUNTIME_PROGRAM, metadata=RUNTIME_PROGRAM_METADATA)"
   ]
  },
  {
   "cell_type": "code",
   "execution_count": 5,
   "id": "b31f5d7c",
   "metadata": {},
   "outputs": [],
   "source": [
    "N = 6\n",
    "qc = QuantumCircuit(N)\n",
    "\n",
    "qc.x(range(0, N))\n",
    "qc.h(range(0, N))\n",
    "\n",
    "for kk in range(N//2,0,-1):\n",
    "    qc.ch(kk, kk-1)\n",
    "for kk in range(N//2, N-1):\n",
    "    qc.ch(kk, kk+1)\n",
    "qc.measure_all()"
   ]
  },
  {
   "cell_type": "code",
   "execution_count": 6,
   "id": "87d90484",
   "metadata": {},
   "outputs": [],
   "source": [
    "program_inputs = {\n",
    "    'circuits': qc,\n",
    "    'shots': 2048,\n",
    "    'optimization_level': 0,\n",
    "    'initial_layout': [0,1,4,7,10,12],\n",
    "    'measurement_error_mitigation': False\n",
    "}"
   ]
  },
  {
   "cell_type": "code",
   "execution_count": 7,
   "id": "90e6a71d",
   "metadata": {},
   "outputs": [],
   "source": [
    "runtime_program = provider.runtime.program(program_id)"
   ]
  },
  {
   "cell_type": "code",
   "execution_count": 8,
   "id": "b1558ec7",
   "metadata": {},
   "outputs": [
    {
     "name": "stderr",
     "output_type": "stream",
     "text": [
      "DEBUG:qiskit_emulator.emulation_executor:creating temp directory at /tmp/tmpvf8etoij\n",
      "DEBUG:qiskit_emulator.emulation_executor:finished writing to /tmp/tmpvf8etoij/program.py\n",
      "DEBUG:qiskit_emulator.emulation_executor:finished writing to /tmp/tmpvf8etoij/params.json\n",
      "DEBUG:qiskit_emulator.emulation_executor:finished writing to /tmp/tmpvf8etoij/executor.py\n",
      "DEBUG:qiskit_emulator.emulation_executor:starting ['/root/miniconda3/envs/qruntime/bin/python', '/tmp/tmpvf8etoij/executor.py']\n",
      "DEBUG:qiskit_emulator.emulation_executor:finished executing ['/root/miniconda3/envs/qruntime/bin/python', '/tmp/tmpvf8etoij/executor.py']\n",
      "DEBUG:qiskit_emulator.emulation_executor:stdout: exit\n",
      "\n",
      "DEBUG:qiskit_emulator.emulation_executor:stderr: \n",
      "DEBUG:qiskit_emulator.emulation_executor:status: sent COMPLETED\n"
     ]
    }
   ],
   "source": [
    "job = provider.runtime.run(program_id, options=None, inputs=program_inputs)"
   ]
  },
  {
   "cell_type": "code",
   "execution_count": 9,
   "id": "8e881e4a",
   "metadata": {},
   "outputs": [
    {
     "data": {
      "text/plain": [
       "'Completed'"
      ]
     },
     "execution_count": 9,
     "metadata": {},
     "output_type": "execute_result"
    }
   ],
   "source": [
    "job.status()"
   ]
  },
  {
   "cell_type": "code",
   "execution_count": null,
   "id": "cd7d7968",
   "metadata": {},
   "outputs": [],
   "source": []
  }
 ],
 "metadata": {
  "kernelspec": {
   "display_name": "Python 3",
   "language": "python",
   "name": "python3"
  },
  "language_info": {
   "codemirror_mode": {
    "name": "ipython",
    "version": 3
   },
   "file_extension": ".py",
   "mimetype": "text/x-python",
   "name": "python",
   "nbconvert_exporter": "python",
   "pygments_lexer": "ipython3",
   "version": "3.9.5"
  }
 },
 "nbformat": 4,
 "nbformat_minor": 5
}
