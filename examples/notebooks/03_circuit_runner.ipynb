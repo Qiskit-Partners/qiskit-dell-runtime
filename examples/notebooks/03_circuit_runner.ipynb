{
 "cells": [
  {
   "cell_type": "code",
   "execution_count": 1,
   "id": "75e455b6",
   "metadata": {},
   "outputs": [],
   "source": [
    "from qiskit_emulator import EmulatorProvider\n",
    "from qiskit import QuantumCircuit\n",
    "\n",
    "provider = EmulatorProvider()"
   ]
  },
  {
   "cell_type": "code",
   "execution_count": 2,
   "id": "662400ee",
   "metadata": {},
   "outputs": [],
   "source": [
    "RUNTIME_PROGRAM = \"\"\"\n",
    "# This code is part of qiskit-runtime.\n",
    "#\n",
    "# (C) Copyright IBM 2021.\n",
    "#\n",
    "# This code is licensed under the Apache License, Version 2.0. You may\n",
    "# obtain a copy of this license in the LICENSE.txt file in the root directory\n",
    "# of this source tree or at http://www.apache.org/licenses/LICENSE-2.0.\n",
    "#\n",
    "# Any modifications or derivative works of this code must retain this\n",
    "# copyright notice, and modified files need to carry a notice indicating\n",
    "# that they have been altered from the originals.\n",
    "\n",
    "# This is a simplified version of the circuit-runner program.\n",
    "\n",
    "from qiskit.compiler import transpile, schedule\n",
    "\n",
    "\n",
    "def main(\n",
    "    backend,\n",
    "    user_messenger,\n",
    "    circuits,\n",
    "    initial_layout=None,\n",
    "    seed_transpiler=None,\n",
    "    optimization_level=None,\n",
    "    transpiler_options=None,\n",
    "    scheduling_method=None,\n",
    "    schedule_circuit=False,\n",
    "    inst_map=None,\n",
    "    meas_map=None,\n",
    "    measurement_error_mitigation=False,\n",
    "    **kwargs,\n",
    "):\n",
    "\n",
    "    # transpiling the circuits using given transpile options\n",
    "    transpiler_options = transpiler_options or {}\n",
    "    circuits = transpile(\n",
    "        circuits,\n",
    "        initial_layout=initial_layout,\n",
    "        seed_transpiler=seed_transpiler,\n",
    "        optimization_level=optimization_level,\n",
    "        backend=backend,\n",
    "        **transpiler_options,\n",
    "    )\n",
    "\n",
    "    if schedule_circuit:\n",
    "        circuits = schedule(\n",
    "            circuits=circuits,\n",
    "            backend=backend,\n",
    "            inst_map=inst_map,\n",
    "            meas_map=meas_map,\n",
    "            method=scheduling_method,\n",
    "        )\n",
    "\n",
    "    if not isinstance(circuits, list):\n",
    "        circuits = [circuits]\n",
    "\n",
    "    # Compute raw results\n",
    "    result = backend.run(circuits, **kwargs).result()\n",
    "\n",
    "    if measurement_error_mitigation:\n",
    "        # Performs measurement error mitigation.\n",
    "        pass\n",
    "\n",
    "    user_messenger.publish(result.to_dict(), final=True)\n",
    "\"\"\""
   ]
  },
  {
   "cell_type": "code",
   "execution_count": 3,
   "id": "35d9ece4",
   "metadata": {},
   "outputs": [],
   "source": [
    "RUNTIME_PROGRAM_METADATA = {\n",
    "    \"max_execution_time\": 600,\n",
    "    \"description\": \"Qiskit test program\"\n",
    "}"
   ]
  },
  {
   "cell_type": "code",
   "execution_count": 4,
   "id": "2e4544d6",
   "metadata": {},
   "outputs": [],
   "source": [
    "program_id = provider.runtime.upload_program(RUNTIME_PROGRAM, metadata=RUNTIME_PROGRAM_METADATA)"
   ]
  },
  {
   "cell_type": "code",
   "execution_count": 5,
   "id": "b31f5d7c",
   "metadata": {},
   "outputs": [],
   "source": [
    "N = 6\n",
    "qc = QuantumCircuit(N)\n",
    "\n",
    "qc.x(range(0, N))\n",
    "qc.h(range(0, N))\n",
    "\n",
    "for kk in range(N//2,0,-1):\n",
    "    qc.ch(kk, kk-1)\n",
    "for kk in range(N//2, N-1):\n",
    "    qc.ch(kk, kk+1)\n",
    "qc.measure_all()"
   ]
  },
  {
   "cell_type": "code",
   "execution_count": 6,
   "id": "87d90484",
   "metadata": {},
   "outputs": [],
   "source": [
    "program_inputs = {\n",
    "    'circuits': qc,\n",
    "    'shots': 2048,\n",
    "    'optimization_level': 0,\n",
    "    'initial_layout': [0,1,4,7,10,12],\n",
    "    'measurement_error_mitigation': False\n",
    "}"
   ]
  },
  {
   "cell_type": "code",
   "execution_count": 7,
   "id": "90e6a71d",
   "metadata": {},
   "outputs": [],
   "source": [
    "runtime_program = provider.runtime.program(program_id)"
   ]
  },
  {
   "cell_type": "code",
   "execution_count": 8,
   "id": "b1558ec7",
   "metadata": {},
   "outputs": [
    {
     "name": "stderr",
     "output_type": "stream",
     "text": [
      "DEBUG:qiskit_emulator.emulation_executor:starting ['/root/miniconda3/envs/qruntime/bin/python', '/tmp/tmp087w72ac/executor.py']\n"
     ]
    },
    {
     "name": "stdout",
     "output_type": "stream",
     "text": [
      "MESSENGER RECEIVED: {'backend_name': 'aer_simulator', 'backend_version': '0.8.2', 'qobj_id': '0c47feec-2880-4b5f-825c-f710b095804c', 'job_id': 'f5e8fb96-9e86-42c6-ac5a-2c57330afc41', 'success': True, 'results': [{'shots': 2048, 'success': True, 'data': {'counts': {'0x21': 35, '0x20': 34, '0x31': 66, '0x37': 229, '0x1': 38, '0x23': 55, '0x3f': 1020, '0x30': 59, '0x33': 139, '0x0': 38, '0x27': 130, '0x3': 73, '0x7': 132}}, 'meas_level': 2, 'header': {'clbit_labels': [['meas', 0], ['meas', 1], ['meas', 2], ['meas', 3], ['meas', 4], ['meas', 5]], 'creg_sizes': [['meas', 6]], 'global_phase': 0.0, 'memory_slots': 6, 'metadata': None, 'n_qubits': 13, 'name': 'circuit-0', 'qreg_sizes': [['q', 13]], 'qubit_labels': [['q', 0], ['q', 1], ['q', 2], ['q', 3], ['q', 4], ['q', 5], ['q', 6], ['q', 7], ['q', 8], ['q', 9], ['q', 10], ['q', 11], ['q', 12]]}, 'status': 'DONE', 'seed_simulator': 3210983101, 'metadata': {'parallel_state_update': 32, 'measure_sampling': True, 'method': 'statevector', 'parallel_shots': 1, 'device': 'CPU', 'fusion': {'applied': False, 'max_fused_qubits': 5, 'enabled': True, 'threshold': 14}}, 'time_taken': 0.0165972}], 'date': '2021-06-21T09:59:44.507840', 'status': 'COMPLETED', 'header': {'backend_name': 'aer_simulator', 'backend_version': '0.8.2'}, 'metadata': {'time_taken': 0.017729754, 'parallel_experiments': 1, 'omp_enabled': True, 'max_gpu_memory_mb': 0, 'num_mpi_processes': 1, 'max_memory_mb': 193338, 'mpi_rank': 0}, 'time_taken': 0.018233299255371094}\n",
      "{'message': {'backend_name': 'aer_simulator', 'backend_version': '0.8.2', 'qobj_id': '0c47feec-2880-4b5f-825c-f710b095804c', 'job_id': 'f5e8fb96-9e86-42c6-ac5a-2c57330afc41', 'success': True, 'results': [{'shots': 2048, 'success': True, 'data': {'counts': {'0x21': 35, '0x20': 34, '0x31': 66, '0x37': 229, '0x1': 38, '0x23': 55, '0x3f': 1020, '0x30': 59, '0x33': 139, '0x0': 38, '0x27': 130, '0x3': 73, '0x7': 132}}, 'meas_level': 2, 'header': {'clbit_labels': [['meas', 0], ['meas', 1], ['meas', 2], ['meas', 3], ['meas', 4], ['meas', 5]], 'creg_sizes': [['meas', 6]], 'global_phase': 0.0, 'memory_slots': 6, 'metadata': None, 'n_qubits': 13, 'name': 'circuit-0', 'qreg_sizes': [['q', 13]], 'qubit_labels': [['q', 0], ['q', 1], ['q', 2], ['q', 3], ['q', 4], ['q', 5], ['q', 6], ['q', 7], ['q', 8], ['q', 9], ['q', 10], ['q', 11], ['q', 12]]}, 'status': 'DONE', 'seed_simulator': 3210983101, 'metadata': {'parallel_state_update': 32, 'measure_sampling': True, 'method': 'statevector', 'parallel_shots': 1, 'device': 'CPU', 'fusion': {'applied': False, 'max_fused_qubits': 5, 'enabled': True, 'threshold': 14}}, 'time_taken': 0.0165972}], 'date': '2021-06-21T09:59:44.507840', 'status': 'COMPLETED', 'header': {'backend_name': 'aer_simulator', 'backend_version': '0.8.2'}, 'metadata': {'time_taken': 0.017729754, 'parallel_experiments': 1, 'omp_enabled': True, 'max_gpu_memory_mb': 0, 'num_mpi_processes': 1, 'max_memory_mb': 193338, 'mpi_rank': 0}, 'time_taken': 0.018233299255371094}, 'isFinal': True}\n"
     ]
    },
    {
     "name": "stderr",
     "output_type": "stream",
     "text": [
      "DEBUG:qiskit_emulator.emulation_executor:finished executing ['/root/miniconda3/envs/qruntime/bin/python', '/tmp/tmp087w72ac/executor.py']\n",
      "DEBUG:qiskit_emulator.emulation_executor:stdout: exit\n",
      "\n",
      "DEBUG:qiskit_emulator.emulation_executor:stderr: \n",
      "Exception in thread Thread-5:\n",
      "Traceback (most recent call last):\n",
      "  File \"/root/miniconda3/envs/qruntime/lib/python3.9/threading.py\", line 954, in _bootstrap_inner\n",
      "    self.run()\n",
      "  File \"/root/miniconda3/envs/qruntime/lib/python3.9/threading.py\", line 892, in run\n",
      "    self._target(*self._args, **self._kwargs)\n",
      "  File \"/root/miniconda3/envs/qruntime/lib/python3.9/site-packages/qiskit_emulator/emulator_runtime_job.py\", line 78, in poll_for_results\n",
      "    response = requests.get(url)\n",
      "  File \"/root/miniconda3/envs/qruntime/lib/python3.9/site-packages/requests/api.py\", line 76, in get\n",
      "    return request('get', url, params=params, **kwargs)\n",
      "  File \"/root/miniconda3/envs/qruntime/lib/python3.9/site-packages/requests/api.py\", line 61, in request\n",
      "    return session.request(method=method, url=url, **kwargs)\n",
      "  File \"/root/miniconda3/envs/qruntime/lib/python3.9/site-packages/requests/sessions.py\", line 528, in request\n",
      "    prep = self.prepare_request(req)\n",
      "  File \"/root/miniconda3/envs/qruntime/lib/python3.9/site-packages/requests/sessions.py\", line 456, in prepare_request\n",
      "    p.prepare(\n",
      "  File \"/root/miniconda3/envs/qruntime/lib/python3.9/site-packages/requests/models.py\", line 316, in prepare\n",
      "    self.prepare_url(url, params)\n",
      "  File \"/root/miniconda3/envs/qruntime/lib/python3.9/site-packages/requests/models.py\", line 390, in prepare_url\n",
      "    raise MissingSchema(error)\n",
      "requests.exceptions.MissingSchema: Invalid URL '/job/fix_me/results': No schema supplied. Perhaps you meant http:///job/fix_me/results?\n"
     ]
    }
   ],
   "source": [
    "job = provider.runtime.run(program_id, options=None, inputs=program_inputs)"
   ]
  },
  {
   "cell_type": "code",
   "execution_count": null,
   "id": "8e881e4a",
   "metadata": {},
   "outputs": [],
   "source": []
  }
 ],
 "metadata": {
  "kernelspec": {
   "display_name": "Python 3",
   "language": "python",
   "name": "python3"
  },
  "language_info": {
   "codemirror_mode": {
    "name": "ipython",
    "version": 3
   },
   "file_extension": ".py",
   "mimetype": "text/x-python",
   "name": "python",
   "nbconvert_exporter": "python",
   "pygments_lexer": "ipython3",
   "version": "3.9.5"
  }
 },
 "nbformat": 4,
 "nbformat_minor": 5
}
