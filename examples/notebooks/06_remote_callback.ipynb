{
 "cells": [
  {
   "cell_type": "code",
   "execution_count": 1,
   "id": "f5be0372",
   "metadata": {},
   "outputs": [],
   "source": [
    "from qiskit import QuantumCircuit, execute, transpile\n",
    "from qiskit_emulator import EmulatorProvider"
   ]
  },
  {
   "cell_type": "code",
   "execution_count": 2,
   "id": "e6a1de3d",
   "metadata": {},
   "outputs": [],
   "source": [
    "provider = EmulatorProvider()"
   ]
  },
  {
   "cell_type": "code",
   "execution_count": 3,
   "id": "f8e30955",
   "metadata": {},
   "outputs": [],
   "source": [
    "provider.remote('http://qre-vf.oro-sandbox-small1.k8s.cec.lab.emc.com')"
   ]
  },
  {
   "cell_type": "code",
   "execution_count": 4,
   "id": "d3644353",
   "metadata": {},
   "outputs": [
    {
     "data": {
      "text/plain": [
       "{'4f2b45518fa1': <qiskit.providers.ibmq.runtime.runtime_program.RuntimeProgram at 0x7f927ce798b0>}"
      ]
     },
     "execution_count": 4,
     "metadata": {},
     "output_type": "execute_result"
    }
   ],
   "source": [
    "provider.runtime.programs()"
   ]
  },
  {
   "cell_type": "code",
   "execution_count": 5,
   "id": "92fd80b3",
   "metadata": {},
   "outputs": [],
   "source": [
    "RUNTIME_PROGRAM = \"\"\"\n",
    "from qiskit.compiler import transpile, schedule\n",
    "\n",
    "\n",
    "def main(\n",
    "    backend,\n",
    "    user_messenger,\n",
    "    circuits,\n",
    "    **kwargs,\n",
    "):\n",
    "\n",
    "    user_messenger.publish({'results': 'intermittently'})\n",
    "\n",
    "    circuits = transpile(\n",
    "        circuits,\n",
    "    )\n",
    "\n",
    "    if not isinstance(circuits, list):\n",
    "        circuits = [circuits]\n",
    "\n",
    "    # Compute raw results\n",
    "    for i in range(0, 10):\n",
    "        result = backend.run(circuits, **kwargs).result()\n",
    "        user_messenger.publish({f'result_{i}': result)\n",
    "    \n",
    "    user_messenger.publish('completed', final=True)\n",
    "    print(\"job complete successfully\")\n",
    "\"\"\""
   ]
  },
  {
   "cell_type": "code",
   "execution_count": 6,
   "id": "1f2670a4",
   "metadata": {},
   "outputs": [],
   "source": [
    "RUNTIME_PROGRAM_METADATA = {\n",
    "    \"max_execution_time\": 600,\n",
    "    \"description\": \"Qiskit test program\"\n",
    "}"
   ]
  },
  {
   "cell_type": "code",
   "execution_count": 7,
   "id": "48f78fb8",
   "metadata": {},
   "outputs": [],
   "source": [
    "program_id = provider.runtime.upload_program(RUNTIME_PROGRAM, metadata=RUNTIME_PROGRAM_METADATA)"
   ]
  },
  {
   "cell_type": "code",
   "execution_count": 8,
   "id": "5f273284",
   "metadata": {},
   "outputs": [
    {
     "data": {
      "text/plain": [
       "'cb9e10dcb3dd'"
      ]
     },
     "execution_count": 8,
     "metadata": {},
     "output_type": "execute_result"
    }
   ],
   "source": [
    "program_id"
   ]
  },
  {
   "cell_type": "code",
   "execution_count": 9,
   "id": "1c87dc9b",
   "metadata": {},
   "outputs": [],
   "source": [
    "qc = QuantumCircuit(2, 2)\n",
    "qc.h(0)\n",
    "qc.cx(0, 1)\n",
    "qc.measure([0, 1], [0, 1])\n",
    "\n",
    "program_inputs = {\n",
    "    'circuits': qc,\n",
    "}"
   ]
  },
  {
   "cell_type": "code",
   "execution_count": 10,
   "id": "e5b97a08",
   "metadata": {},
   "outputs": [],
   "source": [
    "job = provider.runtime.run(program_id, options=None, inputs=program_inputs, callback=print)"
   ]
  },
  {
   "cell_type": "code",
   "execution_count": 12,
   "id": "e86a140b",
   "metadata": {},
   "outputs": [
    {
     "data": {
      "text/plain": [
       "[]"
      ]
     },
     "execution_count": 12,
     "metadata": {},
     "output_type": "execute_result"
    }
   ],
   "source": [
    "job.get_unread_messages()"
   ]
  },
  {
   "cell_type": "code",
   "execution_count": 13,
   "id": "1223b583",
   "metadata": {},
   "outputs": [
    {
     "ename": "TypeError",
     "evalue": "exceptions must derive from BaseException",
     "output_type": "error",
     "traceback": [
      "\u001b[0;31m---------------------------------------------------------------------------\u001b[0m",
      "\u001b[0;31mTypeError\u001b[0m                                 Traceback (most recent call last)",
      "\u001b[0;32m<ipython-input-13-bf06f1a63c18>\u001b[0m in \u001b[0;36m<module>\u001b[0;34m\u001b[0m\n\u001b[0;32m----> 1\u001b[0;31m \u001b[0mjob\u001b[0m\u001b[0;34m.\u001b[0m\u001b[0mresult\u001b[0m\u001b[0;34m(\u001b[0m\u001b[0mtimeout\u001b[0m\u001b[0;34m=\u001b[0m\u001b[0;36m20\u001b[0m\u001b[0;34m)\u001b[0m\u001b[0;34m\u001b[0m\u001b[0;34m\u001b[0m\u001b[0m\n\u001b[0m",
      "\u001b[0;32m~/miniconda3/envs/qruntime/lib/python3.9/site-packages/qiskit_emulator/emulator_runtime_job.py\u001b[0m in \u001b[0;36mresult\u001b[0;34m(self, timeout)\u001b[0m\n\u001b[1;32m    144\u001b[0m                 \u001b[0melapsed_time\u001b[0m \u001b[0;34m=\u001b[0m \u001b[0mtime\u001b[0m\u001b[0;34m.\u001b[0m\u001b[0mtime\u001b[0m\u001b[0;34m(\u001b[0m\u001b[0;34m)\u001b[0m \u001b[0;34m-\u001b[0m \u001b[0mstime\u001b[0m\u001b[0;34m\u001b[0m\u001b[0;34m\u001b[0m\u001b[0m\n\u001b[1;32m    145\u001b[0m                 \u001b[0;32mif\u001b[0m \u001b[0melapsed_time\u001b[0m \u001b[0;34m>=\u001b[0m \u001b[0mtimeout\u001b[0m\u001b[0;34m:\u001b[0m\u001b[0;34m\u001b[0m\u001b[0;34m\u001b[0m\u001b[0m\n\u001b[0;32m--> 146\u001b[0;31m                     \u001b[0;32mraise\u001b[0m \u001b[0;34m'Timeout while waiting for job {}.'\u001b[0m\u001b[0;34m.\u001b[0m\u001b[0mformat\u001b[0m\u001b[0;34m(\u001b[0m\u001b[0mself\u001b[0m\u001b[0;34m.\u001b[0m\u001b[0mjob_id\u001b[0m\u001b[0;34m)\u001b[0m\u001b[0;34m\u001b[0m\u001b[0;34m\u001b[0m\u001b[0m\n\u001b[0m\u001b[1;32m    147\u001b[0m                 \u001b[0mtime\u001b[0m\u001b[0;34m.\u001b[0m\u001b[0msleep\u001b[0m\u001b[0;34m(\u001b[0m\u001b[0;36m3\u001b[0m\u001b[0;34m)\u001b[0m\u001b[0;34m\u001b[0m\u001b[0;34m\u001b[0m\u001b[0m\n\u001b[1;32m    148\u001b[0m \u001b[0;34m\u001b[0m\u001b[0m\n",
      "\u001b[0;31mTypeError\u001b[0m: exceptions must derive from BaseException"
     ]
    }
   ],
   "source": [
    "job.result(timeout=20)"
   ]
  },
  {
   "cell_type": "code",
   "execution_count": 14,
   "id": "7e7e249e",
   "metadata": {},
   "outputs": [
    {
     "ename": "AttributeError",
     "evalue": "'EmulatorRuntimeJob' object has no attribute 'status'",
     "output_type": "error",
     "traceback": [
      "\u001b[0;31m---------------------------------------------------------------------------\u001b[0m",
      "\u001b[0;31mAttributeError\u001b[0m                            Traceback (most recent call last)",
      "\u001b[0;32m<ipython-input-14-0b8abe45e471>\u001b[0m in \u001b[0;36m<module>\u001b[0;34m\u001b[0m\n\u001b[0;32m----> 1\u001b[0;31m \u001b[0mjob\u001b[0m\u001b[0;34m.\u001b[0m\u001b[0mstatus\u001b[0m\u001b[0;34m(\u001b[0m\u001b[0;34m)\u001b[0m\u001b[0;34m\u001b[0m\u001b[0;34m\u001b[0m\u001b[0m\n\u001b[0m",
      "\u001b[0;31mAttributeError\u001b[0m: 'EmulatorRuntimeJob' object has no attribute 'status'"
     ]
    }
   ],
   "source": [
    "job.status()"
   ]
  },
  {
   "cell_type": "code",
   "execution_count": null,
   "id": "b8b8fadd",
   "metadata": {},
   "outputs": [],
   "source": []
  }
 ],
 "metadata": {
  "kernelspec": {
   "display_name": "Python 3",
   "language": "python",
   "name": "python3"
  },
  "language_info": {
   "codemirror_mode": {
    "name": "ipython",
    "version": 3
   },
   "file_extension": ".py",
   "mimetype": "text/x-python",
   "name": "python",
   "nbconvert_exporter": "python",
   "pygments_lexer": "ipython3",
   "version": "3.9.5"
  }
 },
 "nbformat": 4,
 "nbformat_minor": 5
}
