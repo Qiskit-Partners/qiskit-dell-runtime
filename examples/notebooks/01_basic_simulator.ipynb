{
 "cells": [
  {
   "cell_type": "code",
   "execution_count": 2,
   "id": "726eb8ac",
   "metadata": {},
   "outputs": [
    {
     "name": "stderr",
     "output_type": "stream",
     "text": [
      "/home/geoff/.local/lib/python3.6/site-packages/qiskit/__init__.py:67: DeprecationWarning: Using Qiskit with Python 3.6 is deprecated as of the 0.17.0 release. Support for running Qiskit with Python 3.6 will be removed in a future release.\n",
      "  \"future release.\", DeprecationWarning)\n"
     ]
    }
   ],
   "source": [
    "from qiskit_emulator import EmulatorProvider"
   ]
  },
  {
   "cell_type": "code",
   "execution_count": 3,
   "id": "54354970",
   "metadata": {},
   "outputs": [
    {
     "data": {
      "text/plain": [
       "[<EmulatorBackend('emulator')>]"
      ]
     },
     "execution_count": 3,
     "metadata": {},
     "output_type": "execute_result"
    }
   ],
   "source": [
    "provider = EmulatorProvider()\n",
    "provider.backends()"
   ]
  },
  {
   "cell_type": "code",
   "execution_count": 4,
   "id": "aa4aac18",
   "metadata": {},
   "outputs": [],
   "source": [
    "backend = provider.get_backend(name=\"emulator\")"
   ]
  },
  {
   "cell_type": "code",
   "execution_count": 5,
   "id": "03744412",
   "metadata": {},
   "outputs": [],
   "source": [
    "backend_config = backend.configuration()"
   ]
  },
  {
   "cell_type": "code",
   "execution_count": 6,
   "id": "1aa396b5",
   "metadata": {},
   "outputs": [
    {
     "data": {
      "text/plain": [
       "'emulator'"
      ]
     },
     "execution_count": 6,
     "metadata": {},
     "output_type": "execute_result"
    }
   ],
   "source": [
    "backend_config.backend_name"
   ]
  },
  {
   "cell_type": "code",
   "execution_count": 7,
   "id": "eeb61fae",
   "metadata": {},
   "outputs": [],
   "source": [
    "from qiskit import QuantumCircuit, execute\n",
    "\n",
    "qc = QuantumCircuit(2, 2)\n",
    "qc.h(0)\n",
    "qc.cx(0, 1)\n",
    "qc.measure([0, 1], [0, 1])\n",
    "job = backend.run(qc, shots=1024) "
   ]
  },
  {
   "cell_type": "code",
   "execution_count": 8,
   "id": "85bf5ff5",
   "metadata": {},
   "outputs": [],
   "source": [
    "result = job.result()"
   ]
  },
  {
   "cell_type": "code",
   "execution_count": 9,
   "id": "f4edac7b",
   "metadata": {},
   "outputs": [
    {
     "data": {
      "image/png": "[encoded data removed]",
      "text/plain": [
       "<Figure size 504x360 with 1 Axes>"
      ]
     },
     "execution_count": 9,
     "metadata": {},
     "output_type": "execute_result"
    }
   ],
   "source": [
    "counts = result.get_counts(qc)\n",
    "\n",
    "from qiskit.tools.visualization import plot_histogram, plot_state_city\n",
    "plot_histogram(counts, title='Bell-State counts')"
   ]
  }
 ],
 "metadata": {
  "kernelspec": {
   "display_name": "Python 3",
   "language": "python",
   "name": "python3"
  },
  "language_info": {
   "codemirror_mode": {
    "name": "ipython",
    "version": 3
   },
   "file_extension": ".py",
   "mimetype": "text/x-python",
   "name": "python",
   "nbconvert_exporter": "python",
   "pygments_lexer": "ipython3",
   "version": "3.6.9"
  }
 },
 "nbformat": 4,
 "nbformat_minor": 5
}
