{
 "cells": [
  {
   "cell_type": "code",
   "execution_count": 1,
   "id": "9275e789",
   "metadata": {},
   "outputs": [],
   "source": [
    "from qiskit_emulator import EmulatorProvider"
   ]
  },
  {
   "cell_type": "code",
   "execution_count": 2,
   "id": "a5506e37",
   "metadata": {},
   "outputs": [],
   "source": [
    "provider = EmulatorProvider()"
   ]
  },
  {
   "cell_type": "code",
   "execution_count": 3,
   "id": "086697ab",
   "metadata": {},
   "outputs": [],
   "source": [
    "provider.remote('http://qre-vf.oro-sandbox-small1.k8s.cec.lab.emc.com')"
   ]
  },
  {
   "cell_type": "code",
   "execution_count": 4,
   "id": "1903c8da",
   "metadata": {},
   "outputs": [
    {
     "data": {
      "text/plain": [
       "{'4f2b45518fa1': <qiskit.providers.ibmq.runtime.runtime_program.RuntimeProgram at 0x7f42372abf70>,\n",
       " 'cb9e10dcb3dd': <qiskit.providers.ibmq.runtime.runtime_program.RuntimeProgram at 0x7f42372abeb0>,\n",
       " 'a63f5461c788': <qiskit.providers.ibmq.runtime.runtime_program.RuntimeProgram at 0x7f42372abe50>}"
      ]
     },
     "execution_count": 4,
     "metadata": {},
     "output_type": "execute_result"
    }
   ],
   "source": [
    "provider.runtime.programs()"
   ]
  },
  {
   "cell_type": "code",
   "execution_count": 5,
   "id": "83598953",
   "metadata": {},
   "outputs": [],
   "source": [
    "RUNTIME_PROGRAM = \"\"\"\n",
    "from qiskit.compiler import transpile, schedule\n",
    "\n",
    "\n",
    "def main(\n",
    "    backend,\n",
    "    user_messenger,\n",
    "    circuits,\n",
    "    **kwargs,\n",
    "):\n",
    "\n",
    "    user_messenger.publish({'results': 'intermittently'})\n",
    "\n",
    "    circuits = transpile(\n",
    "        circuits,\n",
    "    )\n",
    "\n",
    "    if not isinstance(circuits, list):\n",
    "        circuits = [circuits]\n",
    "\n",
    "    # Compute raw results\n",
    "    result = backend.run(circuits, **kwargs).result()\n",
    "\n",
    "    user_messenger.publish({'results': 'finally'})\n",
    "    user_messenger.publish(result.to_dict(), final=True)\n",
    "    print(\"job complete successfully\")\n",
    "\"\"\""
   ]
  },
  {
   "cell_type": "code",
   "execution_count": 6,
   "id": "437bd0d6",
   "metadata": {},
   "outputs": [],
   "source": [
    "RUNTIME_PROGRAM_METADATA = {\n",
    "    \"max_execution_time\": 600,\n",
    "    \"description\": \"Qiskit test program\"\n",
    "}"
   ]
  },
  {
   "cell_type": "code",
   "execution_count": 7,
   "id": "7f0aec3d",
   "metadata": {},
   "outputs": [],
   "source": [
    "program_id = provider.runtime.upload_program(RUNTIME_PROGRAM, metadata=RUNTIME_PROGRAM_METADATA)"
   ]
  },
  {
   "cell_type": "code",
   "execution_count": 8,
   "id": "627f3709",
   "metadata": {},
   "outputs": [
    {
     "data": {
      "text/plain": [
       "{'4f2b45518fa1': <qiskit.providers.ibmq.runtime.runtime_program.RuntimeProgram at 0x7f42372abf70>,\n",
       " 'cb9e10dcb3dd': <qiskit.providers.ibmq.runtime.runtime_program.RuntimeProgram at 0x7f42372abeb0>,\n",
       " 'a63f5461c788': <qiskit.providers.ibmq.runtime.runtime_program.RuntimeProgram at 0x7f42372abe50>}"
      ]
     },
     "execution_count": 8,
     "metadata": {},
     "output_type": "execute_result"
    }
   ],
   "source": [
    "proglist = provider.runtime.programs()\n",
    "proglist"
   ]
  },
  {
   "cell_type": "code",
   "execution_count": 9,
   "id": "7bea698f",
   "metadata": {},
   "outputs": [
    {
     "data": {
      "text/plain": [
       "'ba720325586d'"
      ]
     },
     "execution_count": 9,
     "metadata": {},
     "output_type": "execute_result"
    }
   ],
   "source": [
    "program_id"
   ]
  },
  {
   "cell_type": "code",
   "execution_count": 10,
   "id": "24ec122a",
   "metadata": {},
   "outputs": [],
   "source": [
    "from qiskit import QuantumCircuit, execute, transpile\n",
    "qc = QuantumCircuit(2, 2)\n",
    "qc.h(0)\n",
    "qc.cx(0, 1)\n",
    "qc.measure([0, 1], [0, 1])\n",
    "\n",
    "program_inputs = {\n",
    "    'circuits': qc,\n",
    "}"
   ]
  },
  {
   "cell_type": "code",
   "execution_count": 11,
   "id": "9894da7c",
   "metadata": {},
   "outputs": [
    {
     "name": "stderr",
     "output_type": "stream",
     "text": [
      "Exception in thread Thread-4:\n",
      "Traceback (most recent call last):\n",
      "  File \"/home/geoff/miniconda3/envs/qruntime/lib/python3.9/threading.py\", line 954, in _bootstrap_inner\n",
      "    self.run()\n",
      "  File \"/home/geoff/miniconda3/envs/qruntime/lib/python3.9/threading.py\", line 892, in run\n",
      "    self._target(*self._args, **self._kwargs)\n",
      "  File \"/home/geoff/miniconda3/envs/qruntime/lib/python3.9/site-packages/qiskit_emulator/emulator_runtime_job.py\", line 118, in remote_poll_for_results\n",
      "    while not self._finalResults and not self._kill and not self.job_completed():     \n",
      "  File \"/home/geoff/miniconda3/envs/qruntime/lib/python3.9/site-packages/qiskit_emulator/emulator_runtime_job.py\", line 85, in job_completed\n",
      "    self.status()\n",
      "  File \"/home/geoff/miniconda3/envs/qruntime/lib/python3.9/site-packages/qiskit_emulator/emulator_runtime_job.py\", line 226, in status\n",
      "    response.raise_for_status()\n",
      "  File \"/home/geoff/miniconda3/envs/qruntime/lib/python3.9/site-packages/requests/models.py\", line 943, in raise_for_status\n",
      "    raise HTTPError(http_error_msg, response=self)\n",
      "requests.exceptions.HTTPError: 404 Client Error: NOT FOUND for url: http://qre-vf.oro-sandbox-small1.k8s.cec.lab.emc.com/job/a0830eb539aa/status\n"
     ]
    }
   ],
   "source": [
    "job = provider.runtime.run(program_id, options=None, inputs=program_inputs)"
   ]
  },
  {
   "cell_type": "code",
   "execution_count": 12,
   "id": "fc8c341a",
   "metadata": {},
   "outputs": [
    {
     "ename": "TypeError",
     "evalue": "exceptions must derive from BaseException",
     "output_type": "error",
     "traceback": [
      "\u001b[0;31m---------------------------------------------------------------------------\u001b[0m",
      "\u001b[0;31mTypeError\u001b[0m                                 Traceback (most recent call last)",
      "\u001b[0;32m<ipython-input-12-5affb8f4153b>\u001b[0m in \u001b[0;36m<module>\u001b[0;34m\u001b[0m\n\u001b[0;32m----> 1\u001b[0;31m \u001b[0mresult\u001b[0m \u001b[0;34m=\u001b[0m \u001b[0mjob\u001b[0m\u001b[0;34m.\u001b[0m\u001b[0mresult\u001b[0m\u001b[0;34m(\u001b[0m\u001b[0mtimeout\u001b[0m\u001b[0;34m=\u001b[0m\u001b[0;36m120\u001b[0m\u001b[0;34m)\u001b[0m\u001b[0;34m\u001b[0m\u001b[0;34m\u001b[0m\u001b[0m\n\u001b[0m",
      "\u001b[0;32m~/miniconda3/envs/qruntime/lib/python3.9/site-packages/qiskit_emulator/emulator_runtime_job.py\u001b[0m in \u001b[0;36mresult\u001b[0;34m(self, timeout)\u001b[0m\n\u001b[1;32m    144\u001b[0m                 \u001b[0melapsed_time\u001b[0m \u001b[0;34m=\u001b[0m \u001b[0mtime\u001b[0m\u001b[0;34m.\u001b[0m\u001b[0mtime\u001b[0m\u001b[0;34m(\u001b[0m\u001b[0;34m)\u001b[0m \u001b[0;34m-\u001b[0m \u001b[0mstime\u001b[0m\u001b[0;34m\u001b[0m\u001b[0;34m\u001b[0m\u001b[0m\n\u001b[1;32m    145\u001b[0m                 \u001b[0;32mif\u001b[0m \u001b[0melapsed_time\u001b[0m \u001b[0;34m>=\u001b[0m \u001b[0mtimeout\u001b[0m\u001b[0;34m:\u001b[0m\u001b[0;34m\u001b[0m\u001b[0;34m\u001b[0m\u001b[0m\n\u001b[0;32m--> 146\u001b[0;31m                     \u001b[0;32mraise\u001b[0m \u001b[0;34m'Timeout while waiting for job {}.'\u001b[0m\u001b[0;34m.\u001b[0m\u001b[0mformat\u001b[0m\u001b[0;34m(\u001b[0m\u001b[0mself\u001b[0m\u001b[0;34m.\u001b[0m\u001b[0mjob_id\u001b[0m\u001b[0;34m)\u001b[0m\u001b[0;34m\u001b[0m\u001b[0;34m\u001b[0m\u001b[0m\n\u001b[0m\u001b[1;32m    147\u001b[0m                 \u001b[0mtime\u001b[0m\u001b[0;34m.\u001b[0m\u001b[0msleep\u001b[0m\u001b[0;34m(\u001b[0m\u001b[0;36m3\u001b[0m\u001b[0;34m)\u001b[0m\u001b[0;34m\u001b[0m\u001b[0;34m\u001b[0m\u001b[0m\n\u001b[1;32m    148\u001b[0m \u001b[0;34m\u001b[0m\u001b[0m\n",
      "\u001b[0;31mTypeError\u001b[0m: exceptions must derive from BaseException"
     ]
    }
   ],
   "source": [
    "result = job.result(timeout=120)"
   ]
  },
  {
   "cell_type": "code",
   "execution_count": null,
   "id": "7bb49994",
   "metadata": {},
   "outputs": [],
   "source": []
  }
 ],
 "metadata": {
  "kernelspec": {
   "display_name": "qruntime",
   "language": "python",
   "name": "qruntime"
  },
  "language_info": {
   "codemirror_mode": {
    "name": "ipython",
    "version": 3
   },
   "file_extension": ".py",
   "mimetype": "text/x-python",
   "name": "python",
   "nbconvert_exporter": "python",
   "pygments_lexer": "ipython3",
   "version": "3.9.5"
  }
 },
 "nbformat": 4,
 "nbformat_minor": 5
}
