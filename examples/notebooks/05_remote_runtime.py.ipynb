{
 "cells": [
  {
   "cell_type": "code",
   "execution_count": 1,
   "id": "9275e789",
   "metadata": {},
   "outputs": [],
   "source": [
    "from qiskit_emulator import EmulatorProvider"
   ]
  },
  {
   "cell_type": "code",
   "execution_count": 2,
   "id": "a5506e37",
   "metadata": {},
   "outputs": [],
   "source": [
    "provider = EmulatorProvider()"
   ]
  },
  {
   "cell_type": "code",
   "execution_count": 3,
   "id": "086697ab",
   "metadata": {},
   "outputs": [],
   "source": [
    "provider.remote('http://qre-vf.oro-sandbox-small1.k8s.cec.lab.emc.com')"
   ]
  },
  {
   "cell_type": "code",
   "execution_count": 4,
   "id": "1903c8da",
   "metadata": {},
   "outputs": [
    {
     "data": {
      "text/plain": [
       "{}"
      ]
     },
     "execution_count": 4,
     "metadata": {},
     "output_type": "execute_result"
    }
   ],
   "source": [
    "provider.runtime.programs()"
   ]
  },
  {
   "cell_type": "code",
   "execution_count": 5,
   "id": "854f6559",
   "metadata": {},
   "outputs": [],
   "source": [
    "provider.runtime.pprint_programs()"
   ]
  },
  {
   "cell_type": "code",
   "execution_count": 6,
   "id": "83598953",
   "metadata": {},
   "outputs": [],
   "source": [
    "RUNTIME_PROGRAM = \"\"\"\n",
    "from qiskit.compiler import transpile, schedule\n",
    "\n",
    "\n",
    "def main(\n",
    "    backend,\n",
    "    user_messenger,\n",
    "    circuits,\n",
    "    **kwargs,\n",
    "):\n",
    "\n",
    "    user_messenger.publish({'results': 'intermittently'})\n",
    "\n",
    "    circuits = transpile(\n",
    "        circuits,\n",
    "    )\n",
    "\n",
    "    if not isinstance(circuits, list):\n",
    "        circuits = [circuits]\n",
    "\n",
    "    # Compute raw results\n",
    "    result = backend.run(circuits, **kwargs).result()\n",
    "\n",
    "    user_messenger.publish({'results': 'finally'})\n",
    "    user_messenger.publish(result.to_dict(), final=True)\n",
    "    print(\"job complete successfully\")\n",
    "\"\"\""
   ]
  },
  {
   "cell_type": "code",
   "execution_count": 7,
   "id": "437bd0d6",
   "metadata": {},
   "outputs": [],
   "source": [
    "RUNTIME_PROGRAM_METADATA = {\n",
    "    \"max_execution_time\": 600,\n",
    "    \"description\": \"Qiskit test program\"\n",
    "}"
   ]
  },
  {
   "cell_type": "code",
   "execution_count": 16,
   "id": "7f0aec3d",
   "metadata": {},
   "outputs": [],
   "source": [
    "program_id = provider.runtime.upload_program(RUNTIME_PROGRAM, metadata=RUNTIME_PROGRAM_METADATA)"
   ]
  },
  {
   "cell_type": "code",
   "execution_count": 17,
   "id": "627f3709",
   "metadata": {},
   "outputs": [
    {
     "data": {
      "text/plain": [
       "{'6a472dcbf845': <qiskit.providers.ibmq.runtime.runtime_program.RuntimeProgram at 0x7f73ac1a7ac0>}"
      ]
     },
     "execution_count": 17,
     "metadata": {},
     "output_type": "execute_result"
    }
   ],
   "source": [
    "proglist = provider.runtime.programs()\n",
    "proglist"
   ]
  },
  {
   "cell_type": "code",
   "execution_count": 18,
   "id": "7bea698f",
   "metadata": {},
   "outputs": [
    {
     "data": {
      "text/plain": [
       "'a96ef34a4f10'"
      ]
     },
     "execution_count": 18,
     "metadata": {},
     "output_type": "execute_result"
    }
   ],
   "source": [
    "program_id"
   ]
  },
  {
   "cell_type": "code",
   "execution_count": 19,
   "id": "427c364f",
   "metadata": {},
   "outputs": [
    {
     "name": "stdout",
     "output_type": "stream",
     "text": [
      "==================================================\n",
      "6a472dcbf845:\n",
      "  Name: 6a472dcbf845\n",
      "  Description: Qiskit test program\n",
      "  Version: 0\n",
      "  Creation date: \n",
      "  Max execution time: 600\n",
      "  Input parameters:\n",
      "    none\n",
      "  Interim results:\n",
      "    none\n",
      "  Returns:\n",
      "    none\n"
     ]
    }
   ],
   "source": [
    "provider.runtime.pprint_programs(refresh=True)"
   ]
  },
  {
   "cell_type": "code",
   "execution_count": 11,
   "id": "24ec122a",
   "metadata": {},
   "outputs": [],
   "source": [
    "from qiskit import QuantumCircuit, execute, transpile\n",
    "qc = QuantumCircuit(2, 2)\n",
    "qc.h(0)\n",
    "qc.cx(0, 1)\n",
    "qc.measure([0, 1], [0, 1])\n",
    "\n",
    "program_inputs = {\n",
    "    'circuits': qc,\n",
    "}"
   ]
  },
  {
   "cell_type": "code",
   "execution_count": 12,
   "id": "9894da7c",
   "metadata": {},
   "outputs": [],
   "source": [
    "job = provider.runtime.run(program_id, options=None, inputs=program_inputs)"
   ]
  },
  {
   "cell_type": "code",
   "execution_count": 13,
   "id": "fc8c341a",
   "metadata": {},
   "outputs": [],
   "source": [
    "result = job.result(timeout=120)"
   ]
  },
  {
   "cell_type": "code",
   "execution_count": 15,
   "id": "7bb49994",
   "metadata": {},
   "outputs": [
    {
     "data": {
      "text/plain": [
       "'Completed'"
      ]
     },
     "execution_count": 15,
     "metadata": {},
     "output_type": "execute_result"
    }
   ],
   "source": [
    "job.status()"
   ]
  },
  {
   "cell_type": "code",
   "execution_count": null,
   "id": "838b55b8",
   "metadata": {},
   "outputs": [],
   "source": []
  }
 ],
 "metadata": {
  "kernelspec": {
   "display_name": "Python 3",
   "language": "python",
   "name": "python3"
  },
  "language_info": {
   "codemirror_mode": {
    "name": "ipython",
    "version": 3
   },
   "file_extension": ".py",
   "mimetype": "text/x-python",
   "name": "python",
   "nbconvert_exporter": "python",
   "pygments_lexer": "ipython3",
   "version": "3.9.5"
  }
 },
 "nbformat": 4,
 "nbformat_minor": 5
}
