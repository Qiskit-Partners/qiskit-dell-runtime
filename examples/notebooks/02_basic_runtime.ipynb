{
 "cells": [
  {
   "cell_type": "code",
   "execution_count": 1,
   "source": [
    "from qiskit_emulator import DellHybridProvider"
   ],
   "outputs": [],
   "metadata": {}
  },
  {
   "cell_type": "code",
   "execution_count": 2,
   "source": [
    "RUNTIME_PROGRAM = \"\"\"\n",
    "import random\n",
    "\n",
    "from qiskit import transpile\n",
    "from qiskit.circuit.random import random_circuit\n",
    "\n",
    "def prepare_circuits(backend):\n",
    "    circuit = random_circuit(num_qubits=5, depth=4, measure=True,\n",
    "                            seed=random.randint(0, 1000))\n",
    "    return transpile(circuit, backend)\n",
    "\n",
    "def main(backend, user_messenger, **kwargs):\n",
    "    iterations = kwargs['iterations']\n",
    "    interim_results = kwargs.pop('interim_results', {})\n",
    "    final_result = kwargs.pop(\"final_result\", {})\n",
    "    for it in range(iterations):\n",
    "        qc = prepare_circuits(backend)\n",
    "        user_messenger.publish({\"iteration\": it, \"interim_results\": interim_results})\n",
    "        backend.run(qc).result()\n",
    "\n",
    "    user_messenger.publish(final_result, final=True)\n",
    "\"\"\""
   ],
   "outputs": [],
   "metadata": {}
  },
  {
   "cell_type": "code",
   "execution_count": 3,
   "source": [
    "RUNTIME_PROGRAM_METADATA = {\n",
    "    \"max_execution_time\": 600,\n",
    "    \"description\": \"Qiskit test program\"\n",
    "}\n",
    "\n",
    "PROGRAM_PREFIX = 'qiskit-test'"
   ],
   "outputs": [],
   "metadata": {}
  },
  {
   "cell_type": "code",
   "execution_count": 4,
   "source": [
    "provider = DellHybridProvider()\n",
    "provider.runtime.programs()\n"
   ],
   "outputs": [
    {
     "output_type": "execute_result",
     "data": {
      "text/plain": [
       "{}"
      ]
     },
     "metadata": {},
     "execution_count": 4
    }
   ],
   "metadata": {}
  },
  {
   "cell_type": "code",
   "execution_count": 5,
   "source": [
    "program_id = provider.runtime.upload_program(RUNTIME_PROGRAM, metadata=RUNTIME_PROGRAM_METADATA)"
   ],
   "outputs": [],
   "metadata": {}
  },
  {
   "cell_type": "code",
   "execution_count": 6,
   "source": [
    "provider.runtime.pprint_programs()"
   ],
   "outputs": [
    {
     "output_type": "stream",
     "name": "stdout",
     "text": [
      "==================================================\n",
      "4f6a88a199dbdf70:\n",
      "  Name: 4f6a88a199dbdf70\n",
      "  Description: Qiskit test program\n",
      "  Version: 0\n",
      "  Creation date: 25/06/2021 13:10:06\n",
      "  Max execution time: 600\n",
      "  Input parameters:\n",
      "    none\n",
      "  Interim results:\n",
      "    none\n",
      "  Returns:\n",
      "    none\n"
     ]
    }
   ],
   "metadata": {}
  },
  {
   "cell_type": "code",
   "execution_count": 7,
   "source": [
    "runtime_program = provider.runtime.program(program_id)\n",
    "program_inputs = {\n",
    "    \"iterations\": 10\n",
    "}"
   ],
   "outputs": [],
   "metadata": {}
  },
  {
   "cell_type": "code",
   "execution_count": 8,
   "source": [
    "job = provider.runtime.run(program_id, options=None, inputs=program_inputs)"
   ],
   "outputs": [
    {
     "output_type": "stream",
     "name": "stderr",
     "text": [
      "DEBUG:qiskit_emulator.emulation_executor:creating temp directory at /tmp/tmparv3xcr1\n",
      "DEBUG:qiskit_emulator.emulation_executor:finished writing to /tmp/tmparv3xcr1/program.py\n",
      "DEBUG:qiskit_emulator.emulation_executor:finished writing to /tmp/tmparv3xcr1/params.json\n",
      "DEBUG:qiskit_emulator.emulation_executor:finished writing to /tmp/tmparv3xcr1/executor.py\n",
      "DEBUG:qiskit_emulator.emulation_executor:starting ['/root/miniconda3/envs/qruntime/bin/python', '/tmp/tmparv3xcr1/executor.py']\n",
      "DEBUG:qiskit_emulator.emulation_executor:finished executing ['/root/miniconda3/envs/qruntime/bin/python', '/tmp/tmparv3xcr1/executor.py']\n",
      "DEBUG:qiskit_emulator.emulation_executor:stdout: exit\n",
      "\n",
      "DEBUG:qiskit_emulator.emulation_executor:stderr: \n",
      "DEBUG:qiskit_emulator.emulation_executor:status: sent COMPLETED\n"
     ]
    }
   ],
   "metadata": {}
  },
  {
   "cell_type": "code",
   "execution_count": 10,
   "source": [
    "job.status()"
   ],
   "outputs": [
    {
     "output_type": "execute_result",
     "data": {
      "text/plain": [
       "'Completed'"
      ]
     },
     "metadata": {},
     "execution_count": 10
    }
   ],
   "metadata": {}
  },
  {
   "cell_type": "code",
   "execution_count": null,
   "source": [],
   "outputs": [],
   "metadata": {}
  }
 ],
 "metadata": {
  "kernelspec": {
   "display_name": "Python 3",
   "language": "python",
   "name": "python3"
  },
  "language_info": {
   "codemirror_mode": {
    "name": "ipython",
    "version": 3
   },
   "file_extension": ".py",
   "mimetype": "text/x-python",
   "name": "python",
   "nbconvert_exporter": "python",
   "pygments_lexer": "ipython3",
   "version": "3.9.5"
  }
 },
 "nbformat": 4,
 "nbformat_minor": 5
}