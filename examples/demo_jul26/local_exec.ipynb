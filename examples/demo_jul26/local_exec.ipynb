{
 "cells": [
  {
   "cell_type": "code",
   "execution_count": 12,
   "metadata": {},
   "outputs": [],
   "source": [
    "'''\n",
    "    local_exec\n",
    "    IBM/Dell Qiskit Runtime Emulator Demo\n",
    "    July 26, 2021\n",
    "    \n",
    "    \n",
    "    The following notebook walks through a (simple) example usage of the \n",
    "    Qiskit Runtime Emulator in a local execution environment: i.e. potentially\n",
    "    using a locally installed simulator or a remote call directly from a\n",
    "    local machine to a remote simulator or QPU.\n",
    "'''\n",
    "\n",
    "from qiskit_emulator import EmulatorProvider\n",
    "from qiskit import QuantumCircuit\n",
    "import logging\n",
    "import requests\n",
    "import time\n",
    "import os\n",
    "\n",
    "'''\n",
    "    If the program that interacts with the simulator/QPU is small enough,\n",
    "    it can be stored as a string in the file that interfaces with the \n",
    "    provider. Both directories and files can be taken as input, as well.\n",
    "\n",
    "'''\n",
    "\n",
    "RUNTIME_PROGRAM = \"\"\"\n",
    "# This code is part of qiskit-runtime.\n",
    "#\n",
    "# (C) Copyright IBM 2021.\n",
    "#\n",
    "# This code is licensed under the Apache License, Version 2.0. You may\n",
    "# obtain a copy of this license in the LICENSE.txt file in the root directory\n",
    "# of this source tree or at http://www.apache.org/licenses/LICENSE-2.0.\n",
    "#\n",
    "# Any modifications or derivative works of this code must retain this\n",
    "# copyright notice, and modified files need to carry a notice indicating\n",
    "# that they have been altered from the originals.\n",
    "from qiskit.compiler import transpile, schedule\n",
    "\n",
    "\n",
    "def main(\n",
    "    backend,\n",
    "    user_messenger,\n",
    "    circuits,\n",
    "    **kwargs,\n",
    "):\n",
    "    circuits = transpile(\n",
    "        circuits,\n",
    "    )\n",
    "    \n",
    "    user_messenger.publish({'results': 'intermittently'}, final=False)\n",
    "\n",
    "    if not isinstance(circuits, list):\n",
    "        circuits = [circuits]\n",
    "\n",
    "    # Compute raw results using either simulator or QPU backend.\n",
    "    result = backend.run(circuits, **kwargs).result()\n",
    "\n",
    "    user_messenger.publish(result.to_dict(), final=True)\n",
    "\"\"\"\n",
    "\n",
    "RUNTIME_PROGRAM_METADATA = {\n",
    "    \"max_execution_time\": 600,\n",
    "    \"description\": \"Qiskit test program\"\n",
    "}\n",
    "\n",
    "PROGRAM_PREFIX = 'qiskit-test'\n",
    "REMOTE_RUNTIME = os.getenv(\"SERVER_URL\") \n",
    "\n",
    "logging.basicConfig(level=logging.DEBUG)"
   ]
  },
  {
   "cell_type": "code",
   "execution_count": 13,
   "metadata": {},
   "outputs": [],
   "source": [
    "'''\n",
    "    The EmulatorProvider is an interface that offers a choice of runtime\n",
    "    (local or remote) and lists which backends are available locally.\n",
    "    \n",
    "    Both the client process and the job process interact with the \n",
    "    EmulatorProvider - the client mainly uses it for the runtime while the \n",
    "    job process selects a backend from the list.\n",
    "'''\n",
    "\n",
    "provider = EmulatorProvider()"
   ]
  },
  {
   "cell_type": "code",
   "execution_count": 14,
   "metadata": {
    "scrolled": true
   },
   "outputs": [
    {
     "name": "stderr",
     "output_type": "stream",
     "text": [
      "DEBUG:qiskit_emulator.emulator_runtime_service:Have string: \n",
      "# This code is part of qiskit-runtime.\n",
      "#\n",
      "# (C) Copyright IBM 2021.\n",
      "#\n",
      "# This code is licensed under the Apache License, Version 2.0. You may\n",
      "# obtain a copy of this license in the LICENSE.txt file in the root directory\n",
      "# of this source tree or at http://www.apache.org/licenses/LICENSE-2.0.\n",
      "#\n",
      "# Any modifications or derivative works of this code must retain this\n",
      "# copyright notice, and modified files need to carry a notice indicating\n",
      "# that they have been altered from the originals.\n",
      "from qiskit.compiler import transpile, schedule\n",
      "\n",
      "\n",
      "def main(\n",
      "    backend,\n",
      "    user_messenger,\n",
      "    circuits,\n",
      "    **kwargs,\n",
      "):\n",
      "    circuits = transpile(\n",
      "        circuits,\n",
      "    )\n",
      "    \n",
      "    user_messenger.publish({'results': 'intermittently'}, final=False)\n",
      "\n",
      "    if not isinstance(circuits, list):\n",
      "        circuits = [circuits]\n",
      "\n",
      "    # Compute raw results using either simulator or QPU backend.\n",
      "    result = backend.run(circuits, **kwargs).result()\n",
      "\n",
      "    user_messenger.publish(result.to_dict(), final=True)\n",
      "\n"
     ]
    },
    {
     "name": "stdout",
     "output_type": "stream",
     "text": [
      "PROGRAM ID: x40e43d8cc2b4776\n"
     ]
    }
   ],
   "source": [
    "'''\n",
    "    The runtime is a service provided that allows clients to upload, update,\n",
    "    view, and run programs inside an execution environment. Since the client\n",
    "    has not specified a remote runtime to the provider it defaults to local.\n",
    "'''\n",
    "\n",
    "program_id = provider.runtime.upload_program(RUNTIME_PROGRAM, metadata=RUNTIME_PROGRAM_METADATA)\n",
    "print(f\"PROGRAM ID: {program_id}\")"
   ]
  },
  {
   "cell_type": "code",
   "execution_count": 15,
   "metadata": {
    "scrolled": true
   },
   "outputs": [
    {
     "name": "stdout",
     "output_type": "stream",
     "text": [
      "==================================================\n",
      "x40e43d8cc2b4776:\n",
      "  Name: x40e43d8cc2b4776\n",
      "  Description: Qiskit test program\n",
      "  Version: 0\n",
      "  Creation date: 27/07/2021 20:14:05\n",
      "  Max execution time: 600\n",
      "  Input parameters:\n",
      "    none\n",
      "  Interim results:\n",
      "    none\n",
      "  Returns:\n",
      "    none\n"
     ]
    }
   ],
   "source": [
    "programs = provider.runtime.pprint_programs(refresh=True)"
   ]
  },
  {
   "cell_type": "code",
   "execution_count": 16,
   "metadata": {
    "scrolled": false
   },
   "outputs": [
    {
     "data": {
      "text/plain": [
       "True"
      ]
     },
     "execution_count": 16,
     "metadata": {},
     "output_type": "execute_result"
    }
   ],
   "source": [
    "provider.runtime.update_program(program_id, description=\"IBM/Dell Updated Qiskit Runtime Program\")"
   ]
  },
  {
   "cell_type": "code",
   "execution_count": 17,
   "metadata": {},
   "outputs": [
    {
     "name": "stdout",
     "output_type": "stream",
     "text": [
      "==================================================\n",
      "x40e43d8cc2b4776:\n",
      "  Name: x40e43d8cc2b4776\n",
      "  Description: IBM/Dell Updated Qiskit Runtime Program\n",
      "  Version: 0\n",
      "  Creation date: 27/07/2021 20:14:05\n",
      "  Max execution time: 600\n",
      "  Input parameters:\n",
      "    none\n",
      "  Interim results:\n",
      "    none\n",
      "  Returns:\n",
      "    none\n"
     ]
    }
   ],
   "source": [
    "programs = provider.runtime.pprint_programs(refresh=True)"
   ]
  },
  {
   "cell_type": "code",
   "execution_count": 18,
   "metadata": {},
   "outputs": [],
   "source": [
    "'''\n",
    "    Setting up QuantumCircuit objects from Qiskit to provide as inputs\n",
    "    to the program we uploaded.\n",
    "'''\n",
    "\n",
    "qc = QuantumCircuit(2, 2)\n",
    "qc.h(0)\n",
    "qc.cx(0, 1)\n",
    "qc.measure([0, 1], [0, 1])\n",
    "\n",
    "program_inputs = {\n",
    "    'circuits': qc,\n",
    "}"
   ]
  },
  {
   "cell_type": "code",
   "execution_count": 19,
   "metadata": {},
   "outputs": [
    {
     "name": "stderr",
     "output_type": "stream",
     "text": [
      "DEBUG:qiskit_emulator.emulator_runtime_job:42033\n",
      "DEBUG:root:starting to listen to port 42033\n",
      "DEBUG:qiskit_emulator.emulation_executor:creating temp directory at /tmp/tmpf2wjq175\n",
      "DEBUG:qiskit_emulator.emulation_executor:finished writing to /tmp/tmpf2wjq175/program.py\n",
      "DEBUG:qiskit_emulator.emulation_executor:finished writing to /tmp/tmpf2wjq175/params.json\n",
      "DEBUG:qiskit_emulator.emulation_executor:finished writing to /tmp/tmpf2wjq175/executor.py\n",
      "DEBUG:qiskit_emulator.emulation_executor:starting ['/home/geoff/miniconda3/envs/qruntime/bin/python3', '/tmp/tmpf2wjq175/executor.py']\n",
      "DEBUG:root:accepted client connection from ('127.0.0.1', 41732)\n",
      "DEBUG:qiskit_emulator.emulator_runtime_job:result: got final result.\n",
      "DEBUG:qiskit_emulator.emulator_runtime_job:local thread: exiting\n",
      "DEBUG:qiskit_emulator.emulation_executor:finished executing ['/home/geoff/miniconda3/envs/qruntime/bin/python3', '/tmp/tmpf2wjq175/executor.py']\n",
      "DEBUG:qiskit_emulator.emulation_executor:stdout: using default backend: aer_simulator\n",
      "exit\n",
      "\n",
      "DEBUG:qiskit_emulator.emulation_executor:stderr: \n",
      "DEBUG:qiskit_emulator.emulation_executor:status: sent COMPLETED\n"
     ]
    }
   ],
   "source": [
    "'''\n",
    "    Through the provider we can run an instance of our program with the\n",
    "    inputs we have just created. \n",
    "    \n",
    "    When we run a job locally, we launch a separate process and communicate with the\n",
    "    client process via a socket connection.\n",
    "'''\n",
    "\n",
    "job = provider.runtime.run(program_id, options=None, inputs=program_inputs)"
   ]
  },
  {
   "cell_type": "code",
   "execution_count": 20,
   "metadata": {},
   "outputs": [
    {
     "name": "stdout",
     "output_type": "stream",
     "text": [
      "{'backend_name': 'aer_simulator', 'backend_version': '0.8.2', 'qobj_id': 'a400efac-2e1a-4dad-b0aa-59236fa4a46f', 'job_id': 'c9a83985-816b-41e6-ae64-e65ed9ec8c50', 'success': True, 'results': [{'shots': 1024, 'success': True, 'data': {'counts': {'0x3': 532, '0x0': 492}}, 'meas_level': 2, 'header': {'clbit_labels': [['c', 0], ['c', 1]], 'creg_sizes': [['c', 2]], 'global_phase': 0.0, 'memory_slots': 2, 'metadata': None, 'n_qubits': 2, 'name': 'circuit-3', 'qreg_sizes': [['q', 2]], 'qubit_labels': [['q', 0], ['q', 1]]}, 'status': 'DONE', 'seed_simulator': 2247815692, 'metadata': {'parallel_state_update': 2, 'measure_sampling': True, 'method': 'stabilizer', 'parallel_shots': 1, 'device': 'CPU', 'fusion': {'enabled': False}}, 'time_taken': 0.002237244}], 'date': '2021-07-27T20:14:58.417123', 'status': 'COMPLETED', 'header': {'backend_name': 'aer_simulator', 'backend_version': '0.8.2'}, 'metadata': {'time_taken': 0.002408358, 'parallel_experiments': 1, 'omp_enabled': True, 'max_gpu_memory_mb': 0, 'num_mpi_processes': 1, 'max_memory_mb': 16040, 'mpi_rank': 0}, 'time_taken': 0.00254058837890625}\n"
     ]
    }
   ],
   "source": [
    "'''\n",
    "    We can obtain job results and specify a timeout if desired.\n",
    "    If we do not specify a timeout, the function call returns immediately,\n",
    "    either with None or the final results if they are present.\n",
    "'''\n",
    "\n",
    "results = job.result(timeout=60)\n",
    "print(results)"
   ]
  },
  {
   "cell_type": "code",
   "execution_count": 21,
   "metadata": {},
   "outputs": [],
   "source": [
    "'''\n",
    "    We can also provide a callback function to the runtime.\n",
    "    A thread launched in the client process that polls for messages\n",
    "    calls the callback function whenever it receives a non-final message.\n",
    "'''\n",
    "\n",
    "def callback_function(msg):\n",
    "    print(f'******************\\n\\n\\nFrom Callback Function: {msg}\\n\\n\\n******************')\n",
    "    "
   ]
  },
  {
   "cell_type": "code",
   "execution_count": 22,
   "metadata": {
    "scrolled": false
   },
   "outputs": [
    {
     "name": "stderr",
     "output_type": "stream",
     "text": [
      "DEBUG:qiskit_emulator.emulator_runtime_job:43879\n",
      "DEBUG:root:starting to listen to port 43879\n",
      "DEBUG:qiskit_emulator.emulation_executor:creating temp directory at /tmp/tmpcdovp3jb\n",
      "DEBUG:qiskit_emulator.emulation_executor:finished writing to /tmp/tmpcdovp3jb/program.py\n",
      "DEBUG:qiskit_emulator.emulation_executor:finished writing to /tmp/tmpcdovp3jb/params.json\n",
      "DEBUG:qiskit_emulator.emulation_executor:finished writing to /tmp/tmpcdovp3jb/executor.py\n",
      "DEBUG:qiskit_emulator.emulation_executor:starting ['/home/geoff/miniconda3/envs/qruntime/bin/python3', '/tmp/tmpcdovp3jb/executor.py']\n",
      "DEBUG:root:accepted client connection from ('127.0.0.1', 41512)\n",
      "DEBUG:qiskit_emulator.emulator_runtime_job:result: got final result.\n",
      "DEBUG:qiskit_emulator.emulator_runtime_job:local thread: exiting\n",
      "DEBUG:qiskit_emulator.emulation_executor:finished executing ['/home/geoff/miniconda3/envs/qruntime/bin/python3', '/tmp/tmpcdovp3jb/executor.py']\n",
      "DEBUG:qiskit_emulator.emulation_executor:stdout: using default backend: aer_simulator\n",
      "exit\n",
      "\n",
      "DEBUG:qiskit_emulator.emulation_executor:stderr: \n",
      "DEBUG:qiskit_emulator.emulation_executor:status: sent COMPLETED\n"
     ]
    },
    {
     "name": "stdout",
     "output_type": "stream",
     "text": [
      "******************\n",
      "\n",
      "\n",
      "From Callback Function: {'results': 'intermittently'}\n",
      "\n",
      "\n",
      "******************\n"
     ]
    }
   ],
   "source": [
    "job = provider.runtime.run(program_id, inputs=program_inputs, options=None, callback=callback_function)"
   ]
  },
  {
   "cell_type": "code",
   "execution_count": 23,
   "metadata": {
    "scrolled": true
   },
   "outputs": [
    {
     "name": "stderr",
     "output_type": "stream",
     "text": [
      "DEBUG:qiskit_emulator.emulator_runtime_job:48719\n",
      "DEBUG:root:starting to listen to port 48719\n",
      "DEBUG:qiskit_emulator.emulation_executor:creating temp directory at /tmp/tmpd5jitvng\n",
      "DEBUG:qiskit_emulator.emulation_executor:finished writing to /tmp/tmpd5jitvng/program.py\n",
      "DEBUG:qiskit_emulator.emulation_executor:finished writing to /tmp/tmpd5jitvng/params.json\n",
      "DEBUG:qiskit_emulator.emulation_executor:finished writing to /tmp/tmpd5jitvng/executor.py\n",
      "DEBUG:qiskit_emulator.emulation_executor:starting ['/home/geoff/miniconda3/envs/qruntime/bin/python3', '/tmp/tmpd5jitvng/executor.py']\n",
      "DEBUG:root:accepted client connection from ('127.0.0.1', 51954)\n",
      "DEBUG:qiskit_emulator.emulator_runtime_job:result: got final result.\n",
      "DEBUG:qiskit_emulator.emulator_runtime_job:local thread: exiting\n",
      "DEBUG:qiskit_emulator.emulation_executor:finished executing ['/home/geoff/miniconda3/envs/qruntime/bin/python3', '/tmp/tmpd5jitvng/executor.py']\n",
      "DEBUG:qiskit_emulator.emulation_executor:stdout: {'circuits': <qiskit.circuit.quantumcircuit.QuantumCircuit object at 0x7f553f874ee0>, 'backend_name': 'emulator'}\n",
      "using backend: emulator\n",
      "exit\n",
      "\n",
      "DEBUG:qiskit_emulator.emulation_executor:stderr: \n",
      "DEBUG:qiskit_emulator.emulation_executor:status: sent COMPLETED\n"
     ]
    },
    {
     "name": "stdout",
     "output_type": "stream",
     "text": [
      "******************\n",
      "\n",
      "\n",
      "From Callback Function: {'results': 'intermittently'}\n",
      "\n",
      "\n",
      "******************\n"
     ]
    }
   ],
   "source": [
    "'''\n",
    "    We can also specify a different backend to run the quantum portions on. \n",
    "    The default backend is the Aer simulator.\n",
    "'''\n",
    "\n",
    "program_inputs['backend_name'] = 'emulator'\n",
    "job = provider.runtime.run(program_id, inputs=program_inputs, options=None, callback=callback_function)"
   ]
  },
  {
   "cell_type": "code",
   "execution_count": null,
   "metadata": {},
   "outputs": [],
   "source": []
  }
 ],
 "metadata": {
  "kernelspec": {
   "display_name": "qruntime",
   "language": "python",
   "name": "qruntime"
  },
  "language_info": {
   "codemirror_mode": {
    "name": "ipython",
    "version": 3
   },
   "file_extension": ".py",
   "mimetype": "text/x-python",
   "name": "python",
   "nbconvert_exporter": "python",
   "pygments_lexer": "ipython3",
   "version": "3.9.5"
  }
 },
 "nbformat": 4,
 "nbformat_minor": 2
}
