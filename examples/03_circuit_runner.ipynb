{
 "cells": [
  {
   "cell_type": "code",
   "execution_count": 1,
   "id": "75e455b6",
   "metadata": {},
   "outputs": [],
   "source": [
    "from qiskit_emulator import EmulatorProvider\n",
    "from qiskit import QuantumCircuit\n",
    "\n",
    "provider = EmulatorProvider()"
   ]
  },
  {
   "cell_type": "code",
   "execution_count": 2,
   "id": "662400ee",
   "metadata": {},
   "outputs": [],
   "source": [
    "RUNTIME_PROGRAM = \"\"\"\n",
    "# This code is part of qiskit-runtime.\n",
    "#\n",
    "# (C) Copyright IBM 2021.\n",
    "#\n",
    "# This code is licensed under the Apache License, Version 2.0. You may\n",
    "# obtain a copy of this license in the LICENSE.txt file in the root directory\n",
    "# of this source tree or at http://www.apache.org/licenses/LICENSE-2.0.\n",
    "#\n",
    "# Any modifications or derivative works of this code must retain this\n",
    "# copyright notice, and modified files need to carry a notice indicating\n",
    "# that they have been altered from the originals.\n",
    "\n",
    "# This is a simplified version of the circuit-runner program.\n",
    "\n",
    "from qiskit.compiler import transpile, schedule\n",
    "\n",
    "\n",
    "def main(\n",
    "    backend,\n",
    "    user_messenger,\n",
    "    circuits,\n",
    "    initial_layout=None,\n",
    "    seed_transpiler=None,\n",
    "    optimization_level=None,\n",
    "    transpiler_options=None,\n",
    "    scheduling_method=None,\n",
    "    schedule_circuit=False,\n",
    "    inst_map=None,\n",
    "    meas_map=None,\n",
    "    measurement_error_mitigation=False,\n",
    "    **kwargs,\n",
    "):\n",
    "\n",
    "    # transpiling the circuits using given transpile options\n",
    "    transpiler_options = transpiler_options or {}\n",
    "    circuits = transpile(\n",
    "        circuits,\n",
    "        initial_layout=initial_layout,\n",
    "        seed_transpiler=seed_transpiler,\n",
    "        optimization_level=optimization_level,\n",
    "        backend=backend,\n",
    "        **transpiler_options,\n",
    "    )\n",
    "\n",
    "    if schedule_circuit:\n",
    "        circuits = schedule(\n",
    "            circuits=circuits,\n",
    "            backend=backend,\n",
    "            inst_map=inst_map,\n",
    "            meas_map=meas_map,\n",
    "            method=scheduling_method,\n",
    "        )\n",
    "\n",
    "    if not isinstance(circuits, list):\n",
    "        circuits = [circuits]\n",
    "\n",
    "    # Compute raw results\n",
    "    result = backend.run(circuits, **kwargs).result()\n",
    "\n",
    "    if measurement_error_mitigation:\n",
    "        # Performs measurement error mitigation.\n",
    "        pass\n",
    "\n",
    "    user_messenger.publish(result.to_dict(), final=True)\n",
    "\"\"\""
   ]
  },
  {
   "cell_type": "code",
   "execution_count": 3,
   "id": "35d9ece4",
   "metadata": {},
   "outputs": [],
   "source": [
    "RUNTIME_PROGRAM_METADATA = {\n",
    "    \"max_execution_time\": 600,\n",
    "    \"description\": \"Qiskit test program\"\n",
    "}"
   ]
  },
  {
   "cell_type": "code",
   "execution_count": 4,
   "id": "2e4544d6",
   "metadata": {},
   "outputs": [],
   "source": [
    "program_id = provider.runtime.upload_program(RUNTIME_PROGRAM, metadata=RUNTIME_PROGRAM_METADATA)"
   ]
  },
  {
   "cell_type": "code",
   "execution_count": 5,
   "id": "b31f5d7c",
   "metadata": {},
   "outputs": [],
   "source": [
    "N = 6\n",
    "qc = QuantumCircuit(N)\n",
    "\n",
    "qc.x(range(0, N))\n",
    "qc.h(range(0, N))\n",
    "\n",
    "for kk in range(N//2,0,-1):\n",
    "    qc.ch(kk, kk-1)\n",
    "for kk in range(N//2, N-1):\n",
    "    qc.ch(kk, kk+1)\n",
    "qc.measure_all()"
   ]
  },
  {
   "cell_type": "code",
   "execution_count": 6,
   "id": "87d90484",
   "metadata": {},
   "outputs": [],
   "source": [
    "program_inputs = {\n",
    "    'circuits': qc,\n",
    "    'shots': 2048,\n",
    "    'optimization_level': 0,\n",
    "    'initial_layout': [0,1,4,7,10,12],\n",
    "    'measurement_error_mitigation': False\n",
    "}"
   ]
  },
  {
   "cell_type": "code",
   "execution_count": 7,
   "id": "90e6a71d",
   "metadata": {},
   "outputs": [],
   "source": [
    "runtime_program = provider.runtime.program(program_id)"
   ]
  },
  {
   "cell_type": "code",
   "execution_count": 8,
   "id": "b1558ec7",
   "metadata": {},
   "outputs": [
    {
     "name": "stdout",
     "output_type": "stream",
     "text": [
      "MESSENGER RECEIVED: {'backend_name': 'aer_simulator', 'backend_version': '0.8.2', 'qobj_id': 'f0ef11de-9134-4e77-8f1e-0cbc7e42ad2f', 'job_id': 'eedbbbef-88c5-438f-9115-fe9dfef66ce4', 'success': True, 'results': [{'shots': 2048, 'success': True, 'data': {'counts': {'0x21': 41, '0x3f': 1032, '0x0': 28, '0x37': 257, '0x20': 26, '0x27': 133, '0x7': 114, '0x30': 51, '0x31': 69, '0x3': 59, '0x23': 64, '0x33': 138, '0x1': 36}}, 'meas_level': 2, 'header': {'clbit_labels': [['meas', 0], ['meas', 1], ['meas', 2], ['meas', 3], ['meas', 4], ['meas', 5]], 'creg_sizes': [['meas', 6]], 'global_phase': 0.0, 'memory_slots': 6, 'metadata': None, 'n_qubits': 13, 'name': 'circuit-0', 'qreg_sizes': [['q', 13]], 'qubit_labels': [['q', 0], ['q', 1], ['q', 2], ['q', 3], ['q', 4], ['q', 5], ['q', 6], ['q', 7], ['q', 8], ['q', 9], ['q', 10], ['q', 11], ['q', 12]]}, 'status': 'DONE', 'seed_simulator': 3703827618, 'metadata': {'method': 'statevector', 'device': 'CPU', 'measure_sampling': True, 'parallel_state_update': 12, 'parallel_shots': 1, 'fusion': {'enabled': True, 'threshold': 14, 'max_fused_qubits': 5, 'applied': False}}, 'time_taken': 0.0049071}], 'date': '2021-06-01T09:08:01.062133', 'status': 'COMPLETED', 'header': {'backend_name': 'aer_simulator', 'backend_version': '0.8.2'}, 'metadata': {'parallel_experiments': 1, 'omp_enabled': True, 'max_memory_mb': 32443, 'max_gpu_memory_mb': 0, 'mpi_rank': 0, 'num_mpi_processes': 1, 'time_taken': 0.0052196}, 'time_taken': 0.006002664566040039}\n"
     ]
    }
   ],
   "source": [
    "job = provider.runtime.run(program_id, options=None, inputs=program_inputs)"
   ]
  },
  {
   "cell_type": "code",
   "execution_count": null,
   "id": "8e881e4a",
   "metadata": {},
   "outputs": [],
   "source": []
  }
 ],
 "metadata": {
  "kernelspec": {
   "display_name": "Python 3",
   "language": "python",
   "name": "python3"
  },
  "language_info": {
   "codemirror_mode": {
    "name": "ipython",
    "version": 3
   },
   "file_extension": ".py",
   "mimetype": "text/x-python",
   "name": "python",
   "nbconvert_exporter": "python",
   "pygments_lexer": "ipython3",
   "version": "3.7.3"
  }
 },
 "nbformat": 4,
 "nbformat_minor": 5
}
