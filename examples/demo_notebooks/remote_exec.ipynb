{
 "cells": [
  {
   "cell_type": "code",
   "execution_count": null,
   "metadata": {},
   "outputs": [],
   "source": [
    "'''\n",
    "    remote_exec\n",
    "    IBM/Dell Qiskit Runtime Emulator Demo\n",
    "    July 26, 2021\n",
    "    \n",
    "    \n",
    "    The following notebook walks through a (simple) example usage of the \n",
    "    Qiskit Runtime Emulator in a remote execution environment: i.e. one in\n",
    "    a Kubernetes cluster or deployed anywhere that is not the client machine.\n",
    "'''\n",
    "\n",
    "\n",
    "from qiskit_emulator import DellHybridProvider\n",
    "from qiskit import QuantumCircuit\n",
    "import logging\n",
    "import requests\n",
    "import time\n",
    "import os\n",
    "\n",
    "RUNTIME_PROGRAM = \"\"\"\n",
    "# This code is part of qiskit-runtime.\n",
    "#\n",
    "# (C) Copyright IBM 2021.\n",
    "#\n",
    "# This code is licensed under the Apache License, Version 2.0. You may\n",
    "# obtain a copy of this license in the LICENSE.txt file in the root directory\n",
    "# of this source tree or at http://www.apache.org/licenses/LICENSE-2.0.\n",
    "#\n",
    "# Any modifications or derivative works of this code must retain this\n",
    "# copyright notice, and modified files need to carry a notice indicating\n",
    "# that they have been altered from the originals.\n",
    "from qiskit.compiler import transpile, schedule\n",
    "\n",
    "\n",
    "def main(\n",
    "    backend,\n",
    "    user_messenger,\n",
    "    circuits,\n",
    "    **kwargs,\n",
    "):\n",
    "    circuits = transpile(\n",
    "        circuits,\n",
    "    )\n",
    "    \n",
    "    user_messenger.publish({'results': 'intermittently'}, final=False)\n",
    "\n",
    "    if not isinstance(circuits, list):\n",
    "        circuits = [circuits]\n",
    "\n",
    "    # Compute raw results\n",
    "    result = backend.run(circuits, **kwargs).result()\n",
    "\n",
    "    user_messenger.publish(result.to_dict(), final=True)\n",
    "\"\"\"\n",
    "\n",
    "RUNTIME_PROGRAM_METADATA = {\n",
    "    \"max_execution_time\": 600,\n",
    "    \"description\": \"Qiskit test program\"\n",
    "}\n",
    "\n",
    "PROGRAM_PREFIX = 'qiskit-test'\n",
    "REMOTE_RUNTIME = os.getenv(\"SERVER_URL\") \n",
    "\n",
    "logging.basicConfig(level=logging.DEBUG)"
   ]
  },
  {
   "cell_type": "code",
   "execution_count": null,
   "metadata": {},
   "outputs": [],
   "source": [
    "'''\n",
    "    The main difference between the local and remote runtime interfaces\n",
    "    is here: `provider.remote(URL_OF_REMOTE)`\n",
    "    \n",
    "    This function connects the client to the remote environment and, if \n",
    "    necessary, logs them in through SSO if enabled. \n",
    "'''\n",
    "\n",
    "provider = DellHybridProvider()\n",
    "provider.remote(REMOTE_RUNTIME)"
   ]
  },
  {
   "cell_type": "code",
   "execution_count": null,
   "metadata": {},
   "outputs": [],
   "source": [
    "'''\n",
    "    Uploading a program works exactly the same as locally\n",
    "'''\n",
    "\n",
    "text_program_id = provider.runtime.upload_program(RUNTIME_PROGRAM, metadata=RUNTIME_PROGRAM_METADATA)\n",
    "print(f\"PROGRAM ID: {text_program_id}\")"
   ]
  },
  {
   "cell_type": "code",
   "execution_count": null,
   "metadata": {
    "scrolled": true
   },
   "outputs": [],
   "source": [
    "programs = provider.runtime.pprint_programs(refresh=True)"
   ]
  },
  {
   "cell_type": "code",
   "execution_count": null,
   "metadata": {
    "scrolled": false
   },
   "outputs": [],
   "source": [
    "provider.runtime.update_program(text_program_id, description=\"IBM/Dell Updated Qiskit Runtime Program\")"
   ]
  },
  {
   "cell_type": "code",
   "execution_count": null,
   "metadata": {
    "scrolled": false
   },
   "outputs": [],
   "source": [
    "programs = provider.runtime.pprint_programs(refresh=True)"
   ]
  },
  {
   "cell_type": "code",
   "execution_count": null,
   "metadata": {
    "scrolled": false
   },
   "outputs": [],
   "source": [
    "'''\n",
    "    This can also be done locally - but if the provided string to upload_program\n",
    "    is a file or directory path, the upload function will grab the contents \n",
    "    and send those to the remote orchestrator.\n",
    "'''\n",
    "\n",
    "\n",
    "file_program_id = provider.runtime.upload_program(\"qka.py\", description=\"File Upload to Orchestrator\")"
   ]
  },
  {
   "cell_type": "code",
   "execution_count": null,
   "metadata": {
    "scrolled": true
   },
   "outputs": [],
   "source": [
    "dir_program_id = provider.runtime.upload_program(\"./qkad\", description=\"Directory Upload to Orchestrator\")"
   ]
  },
  {
   "cell_type": "code",
   "execution_count": null,
   "metadata": {
    "scrolled": false
   },
   "outputs": [],
   "source": [
    "provider.runtime.pprint_programs(refresh=True)"
   ]
  },
  {
   "cell_type": "code",
   "execution_count": null,
   "metadata": {},
   "outputs": [],
   "source": [
    "qc = QuantumCircuit(2, 2)\n",
    "qc.h(0)\n",
    "qc.cx(0, 1)\n",
    "qc.measure([0, 1], [0, 1])\n",
    "\n",
    "program_inputs = {\n",
    "    'circuits': qc,\n",
    "}"
   ]
  },
  {
   "cell_type": "code",
   "execution_count": null,
   "metadata": {
    "scrolled": true
   },
   "outputs": [],
   "source": [
    "job = provider.runtime.run(text_program_id, options=None, inputs=program_inputs)"
   ]
  },
  {
   "cell_type": "code",
   "execution_count": null,
   "metadata": {
    "scrolled": false
   },
   "outputs": [],
   "source": [
    "results = job.result(timeout=60)\n",
    "print(results)"
   ]
  },
  {
   "cell_type": "code",
   "execution_count": null,
   "metadata": {},
   "outputs": [],
   "source": [
    "def callback_function(msg):\n",
    "    print(f'******************\\n\\n\\nFrom Callback Function: {msg}\\n\\n\\n******************')\n",
    "    "
   ]
  },
  {
   "cell_type": "code",
   "execution_count": null,
   "metadata": {
    "scrolled": true
   },
   "outputs": [],
   "source": [
    "program_inputs['backend_name'] = 'emulator'\n",
    "job = provider.runtime.run(dir_program_id, inputs=program_inputs, options=None, callback=callback_function)"
   ]
  },
  {
   "cell_type": "code",
   "execution_count": null,
   "metadata": {
    "scrolled": true
   },
   "outputs": [],
   "source": [
    "results = job.result(timeout=600)\n",
    "print(results)"
   ]
  },
  {
   "cell_type": "code",
   "execution_count": null,
   "metadata": {},
   "outputs": [],
   "source": []
  }
 ],
 "metadata": {
  "kernelspec": {
   "display_name": "qruntime",
   "language": "python",
   "name": "qruntime"
  },
  "language_info": {
   "codemirror_mode": {
    "name": "ipython",
    "version": 3
   },
   "file_extension": ".py",
   "mimetype": "text/x-python",
   "name": "python",
   "nbconvert_exporter": "python",
   "pygments_lexer": "ipython3",
   "version": "3.9.5"
  }
 },
 "nbformat": 4,
 "nbformat_minor": 2
}
