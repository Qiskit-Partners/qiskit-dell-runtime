{
 "cells": [
  {
   "cell_type": "code",
   "execution_count": 1,
   "metadata": {},
   "outputs": [],
   "source": [
    "'''\n",
    "    remote_exec\n",
    "    IBM/Dell Qiskit Runtime Emulator Demo\n",
    "    July 26, 2021\n",
    "    \n",
    "    \n",
    "    The following notebook walks through a (simple) example usage of the \n",
    "    Qiskit Runtime Emulator in a remote execution environment: i.e. one in\n",
    "    a Kubernetes cluster or deployed anywhere that is not the client machine.\n",
    "'''\n",
    "\n",
    "\n",
    "from qiskit_emulator import EmulatorProvider\n",
    "from qiskit import QuantumCircuit\n",
    "import logging\n",
    "import requests\n",
    "import time\n",
    "import os\n",
    "\n",
    "RUNTIME_PROGRAM = \"\"\"\n",
    "# This code is part of qiskit-runtime.\n",
    "#\n",
    "# (C) Copyright IBM 2021.\n",
    "#\n",
    "# This code is licensed under the Apache License, Version 2.0. You may\n",
    "# obtain a copy of this license in the LICENSE.txt file in the root directory\n",
    "# of this source tree or at http://www.apache.org/licenses/LICENSE-2.0.\n",
    "#\n",
    "# Any modifications or derivative works of this code must retain this\n",
    "# copyright notice, and modified files need to carry a notice indicating\n",
    "# that they have been altered from the originals.\n",
    "from qiskit.compiler import transpile, schedule\n",
    "\n",
    "\n",
    "def main(\n",
    "    backend,\n",
    "    user_messenger,\n",
    "    circuits,\n",
    "    **kwargs,\n",
    "):\n",
    "    circuits = transpile(\n",
    "        circuits,\n",
    "    )\n",
    "    \n",
    "    user_messenger.publish({'results': 'intermittently'}, final=False)\n",
    "\n",
    "    if not isinstance(circuits, list):\n",
    "        circuits = [circuits]\n",
    "\n",
    "    # Compute raw results\n",
    "    result = backend.run(circuits, **kwargs).result()\n",
    "\n",
    "    user_messenger.publish(result.to_dict(), final=True)\n",
    "\"\"\"\n",
    "\n",
    "RUNTIME_PROGRAM_METADATA = {\n",
    "    \"max_execution_time\": 600,\n",
    "    \"description\": \"Qiskit test program\"\n",
    "}\n",
    "\n",
    "PROGRAM_PREFIX = 'qiskit-test'\n",
    "REMOTE_RUNTIME = os.getenv(\"SERVER_URL\") \n",
    "\n",
    "logging.basicConfig(level=logging.DEBUG)"
   ]
  },
  {
   "cell_type": "code",
   "execution_count": 2,
   "metadata": {},
   "outputs": [
    {
     "name": "stderr",
     "output_type": "stream",
     "text": [
      "INFO:qiskit.compiler.assembler:Total Assembly Time - 0.08130 (ms)\n",
      "INFO:qiskit.compiler.assembler:Total Assembly Time - 0.05889 (ms)\n",
      "INFO:qiskit.compiler.assembler:Total Assembly Time - 0.05507 (ms)\n",
      "INFO:qiskit.compiler.assembler:Total Assembly Time - 0.05341 (ms)\n",
      "INFO:qiskit.compiler.assembler:Total Assembly Time - 0.05317 (ms)\n",
      "INFO:qiskit.compiler.assembler:Total Assembly Time - 0.05293 (ms)\n",
      "INFO:qiskit.compiler.assembler:Total Assembly Time - 0.05364 (ms)\n",
      "INFO:qiskit.compiler.assembler:Total Assembly Time - 0.05198 (ms)\n",
      "INFO:qiskit.compiler.assembler:Total Assembly Time - 0.06127 (ms)\n",
      "INFO:qiskit.compiler.assembler:Total Assembly Time - 0.06819 (ms)\n",
      "INFO:qiskit.compiler.assembler:Total Assembly Time - 0.05817 (ms)\n",
      "DEBUG:qiskit_emulator.remote_runtime_service:GET http://qre-dev.oro-sandbox-small1.k8s.cec.lab.emc.com/status\n",
      "DEBUG:urllib3.connectionpool:Starting new HTTP connection (1): qre-dev.oro-sandbox-small1.k8s.cec.lab.emc.com:80\n",
      "DEBUG:urllib3.connectionpool:http://qre-dev.oro-sandbox-small1.k8s.cec.lab.emc.com:80 \"GET /status HTTP/1.1\" 200 5\n",
      "DEBUG:qiskit_emulator.remote_runtime_service:GET http://qre-dev.oro-sandbox-small1.k8s.cec.lab.emc.com/status RESPONSE: (200, 'OK', 'false')\n",
      "DEBUG:qiskit_emulator.remote_runtime_service:GET http://qre-dev.oro-sandbox-small1.k8s.cec.lab.emc.com/sso_enabled\n",
      "DEBUG:urllib3.connectionpool:http://qre-dev.oro-sandbox-small1.k8s.cec.lab.emc.com:80 \"GET /sso_enabled HTTP/1.1\" 200 5\n",
      "DEBUG:qiskit_emulator.remote_runtime_service:GET http://qre-dev.oro-sandbox-small1.k8s.cec.lab.emc.com/sso_enabled RESPONSE: (200, 'OK', 'false')\n",
      "DEBUG:qiskit_emulator.remote_runtime_service:GET http://qre-dev.oro-sandbox-small1.k8s.cec.lab.emc.com/new_user\n",
      "DEBUG:urllib3.connectionpool:http://qre-dev.oro-sandbox-small1.k8s.cec.lab.emc.com:80 \"GET /new_user HTTP/1.1\" 200 12\n",
      "DEBUG:qiskit_emulator.remote_runtime_service:GET http://qre-dev.oro-sandbox-small1.k8s.cec.lab.emc.com/new_user RESPONSE: (200, 'OK', '32e10b11b642')\n"
     ]
    },
    {
     "name": "stdout",
     "output_type": "stream",
     "text": [
      "=======\n",
      "\n",
      "Your QRE ID is: 32e10b11b642.\n",
      "Save this ID and run 'export QRE_ID=<your id>' to access your programs in future sessions.\n"
     ]
    }
   ],
   "source": [
    "'''\n",
    "    The main difference between the local and remote runtime interfaces\n",
    "    is here: `provider.remote(URL_OF_REMOTE)`\n",
    "    \n",
    "    This function connects the client to the remote environment and, if \n",
    "    necessary, logs them in through SSO if enabled. \n",
    "'''\n",
    "\n",
    "provider = EmulatorProvider()\n",
    "provider.remote(REMOTE_RUNTIME)"
   ]
  },
  {
   "cell_type": "code",
   "execution_count": 3,
   "metadata": {},
   "outputs": [
    {
     "name": "stderr",
     "output_type": "stream",
     "text": [
      "DEBUG:qiskit_emulator.remote_runtime_service:POST http://qre-dev.oro-sandbox-small1.k8s.cec.lab.emc.com/program: {'data': \"\\n# This code is part of qiskit-runtime.\\n#\\n# (C) Copyright IBM 2021.\\n#\\n# This code is licensed under the Apache License, Version 2.0. You may\\n# obtain a copy of this license in the LICENSE.txt file in the root directory\\n# of this source tree or at http://www.apache.org/licenses/LICENSE-2.0.\\n#\\n# Any modifications or derivative works of this code must retain this\\n# copyright notice, and modified files need to carry a notice indicating\\n# that they have been altered from the originals.\\nfrom qiskit.compiler import transpile, schedule\\n\\n\\ndef main(\\n    backend,\\n    user_messenger,\\n    circuits,\\n    **kwargs,\\n):\\n    circuits = transpile(\\n        circuits,\\n    )\\n    \\n    user_messenger.publish({'results': 'intermittently'}, final=False)\\n\\n    if not isinstance(circuits, list):\\n        circuits = [circuits]\\n\\n    # Compute raw results\\n    result = backend.run(circuits, **kwargs).result()\\n\\n    user_messenger.publish(result.to_dict(), final=True)\\n\", 'name': None, 'data_type': 'STRING', 'program_metadata': '{\"max_execution_time\": 600, \"description\": \"Qiskit test program\"}'}\n",
      "DEBUG:urllib3.connectionpool:http://qre-dev.oro-sandbox-small1.k8s.cec.lab.emc.com:80 \"POST /program HTTP/1.1\" 200 12\n",
      "DEBUG:qiskit_emulator.remote_runtime_service:POST http://qre-dev.oro-sandbox-small1.k8s.cec.lab.emc.com/program RESPONSE: (200, 'OK', 'a0f36f6045e2')\n",
      "DEBUG:qiskit_emulator.remote_runtime_service:Received program_id: a0f36f6045e2\n"
     ]
    },
    {
     "name": "stdout",
     "output_type": "stream",
     "text": [
      "PROGRAM ID: a0f36f6045e2\n"
     ]
    }
   ],
   "source": [
    "'''\n",
    "    Uploading a program works exactly the same as locally\n",
    "'''\n",
    "\n",
    "text_program_id = provider.runtime.upload_program(RUNTIME_PROGRAM, metadata=RUNTIME_PROGRAM_METADATA)\n",
    "print(f\"PROGRAM ID: {text_program_id}\")"
   ]
  },
  {
   "cell_type": "code",
   "execution_count": 4,
   "metadata": {
    "scrolled": true
   },
   "outputs": [
    {
     "name": "stderr",
     "output_type": "stream",
     "text": [
      "DEBUG:qiskit_emulator.remote_runtime_service:GET http://qre-dev.oro-sandbox-small1.k8s.cec.lab.emc.com/program\n",
      "DEBUG:urllib3.connectionpool:http://qre-dev.oro-sandbox-small1.k8s.cec.lab.emc.com:80 \"GET /program HTTP/1.1\" 200 151\n",
      "DEBUG:qiskit_emulator.remote_runtime_service:GET http://qre-dev.oro-sandbox-small1.k8s.cec.lab.emc.com/program RESPONSE: (200, 'OK', '[{\"program_id\": \"a0f36f6045e2\", \"name\": \"a0f36f6045e2\", \"program_metadata\": \"{\\\\\"max_execution_time\\\\\": 600, \\\\\"description\\\\\": \\\\\"Qiskit test program\\\\\"}\"}]')\n"
     ]
    },
    {
     "name": "stdout",
     "output_type": "stream",
     "text": [
      "==================================================\n",
      "a0f36f6045e2:\n",
      "  Name: a0f36f6045e2\n",
      "  Description: Qiskit test program\n",
      "  Version: 0\n",
      "  Creation date: \n",
      "  Max execution time: 600\n",
      "  Input parameters:\n",
      "    none\n",
      "  Interim results:\n",
      "    none\n",
      "  Returns:\n",
      "    none\n"
     ]
    }
   ],
   "source": [
    "programs = provider.runtime.pprint_programs(refresh=True)"
   ]
  },
  {
   "cell_type": "code",
   "execution_count": 5,
   "metadata": {
    "scrolled": false
   },
   "outputs": [
    {
     "name": "stderr",
     "output_type": "stream",
     "text": [
      "DEBUG:qiskit_emulator.remote_runtime_service:POST http://qre-dev.oro-sandbox-small1.k8s.cec.lab.emc.com/program/a0f36f6045e2/update: {'program_id': 'a0f36f6045e2', 'data': None, 'name': None, 'data_type': None, 'program_metadata': '{\"description\": \"IBM/Dell Updated Qiskit Runtime Program\"}'}\n",
      "DEBUG:urllib3.connectionpool:http://qre-dev.oro-sandbox-small1.k8s.cec.lab.emc.com:80 \"POST /program/a0f36f6045e2/update HTTP/1.1\" 200 0\n",
      "DEBUG:qiskit_emulator.remote_runtime_service:POST http://qre-dev.oro-sandbox-small1.k8s.cec.lab.emc.com/program/a0f36f6045e2/update RESPONSE: (200, 'OK', '')\n",
      "DEBUG:qiskit_emulator.remote_runtime_service:Successfully updated program a0f36f6045e2\n"
     ]
    },
    {
     "data": {
      "text/plain": [
       "True"
      ]
     },
     "execution_count": 5,
     "metadata": {},
     "output_type": "execute_result"
    }
   ],
   "source": [
    "provider.runtime.update_program(text_program_id, description=\"IBM/Dell Updated Qiskit Runtime Program\")"
   ]
  },
  {
   "cell_type": "code",
   "execution_count": 6,
   "metadata": {
    "scrolled": false
   },
   "outputs": [
    {
     "name": "stderr",
     "output_type": "stream",
     "text": [
      "DEBUG:qiskit_emulator.remote_runtime_service:GET http://qre-dev.oro-sandbox-small1.k8s.cec.lab.emc.com/program\n",
      "DEBUG:urllib3.connectionpool:http://qre-dev.oro-sandbox-small1.k8s.cec.lab.emc.com:80 \"GET /program HTTP/1.1\" 200 171\n",
      "DEBUG:qiskit_emulator.remote_runtime_service:GET http://qre-dev.oro-sandbox-small1.k8s.cec.lab.emc.com/program RESPONSE: (200, 'OK', '[{\"program_id\": \"a0f36f6045e2\", \"name\": \"a0f36f6045e2\", \"program_metadata\": \"{\\\\\"max_execution_time\\\\\": 600, \\\\\"description\\\\\": \\\\\"IBM/Dell Updated Qiskit Runtime Program\\\\\"}\"}]')\n"
     ]
    },
    {
     "name": "stdout",
     "output_type": "stream",
     "text": [
      "==================================================\n",
      "a0f36f6045e2:\n",
      "  Name: a0f36f6045e2\n",
      "  Description: IBM/Dell Updated Qiskit Runtime Program\n",
      "  Version: 0\n",
      "  Creation date: \n",
      "  Max execution time: 600\n",
      "  Input parameters:\n",
      "    none\n",
      "  Interim results:\n",
      "    none\n",
      "  Returns:\n",
      "    none\n"
     ]
    }
   ],
   "source": [
    "programs = provider.runtime.pprint_programs(refresh=True)"
   ]
  },
  {
   "cell_type": "code",
   "execution_count": 7,
   "metadata": {
    "scrolled": false
   },
   "outputs": [
    {
     "name": "stderr",
     "output_type": "stream",
     "text": [
      "DEBUG:qiskit_emulator.remote_runtime_service:POST http://qre-dev.oro-sandbox-small1.k8s.cec.lab.emc.com/program: {'data': None, 'name': None, 'data_type': 'STRING', 'program_metadata': '{\"description\": \"File Upload to Orchestrator\"}'}\n",
      "DEBUG:urllib3.connectionpool:http://qre-dev.oro-sandbox-small1.k8s.cec.lab.emc.com:80 \"POST /program HTTP/1.1\" 200 12\n",
      "DEBUG:qiskit_emulator.remote_runtime_service:POST http://qre-dev.oro-sandbox-small1.k8s.cec.lab.emc.com/program RESPONSE: (200, 'OK', '86d015902548')\n",
      "DEBUG:qiskit_emulator.remote_runtime_service:Received program_id: 86d015902548\n"
     ]
    }
   ],
   "source": [
    "'''\n",
    "    This can also be done locally - but if the provided string to upload_program\n",
    "    is a file or directory path, the upload function will grab the contents \n",
    "    and send those to the remote orchestrator.\n",
    "'''\n",
    "\n",
    "\n",
    "file_program_id = provider.runtime.upload_program(\"qka.py\", description=\"File Upload to Orchestrator\")"
   ]
  },
  {
   "cell_type": "code",
   "execution_count": 8,
   "metadata": {
    "scrolled": true
   },
   "outputs": [
    {
     "name": "stderr",
     "output_type": "stream",
     "text": [
      "DEBUG:qiskit_emulator.remote_runtime_service:Have directory: ./qkad\n",
      "DEBUG:qiskit_emulator.remote_runtime_service:made: /home/geoff/workspace/qiskit-runtime-emulator/examples/demo_notebooks/qkad.zip\n",
      "DEBUG:qiskit_emulator.remote_runtime_service:POST http://qre-dev.oro-sandbox-small1.k8s.cec.lab.emc.com/program: {'data': None, 'name': None, 'data_type': 'DIR', 'program_metadata': '{\"description\": \"Directory Upload to Orchestrator\"}'}\n",
      "DEBUG:urllib3.connectionpool:http://qre-dev.oro-sandbox-small1.k8s.cec.lab.emc.com:80 \"POST /program HTTP/1.1\" 200 12\n",
      "DEBUG:qiskit_emulator.remote_runtime_service:POST http://qre-dev.oro-sandbox-small1.k8s.cec.lab.emc.com/program RESPONSE: (200, 'OK', '4de208d58e5a')\n",
      "DEBUG:qiskit_emulator.remote_runtime_service:Received program_id: 4de208d58e5a\n"
     ]
    }
   ],
   "source": [
    "dir_program_id = provider.runtime.upload_program(\"./qkad\", description=\"Directory Upload to Orchestrator\")"
   ]
  },
  {
   "cell_type": "code",
   "execution_count": 9,
   "metadata": {
    "scrolled": false
   },
   "outputs": [
    {
     "name": "stderr",
     "output_type": "stream",
     "text": [
      "DEBUG:qiskit_emulator.remote_runtime_service:GET http://qre-dev.oro-sandbox-small1.k8s.cec.lab.emc.com/program\n",
      "DEBUG:urllib3.connectionpool:http://qre-dev.oro-sandbox-small1.k8s.cec.lab.emc.com:80 \"GET /program HTTP/1.1\" 200 436\n",
      "DEBUG:qiskit_emulator.remote_runtime_service:GET http://qre-dev.oro-sandbox-small1.k8s.cec.lab.emc.com/program RESPONSE: (200, 'OK', '[{\"program_id\": \"a0f36f6045e2\", \"name\": \"a0f36f6045e2\", \"program_metadata\": \"{\\\\\"max_execution_time\\\\\": 600, \\\\\"description\\\\\": \\\\\"IBM/Dell Updated Qiskit Runtime Program\\\\\"}\"}, {\"program_id\": \"86d015902548\", \"name\": \"86d015902548\", \"program_metadata\": \"{\\\\\"description\\\\\": \\\\\"File Upload to Orchestrator\\\\\"}\"}, {\"program_id\": \"4de208d58e5a\", \"name\": \"4de208d58e5a\", \"program_metadata\": \"{\\\\\"description\\\\\": \\\\\"Directory Upload to Orchestrator\\\\\"}\"}]')\n"
     ]
    },
    {
     "name": "stdout",
     "output_type": "stream",
     "text": [
      "==================================================\n",
      "a0f36f6045e2:\n",
      "  Name: a0f36f6045e2\n",
      "  Description: IBM/Dell Updated Qiskit Runtime Program\n",
      "  Version: 0\n",
      "  Creation date: \n",
      "  Max execution time: 600\n",
      "  Input parameters:\n",
      "    none\n",
      "  Interim results:\n",
      "    none\n",
      "  Returns:\n",
      "    none\n",
      "==================================================\n",
      "86d015902548:\n",
      "  Name: 86d015902548\n",
      "  Description: File Upload to Orchestrator\n",
      "  Version: 0\n",
      "  Creation date: \n",
      "  Max execution time: 0\n",
      "  Input parameters:\n",
      "    none\n",
      "  Interim results:\n",
      "    none\n",
      "  Returns:\n",
      "    none\n",
      "==================================================\n",
      "4de208d58e5a:\n",
      "  Name: 4de208d58e5a\n",
      "  Description: Directory Upload to Orchestrator\n",
      "  Version: 0\n",
      "  Creation date: \n",
      "  Max execution time: 0\n",
      "  Input parameters:\n",
      "    none\n",
      "  Interim results:\n",
      "    none\n",
      "  Returns:\n",
      "    none\n"
     ]
    }
   ],
   "source": [
    "provider.runtime.pprint_programs(refresh=True)"
   ]
  },
  {
   "cell_type": "code",
   "execution_count": 10,
   "metadata": {},
   "outputs": [],
   "source": [
    "qc = QuantumCircuit(2, 2)\n",
    "qc.h(0)\n",
    "qc.cx(0, 1)\n",
    "qc.measure([0, 1], [0, 1])\n",
    "\n",
    "program_inputs = {\n",
    "    'circuits': qc,\n",
    "}"
   ]
  },
  {
   "cell_type": "code",
   "execution_count": 11,
   "metadata": {
    "scrolled": true
   },
   "outputs": [
    {
     "name": "stderr",
     "output_type": "stream",
     "text": [
      "DEBUG:qiskit_emulator.remote_runtime_service:POST http://qre-dev.oro-sandbox-small1.k8s.cec.lab.emc.com/program/a0f36f6045e2/job: {\"circuits\": {\"__type__\": \"dill\", \"__value__\": \"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\"}}\n",
      "DEBUG:urllib3.connectionpool:http://qre-dev.oro-sandbox-small1.k8s.cec.lab.emc.com:80 \"POST /program/a0f36f6045e2/job HTTP/1.1\" 200 12\n",
      "DEBUG:qiskit_emulator.remote_runtime_service:POST http://qre-dev.oro-sandbox-small1.k8s.cec.lab.emc.com/program/a0f36f6045e2/job RESPONSE: (200, 'OK', '98a480b9f6fa')\n",
      "DEBUG:qiskit_emulator.emulator_runtime_job:http://qre-dev.oro-sandbox-small1.k8s.cec.lab.emc.com/job/98a480b9f6fa/results\n",
      "DEBUG:urllib3.connectionpool:http://qre-dev.oro-sandbox-small1.k8s.cec.lab.emc.com:80 \"GET /job/98a480b9f6fa/results HTTP/1.1\" 200 16\n",
      "DEBUG:qiskit_emulator.emulator_runtime_job:got: {'messages': []}\n",
      "DEBUG:qiskit_emulator.emulator_runtime_job:result: got []\n",
      "DEBUG:qiskit_emulator.emulator_runtime_job:http://qre-dev.oro-sandbox-small1.k8s.cec.lab.emc.com/job/98a480b9f6fa/status\n",
      "DEBUG:urllib3.connectionpool:http://qre-dev.oro-sandbox-small1.k8s.cec.lab.emc.com:80 \"GET /job/98a480b9f6fa/status HTTP/1.1\" 200 7\n",
      "DEBUG:qiskit_emulator.emulator_runtime_job:http://qre-dev.oro-sandbox-small1.k8s.cec.lab.emc.com/job/98a480b9f6fa/results\n",
      "DEBUG:urllib3.connectionpool:http://qre-dev.oro-sandbox-small1.k8s.cec.lab.emc.com:80 \"GET /job/98a480b9f6fa/results HTTP/1.1\" 200 1466\n",
      "DEBUG:qiskit_emulator.emulator_runtime_job:got: {'messages': [{'data': '{\"final\": false, \"message\": {\"results\": \"intermittently\"}}', 'timestamp': '2021-08-04 13:01:19'}, {'data': '{\"final\": true, \"message\": {\"backend_name\": \"aer_simulator\", \"backend_version\": \"0.8.2\", \"qobj_id\": \"8ecb892e-b07e-4fad-b485-ba0c2eac471e\", \"job_id\": \"c6217605-c571-4f32-a578-c49d6389ec2e\", \"success\": true, \"results\": [{\"shots\": 1024, \"success\": true, \"data\": {\"counts\": {\"0x3\": 513, \"0x0\": 511}}, \"meas_level\": 2, \"header\": {\"clbit_labels\": [[\"c\", 0], [\"c\", 1]], \"creg_sizes\": [[\"c\", 2]], \"global_phase\": 0.0, \"memory_slots\": 2, \"metadata\": null, \"n_qubits\": 2, \"name\": \"circuit-2\", \"qreg_sizes\": [[\"q\", 2]], \"qubit_labels\": [[\"q\", 0], [\"q\", 1]]}, \"status\": \"DONE\", \"seed_simulator\": 3703703757, \"metadata\": {\"parallel_state_update\": 4, \"measure_sampling\": true, \"method\": \"stabilizer\", \"parallel_shots\": 1, \"device\": \"CPU\", \"fusion\": {\"enabled\": false}}, \"time_taken\": 0.0042886700000000005}], \"date\": \"2021-08-04T13:01:18.701041\", \"status\": \"COMPLETED\", \"header\": {\"backend_name\": \"aer_simulator\", \"backend_version\": \"0.8.2\"}, \"metadata\": {\"time_taken\": 0.004665226000000001, \"parallel_experiments\": 1, \"omp_enabled\": true, \"max_gpu_memory_mb\": 0, \"num_mpi_processes\": 1, \"max_memory_mb\": 7976, \"mpi_rank\": 0}, \"time_taken\": 0.005007266998291016}}', 'timestamp': '2021-08-04 13:01:19'}]}\n",
      "DEBUG:qiskit_emulator.emulator_runtime_job:result: got [{'data': '{\"final\": false, \"message\": {\"results\": \"intermittently\"}}', 'timestamp': '2021-08-04 13:01:19'}, {'data': '{\"final\": true, \"message\": {\"backend_name\": \"aer_simulator\", \"backend_version\": \"0.8.2\", \"qobj_id\": \"8ecb892e-b07e-4fad-b485-ba0c2eac471e\", \"job_id\": \"c6217605-c571-4f32-a578-c49d6389ec2e\", \"success\": true, \"results\": [{\"shots\": 1024, \"success\": true, \"data\": {\"counts\": {\"0x3\": 513, \"0x0\": 511}}, \"meas_level\": 2, \"header\": {\"clbit_labels\": [[\"c\", 0], [\"c\", 1]], \"creg_sizes\": [[\"c\", 2]], \"global_phase\": 0.0, \"memory_slots\": 2, \"metadata\": null, \"n_qubits\": 2, \"name\": \"circuit-2\", \"qreg_sizes\": [[\"q\", 2]], \"qubit_labels\": [[\"q\", 0], [\"q\", 1]]}, \"status\": \"DONE\", \"seed_simulator\": 3703703757, \"metadata\": {\"parallel_state_update\": 4, \"measure_sampling\": true, \"method\": \"stabilizer\", \"parallel_shots\": 1, \"device\": \"CPU\", \"fusion\": {\"enabled\": false}}, \"time_taken\": 0.0042886700000000005}], \"date\": \"2021-08-04T13:01:18.701041\", \"status\": \"COMPLETED\", \"header\": {\"backend_name\": \"aer_simulator\", \"backend_version\": \"0.8.2\"}, \"metadata\": {\"time_taken\": 0.004665226000000001, \"parallel_experiments\": 1, \"omp_enabled\": true, \"max_gpu_memory_mb\": 0, \"num_mpi_processes\": 1, \"max_memory_mb\": 7976, \"mpi_rank\": 0}, \"time_taken\": 0.005007266998291016}}', 'timestamp': '2021-08-04 13:01:19'}]\n",
      "DEBUG:qiskit_emulator.emulator_runtime_job:appended message to queue\n",
      "DEBUG:qiskit_emulator.emulator_runtime_job:result: got final result.\n",
      "DEBUG:qiskit_emulator.emulator_runtime_job:http://qre-dev.oro-sandbox-small1.k8s.cec.lab.emc.com/job/98a480b9f6fa/results\n",
      "DEBUG:qiskit_emulator.emulator_runtime_job:http://qre-dev.oro-sandbox-small1.k8s.cec.lab.emc.com/job/98a480b9f6fa/results/2021-08-04 13:01:19\n",
      "DEBUG:urllib3.connectionpool:http://qre-dev.oro-sandbox-small1.k8s.cec.lab.emc.com:80 \"GET /job/98a480b9f6fa/results/2021-08-04%2013:01:19 HTTP/1.1\" 200 16\n",
      "DEBUG:qiskit_emulator.emulator_runtime_job:got: {'messages': []}\n",
      "DEBUG:qiskit_emulator.emulator_runtime_job:result: got []\n"
     ]
    }
   ],
   "source": [
    "job = provider.runtime.run(text_program_id, options=None, inputs=program_inputs)"
   ]
  },
  {
   "cell_type": "code",
   "execution_count": 12,
   "metadata": {
    "scrolled": true
   },
   "outputs": [
    {
     "name": "stdout",
     "output_type": "stream",
     "text": [
      "{'backend_name': 'aer_simulator', 'backend_version': '0.8.2', 'qobj_id': '8ecb892e-b07e-4fad-b485-ba0c2eac471e', 'job_id': 'c6217605-c571-4f32-a578-c49d6389ec2e', 'success': True, 'results': [{'shots': 1024, 'success': True, 'data': {'counts': {'0x3': 513, '0x0': 511}}, 'meas_level': 2, 'header': {'clbit_labels': [['c', 0], ['c', 1]], 'creg_sizes': [['c', 2]], 'global_phase': 0.0, 'memory_slots': 2, 'metadata': None, 'n_qubits': 2, 'name': 'circuit-2', 'qreg_sizes': [['q', 2]], 'qubit_labels': [['q', 0], ['q', 1]]}, 'status': 'DONE', 'seed_simulator': 3703703757, 'metadata': {'parallel_state_update': 4, 'measure_sampling': True, 'method': 'stabilizer', 'parallel_shots': 1, 'device': 'CPU', 'fusion': {'enabled': False}}, 'time_taken': 0.0042886700000000005}], 'date': '2021-08-04T13:01:18.701041', 'status': 'COMPLETED', 'header': {'backend_name': 'aer_simulator', 'backend_version': '0.8.2'}, 'metadata': {'time_taken': 0.004665226000000001, 'parallel_experiments': 1, 'omp_enabled': True, 'max_gpu_memory_mb': 0, 'num_mpi_processes': 1, 'max_memory_mb': 7976, 'mpi_rank': 0}, 'time_taken': 0.005007266998291016}\n"
     ]
    }
   ],
   "source": [
    "results = job.result(timeout=60)\n",
    "print(results)"
   ]
  },
  {
   "cell_type": "code",
   "execution_count": 13,
   "metadata": {},
   "outputs": [],
   "source": [
    "def callback_function(msg):\n",
    "    print(f'******************\\n\\n\\nFrom Callback Function: {msg}\\n\\n\\n******************')\n",
    "    "
   ]
  },
  {
   "cell_type": "code",
   "execution_count": 14,
   "metadata": {
    "scrolled": true
   },
   "outputs": [
    {
     "name": "stderr",
     "output_type": "stream",
     "text": [
      "DEBUG:qiskit_emulator.remote_runtime_service:POST http://qre-dev.oro-sandbox-small1.k8s.cec.lab.emc.com/program/4de208d58e5a/job: {\"circuits\": {\"__type__\": \"dill\", \"__value__\": \"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\"}, \"backend_name\": \"emulator\"}\n",
      "DEBUG:urllib3.connectionpool:http://qre-dev.oro-sandbox-small1.k8s.cec.lab.emc.com:80 \"POST /program/4de208d58e5a/job HTTP/1.1\" 200 12\n",
      "DEBUG:qiskit_emulator.remote_runtime_service:POST http://qre-dev.oro-sandbox-small1.k8s.cec.lab.emc.com/program/4de208d58e5a/job RESPONSE: (200, 'OK', 'f4e149efe0be')\n"
     ]
    }
   ],
   "source": [
    "program_inputs['backend_name'] = 'emulator'\n",
    "job = provider.runtime.run(dir_program_id, inputs=program_inputs, options=None, callback=callback_function)"
   ]
  },
  {
   "cell_type": "code",
   "execution_count": 15,
   "metadata": {
    "scrolled": true
   },
   "outputs": [
    {
     "name": "stderr",
     "output_type": "stream",
     "text": [
      "DEBUG:qiskit_emulator.emulator_runtime_job:http://qre-dev.oro-sandbox-small1.k8s.cec.lab.emc.com/job/f4e149efe0be/results\n",
      "DEBUG:urllib3.connectionpool:http://qre-dev.oro-sandbox-small1.k8s.cec.lab.emc.com:80 \"GET /job/f4e149efe0be/results HTTP/1.1\" 200 16\n",
      "DEBUG:qiskit_emulator.emulator_runtime_job:got: {'messages': []}\n",
      "DEBUG:qiskit_emulator.emulator_runtime_job:result: got []\n",
      "DEBUG:qiskit_emulator.emulator_runtime_job:http://qre-dev.oro-sandbox-small1.k8s.cec.lab.emc.com/job/f4e149efe0be/status\n",
      "DEBUG:urllib3.connectionpool:http://qre-dev.oro-sandbox-small1.k8s.cec.lab.emc.com:80 \"GET /job/f4e149efe0be/status HTTP/1.1\" 200 7\n",
      "DEBUG:qiskit_emulator.emulator_runtime_job:http://qre-dev.oro-sandbox-small1.k8s.cec.lab.emc.com/job/f4e149efe0be/results\n",
      "DEBUG:urllib3.connectionpool:http://qre-dev.oro-sandbox-small1.k8s.cec.lab.emc.com:80 \"GET /job/f4e149efe0be/results HTTP/1.1\" 200 16\n",
      "DEBUG:qiskit_emulator.emulator_runtime_job:got: {'messages': []}\n",
      "DEBUG:qiskit_emulator.emulator_runtime_job:result: got []\n",
      "DEBUG:qiskit_emulator.emulator_runtime_job:http://qre-dev.oro-sandbox-small1.k8s.cec.lab.emc.com/job/f4e149efe0be/status\n",
      "DEBUG:urllib3.connectionpool:http://qre-dev.oro-sandbox-small1.k8s.cec.lab.emc.com:80 \"GET /job/f4e149efe0be/status HTTP/1.1\" 200 7\n",
      "DEBUG:qiskit_emulator.emulator_runtime_job:http://qre-dev.oro-sandbox-small1.k8s.cec.lab.emc.com/job/f4e149efe0be/results\n",
      "DEBUG:urllib3.connectionpool:http://qre-dev.oro-sandbox-small1.k8s.cec.lab.emc.com:80 \"GET /job/f4e149efe0be/results HTTP/1.1\" 200 16\n",
      "DEBUG:qiskit_emulator.emulator_runtime_job:got: {'messages': []}\n",
      "DEBUG:qiskit_emulator.emulator_runtime_job:result: got []\n",
      "DEBUG:qiskit_emulator.emulator_runtime_job:http://qre-dev.oro-sandbox-small1.k8s.cec.lab.emc.com/job/f4e149efe0be/status\n",
      "DEBUG:urllib3.connectionpool:http://qre-dev.oro-sandbox-small1.k8s.cec.lab.emc.com:80 \"GET /job/f4e149efe0be/status HTTP/1.1\" 200 7\n",
      "DEBUG:qiskit_emulator.emulator_runtime_job:http://qre-dev.oro-sandbox-small1.k8s.cec.lab.emc.com/job/f4e149efe0be/results\n",
      "DEBUG:urllib3.connectionpool:http://qre-dev.oro-sandbox-small1.k8s.cec.lab.emc.com:80 \"GET /job/f4e149efe0be/results HTTP/1.1\" 200 16\n",
      "DEBUG:qiskit_emulator.emulator_runtime_job:got: {'messages': []}\n",
      "DEBUG:qiskit_emulator.emulator_runtime_job:result: got []\n",
      "DEBUG:qiskit_emulator.emulator_runtime_job:http://qre-dev.oro-sandbox-small1.k8s.cec.lab.emc.com/job/f4e149efe0be/status\n",
      "DEBUG:urllib3.connectionpool:http://qre-dev.oro-sandbox-small1.k8s.cec.lab.emc.com:80 \"GET /job/f4e149efe0be/status HTTP/1.1\" 200 7\n",
      "DEBUG:qiskit_emulator.emulator_runtime_job:http://qre-dev.oro-sandbox-small1.k8s.cec.lab.emc.com/job/f4e149efe0be/results\n",
      "DEBUG:urllib3.connectionpool:http://qre-dev.oro-sandbox-small1.k8s.cec.lab.emc.com:80 \"GET /job/f4e149efe0be/results HTTP/1.1\" 200 16\n",
      "DEBUG:qiskit_emulator.emulator_runtime_job:got: {'messages': []}\n",
      "DEBUG:qiskit_emulator.emulator_runtime_job:result: got []\n",
      "DEBUG:qiskit_emulator.emulator_runtime_job:http://qre-dev.oro-sandbox-small1.k8s.cec.lab.emc.com/job/f4e149efe0be/status\n",
      "DEBUG:urllib3.connectionpool:http://qre-dev.oro-sandbox-small1.k8s.cec.lab.emc.com:80 \"GET /job/f4e149efe0be/status HTTP/1.1\" 200 7\n",
      "DEBUG:qiskit_emulator.emulator_runtime_job:http://qre-dev.oro-sandbox-small1.k8s.cec.lab.emc.com/job/f4e149efe0be/results\n",
      "DEBUG:urllib3.connectionpool:http://qre-dev.oro-sandbox-small1.k8s.cec.lab.emc.com:80 \"GET /job/f4e149efe0be/results HTTP/1.1\" 200 16\n",
      "DEBUG:qiskit_emulator.emulator_runtime_job:got: {'messages': []}\n",
      "DEBUG:qiskit_emulator.emulator_runtime_job:result: got []\n",
      "DEBUG:qiskit_emulator.emulator_runtime_job:http://qre-dev.oro-sandbox-small1.k8s.cec.lab.emc.com/job/f4e149efe0be/status\n",
      "DEBUG:urllib3.connectionpool:http://qre-dev.oro-sandbox-small1.k8s.cec.lab.emc.com:80 \"GET /job/f4e149efe0be/status HTTP/1.1\" 200 7\n",
      "DEBUG:qiskit_emulator.emulator_runtime_job:http://qre-dev.oro-sandbox-small1.k8s.cec.lab.emc.com/job/f4e149efe0be/results\n",
      "DEBUG:urllib3.connectionpool:http://qre-dev.oro-sandbox-small1.k8s.cec.lab.emc.com:80 \"GET /job/f4e149efe0be/results HTTP/1.1\" 200 16\n",
      "DEBUG:qiskit_emulator.emulator_runtime_job:got: {'messages': []}\n",
      "DEBUG:qiskit_emulator.emulator_runtime_job:result: got []\n",
      "DEBUG:qiskit_emulator.emulator_runtime_job:http://qre-dev.oro-sandbox-small1.k8s.cec.lab.emc.com/job/f4e149efe0be/status\n",
      "DEBUG:urllib3.connectionpool:http://qre-dev.oro-sandbox-small1.k8s.cec.lab.emc.com:80 \"GET /job/f4e149efe0be/status HTTP/1.1\" 200 7\n",
      "DEBUG:qiskit_emulator.emulator_runtime_job:http://qre-dev.oro-sandbox-small1.k8s.cec.lab.emc.com/job/f4e149efe0be/results\n",
      "DEBUG:urllib3.connectionpool:http://qre-dev.oro-sandbox-small1.k8s.cec.lab.emc.com:80 \"GET /job/f4e149efe0be/results HTTP/1.1\" 200 16\n",
      "DEBUG:qiskit_emulator.emulator_runtime_job:got: {'messages': []}\n",
      "DEBUG:qiskit_emulator.emulator_runtime_job:result: got []\n",
      "DEBUG:qiskit_emulator.emulator_runtime_job:http://qre-dev.oro-sandbox-small1.k8s.cec.lab.emc.com/job/f4e149efe0be/status\n",
      "DEBUG:urllib3.connectionpool:http://qre-dev.oro-sandbox-small1.k8s.cec.lab.emc.com:80 \"GET /job/f4e149efe0be/status HTTP/1.1\" 200 7\n",
      "DEBUG:qiskit_emulator.emulator_runtime_job:http://qre-dev.oro-sandbox-small1.k8s.cec.lab.emc.com/job/f4e149efe0be/results\n",
      "DEBUG:urllib3.connectionpool:http://qre-dev.oro-sandbox-small1.k8s.cec.lab.emc.com:80 \"GET /job/f4e149efe0be/results HTTP/1.1\" 200 16\n",
      "DEBUG:qiskit_emulator.emulator_runtime_job:got: {'messages': []}\n",
      "DEBUG:qiskit_emulator.emulator_runtime_job:result: got []\n",
      "DEBUG:qiskit_emulator.emulator_runtime_job:http://qre-dev.oro-sandbox-small1.k8s.cec.lab.emc.com/job/f4e149efe0be/status\n",
      "DEBUG:urllib3.connectionpool:http://qre-dev.oro-sandbox-small1.k8s.cec.lab.emc.com:80 \"GET /job/f4e149efe0be/status HTTP/1.1\" 200 7\n",
      "DEBUG:qiskit_emulator.emulator_runtime_job:http://qre-dev.oro-sandbox-small1.k8s.cec.lab.emc.com/job/f4e149efe0be/results\n",
      "DEBUG:urllib3.connectionpool:http://qre-dev.oro-sandbox-small1.k8s.cec.lab.emc.com:80 \"GET /job/f4e149efe0be/results HTTP/1.1\" 200 16\n",
      "DEBUG:qiskit_emulator.emulator_runtime_job:got: {'messages': []}\n",
      "DEBUG:qiskit_emulator.emulator_runtime_job:result: got []\n",
      "DEBUG:qiskit_emulator.emulator_runtime_job:http://qre-dev.oro-sandbox-small1.k8s.cec.lab.emc.com/job/f4e149efe0be/status\n",
      "DEBUG:urllib3.connectionpool:http://qre-dev.oro-sandbox-small1.k8s.cec.lab.emc.com:80 \"GET /job/f4e149efe0be/status HTTP/1.1\" 200 7\n",
      "DEBUG:qiskit_emulator.emulator_runtime_job:http://qre-dev.oro-sandbox-small1.k8s.cec.lab.emc.com/job/f4e149efe0be/results\n",
      "DEBUG:urllib3.connectionpool:http://qre-dev.oro-sandbox-small1.k8s.cec.lab.emc.com:80 \"GET /job/f4e149efe0be/results HTTP/1.1\" 200 16\n",
      "DEBUG:qiskit_emulator.emulator_runtime_job:got: {'messages': []}\n",
      "DEBUG:qiskit_emulator.emulator_runtime_job:result: got []\n",
      "DEBUG:qiskit_emulator.emulator_runtime_job:http://qre-dev.oro-sandbox-small1.k8s.cec.lab.emc.com/job/f4e149efe0be/status\n",
      "DEBUG:urllib3.connectionpool:http://qre-dev.oro-sandbox-small1.k8s.cec.lab.emc.com:80 \"GET /job/f4e149efe0be/status HTTP/1.1\" 200 7\n",
      "DEBUG:qiskit_emulator.emulator_runtime_job:http://qre-dev.oro-sandbox-small1.k8s.cec.lab.emc.com/job/f4e149efe0be/results\n",
      "DEBUG:urllib3.connectionpool:http://qre-dev.oro-sandbox-small1.k8s.cec.lab.emc.com:80 \"GET /job/f4e149efe0be/results HTTP/1.1\" 200 215\n",
      "DEBUG:qiskit_emulator.emulator_runtime_job:got: {'messages': [{'data': '{\"final\": false, \"message\": {\"cost\": 11.855372765048024, \"kernel_parameters\": {\"__type__\": \"array\", \"__value__\": [0.24730511661879886]}}}', 'timestamp': '2021-08-04 13:02:04'}]}\n",
      "DEBUG:qiskit_emulator.emulator_runtime_job:result: got [{'data': '{\"final\": false, \"message\": {\"cost\": 11.855372765048024, \"kernel_parameters\": {\"__type__\": \"array\", \"__value__\": [0.24730511661879886]}}}', 'timestamp': '2021-08-04 13:02:04'}]\n",
      "DEBUG:qiskit_emulator.emulator_runtime_job:appended message to queue\n",
      "DEBUG:qiskit_emulator.emulator_runtime_job:Callback is here\n",
      "DEBUG:qiskit_emulator.emulator_runtime_job:http://qre-dev.oro-sandbox-small1.k8s.cec.lab.emc.com/job/f4e149efe0be/status\n"
     ]
    },
    {
     "name": "stdout",
     "output_type": "stream",
     "text": [
      "******************\n",
      "\n",
      "\n",
      "From Callback Function: {'cost': 11.855372765048024, 'kernel_parameters': {'__type__': 'array', '__value__': [0.24730511661879886]}}\n",
      "\n",
      "\n",
      "******************\n"
     ]
    },
    {
     "name": "stderr",
     "output_type": "stream",
     "text": [
      "DEBUG:urllib3.connectionpool:http://qre-dev.oro-sandbox-small1.k8s.cec.lab.emc.com:80 \"GET /job/f4e149efe0be/status HTTP/1.1\" 200 7\n",
      "DEBUG:qiskit_emulator.emulator_runtime_job:http://qre-dev.oro-sandbox-small1.k8s.cec.lab.emc.com/job/f4e149efe0be/results\n",
      "DEBUG:qiskit_emulator.emulator_runtime_job:http://qre-dev.oro-sandbox-small1.k8s.cec.lab.emc.com/job/f4e149efe0be/results/2021-08-04 13:02:04\n",
      "DEBUG:urllib3.connectionpool:http://qre-dev.oro-sandbox-small1.k8s.cec.lab.emc.com:80 \"GET /job/f4e149efe0be/results/2021-08-04%2013:02:04 HTTP/1.1\" 200 16\n",
      "DEBUG:qiskit_emulator.emulator_runtime_job:got: {'messages': []}\n",
      "DEBUG:qiskit_emulator.emulator_runtime_job:result: got []\n",
      "DEBUG:qiskit_emulator.emulator_runtime_job:http://qre-dev.oro-sandbox-small1.k8s.cec.lab.emc.com/job/f4e149efe0be/status\n",
      "DEBUG:urllib3.connectionpool:http://qre-dev.oro-sandbox-small1.k8s.cec.lab.emc.com:80 \"GET /job/f4e149efe0be/status HTTP/1.1\" 200 7\n",
      "DEBUG:qiskit_emulator.emulator_runtime_job:http://qre-dev.oro-sandbox-small1.k8s.cec.lab.emc.com/job/f4e149efe0be/results\n",
      "DEBUG:qiskit_emulator.emulator_runtime_job:http://qre-dev.oro-sandbox-small1.k8s.cec.lab.emc.com/job/f4e149efe0be/results/2021-08-04 13:02:04\n",
      "DEBUG:urllib3.connectionpool:http://qre-dev.oro-sandbox-small1.k8s.cec.lab.emc.com:80 \"GET /job/f4e149efe0be/results/2021-08-04%2013:02:04 HTTP/1.1\" 200 16\n",
      "DEBUG:qiskit_emulator.emulator_runtime_job:got: {'messages': []}\n",
      "DEBUG:qiskit_emulator.emulator_runtime_job:result: got []\n",
      "DEBUG:qiskit_emulator.emulator_runtime_job:http://qre-dev.oro-sandbox-small1.k8s.cec.lab.emc.com/job/f4e149efe0be/status\n",
      "DEBUG:urllib3.connectionpool:http://qre-dev.oro-sandbox-small1.k8s.cec.lab.emc.com:80 \"GET /job/f4e149efe0be/status HTTP/1.1\" 200 7\n",
      "DEBUG:qiskit_emulator.emulator_runtime_job:http://qre-dev.oro-sandbox-small1.k8s.cec.lab.emc.com/job/f4e149efe0be/results\n",
      "DEBUG:qiskit_emulator.emulator_runtime_job:http://qre-dev.oro-sandbox-small1.k8s.cec.lab.emc.com/job/f4e149efe0be/results/2021-08-04 13:02:04\n",
      "DEBUG:urllib3.connectionpool:http://qre-dev.oro-sandbox-small1.k8s.cec.lab.emc.com:80 \"GET /job/f4e149efe0be/results/2021-08-04%2013:02:04 HTTP/1.1\" 200 16\n",
      "DEBUG:qiskit_emulator.emulator_runtime_job:got: {'messages': []}\n",
      "DEBUG:qiskit_emulator.emulator_runtime_job:result: got []\n",
      "DEBUG:qiskit_emulator.emulator_runtime_job:http://qre-dev.oro-sandbox-small1.k8s.cec.lab.emc.com/job/f4e149efe0be/status\n",
      "DEBUG:urllib3.connectionpool:http://qre-dev.oro-sandbox-small1.k8s.cec.lab.emc.com:80 \"GET /job/f4e149efe0be/status HTTP/1.1\" 200 7\n",
      "DEBUG:qiskit_emulator.emulator_runtime_job:http://qre-dev.oro-sandbox-small1.k8s.cec.lab.emc.com/job/f4e149efe0be/results\n",
      "DEBUG:qiskit_emulator.emulator_runtime_job:http://qre-dev.oro-sandbox-small1.k8s.cec.lab.emc.com/job/f4e149efe0be/results/2021-08-04 13:02:04\n",
      "DEBUG:urllib3.connectionpool:http://qre-dev.oro-sandbox-small1.k8s.cec.lab.emc.com:80 \"GET /job/f4e149efe0be/results/2021-08-04%2013:02:04 HTTP/1.1\" 200 5845\n",
      "DEBUG:qiskit_emulator.emulator_runtime_job:got: {'messages': [{'data': '{\"final\": true, \"message\": {\"aligned_kernel_parameters\": {\"__type__\": \"array\", \"__value__\": [0.24730511661879886]}, \"aligned_kernel_matrix\": {\"__type__\": \"array\", \"__value__\": [[1.0, 0.0023193359375, 0.004150390625, 0.052490234375, 0.059814453125, 0.0003662109375, 0.000244140625, 0.003662109375, 0.005859375, 0.052978515625, 0.004638671875, 0.0225830078125, 0.0623779296875, 0.0115966796875, 0.0029296875, 0.0146484375, 0.6761474609375, 0.002685546875, 0.2115478515625, 0.046630859375], [0.0023193359375, 1.0, 0.0, 0.0003662109375, 0.00048828125, 0.0001220703125, 0.071533203125, 0.0076904296875, 0.003662109375, 0.056884765625, 0.0225830078125, 0.0009765625, 0.0003662109375, 0.3590087890625, 0.03271484375, 0.005126953125, 0.0048828125, 0.0224609375, 0.032958984375, 0.0732421875], [0.004150390625, 0.0, 1.0, 0.0673828125, 0.0616455078125, 0.0472412109375, 0.0001220703125, 0.0040283203125, 0.00244140625, 0.0001220703125, 0.0, 0.0001220703125, 0.000244140625, 0.0, 0.0, 0.0, 0.0079345703125, 0.0, 0.0010986328125, 0.0], [0.052490234375, 0.0003662109375, 0.0673828125, 1.0, 0.004638671875, 0.00439453125, 0.0, 0.050537109375, 0.000244140625, 0.001953125, 0.0003662109375, 0.005126953125, 0.0064697265625, 0.0, 0.000732421875, 0.001953125, 0.085205078125, 0.0006103515625, 0.0050048828125, 0.0047607421875], [0.059814453125, 0.00048828125, 0.0616455078125, 0.004638671875, 1.0, 0.0025634765625, 0.0020751953125, 0.000244140625, 0.0574951171875, 0.005126953125, 0.00048828125, 0.0020751953125, 0.00341796875, 0.0003662109375, 0.0, 0.00048828125, 0.0355224609375, 0.0, 0.0064697265625, 0.002197265625], [0.0003662109375, 0.0001220703125, 0.0472412109375, 0.00439453125, 0.0025634765625, 1.0, 0.00244140625, 0.0499267578125, 0.04345703125, 0.005126953125, 0.000732421875, 0.0, 0.0, 0.0001220703125, 0.0, 0.0, 0.0, 0.0, 0.0, 0.0062255859375], [0.000244140625, 0.071533203125, 0.0001220703125, 0.0, 0.0020751953125, 0.00244140625, 1.0, 0.000244140625, 0.05322265625, 0.006591796875, 0.0015869140625, 0.0, 0.0, 0.0206298828125, 0.001708984375, 0.00048828125, 0.0, 0.00048828125, 0.0018310546875, 0.0035400390625], [0.003662109375, 0.0076904296875, 0.0040283203125, 0.050537109375, 0.000244140625, 0.0499267578125, 0.000244140625, 1.0, 0.006103515625, 0.130615234375, 0.01220703125, 0.0, 0.0001220703125, 0.0140380859375, 0.00146484375, 0.0, 0.000732421875, 0.035888671875, 0.0001220703125, 0.2669677734375], [0.005859375, 0.003662109375, 0.00244140625, 0.000244140625, 0.0574951171875, 0.04345703125, 0.05322265625, 0.006103515625, 1.0, 0.097412109375, 0.0174560546875, 0.0, 0.00048828125, 0.0074462890625, 0.0020751953125, 0.0001220703125, 0.001953125, 0.00048828125, 0.0003662109375, 0.03125], [0.052978515625, 0.056884765625, 0.0001220703125, 0.001953125, 0.005126953125, 0.005126953125, 0.006591796875, 0.130615234375, 0.097412109375, 1.0, 0.0789794921875, 0.003173828125, 0.0050048828125, 0.1146240234375, 0.007080078125, 0.000732421875, 0.0380859375, 0.068603515625, 0.00439453125, 0.671630859375], [0.004638671875, 0.0225830078125, 0.0, 0.0003662109375, 0.00048828125, 0.000732421875, 0.0015869140625, 0.01220703125, 0.0174560546875, 0.0789794921875, 1.0, 0.00048828125, 0.0755615234375, 0.0030517578125, 0.047119140625, 0.0048828125, 0.00439453125, 0.00390625, 0.000244140625, 0.1123046875], [0.0225830078125, 0.0009765625, 0.0001220703125, 0.005126953125, 0.0020751953125, 0.0, 0.0, 0.0, 0.0, 0.003173828125, 0.00048828125, 1.0, 0.0020751953125, 0.0, 0.0, 0.0003662109375, 0.0478515625, 0.0430908203125, 0.0035400390625, 0.003173828125], [0.0623779296875, 0.0003662109375, 0.000244140625, 0.0064697265625, 0.00341796875, 0.0, 0.0, 0.0001220703125, 0.00048828125, 0.0050048828125, 0.0755615234375, 0.0020751953125, 1.0, 0.00146484375, 0.0098876953125, 0.0687255859375, 0.0689697265625, 0.0, 0.0103759765625, 0.00341796875], [0.0115966796875, 0.3590087890625, 0.0, 0.0, 0.0003662109375, 0.0001220703125, 0.0206298828125, 0.0140380859375, 0.0074462890625, 0.1146240234375, 0.0030517578125, 0.0, 0.00146484375, 1.0, 0.0528564453125, 0.0078125, 0.008056640625, 0.0052490234375, 0.0439453125, 0.0914306640625], [0.0029296875, 0.03271484375, 0.0, 0.000732421875, 0.0, 0.0, 0.001708984375, 0.00146484375, 0.0020751953125, 0.007080078125, 0.047119140625, 0.0, 0.0098876953125, 0.0528564453125, 1.0, 0.0556640625, 0.000732421875, 0.0001220703125, 0.0101318359375, 0.0078125], [0.0146484375, 0.005126953125, 0.0, 0.001953125, 0.00048828125, 0.0, 0.00048828125, 0.0, 0.0001220703125, 0.000732421875, 0.0048828125, 0.0003662109375, 0.0687255859375, 0.0078125, 0.0556640625, 1.0, 0.0045166015625, 0.0, 0.05078125, 0.0006103515625], [0.6761474609375, 0.0048828125, 0.0079345703125, 0.085205078125, 0.0355224609375, 0.0, 0.0, 0.000732421875, 0.001953125, 0.0380859375, 0.00439453125, 0.0478515625, 0.0689697265625, 0.008056640625, 0.000732421875, 0.0045166015625, 1.0, 0.0028076171875, 0.091064453125, 0.0550537109375], [0.002685546875, 0.0224609375, 0.0, 0.0006103515625, 0.0, 0.0, 0.00048828125, 0.035888671875, 0.00048828125, 0.068603515625, 0.00390625, 0.0430908203125, 0.0, 0.0052490234375, 0.0001220703125, 0.0, 0.0028076171875, 1.0, 0.000244140625, 0.0570068359375], [0.2115478515625, 0.032958984375, 0.0010986328125, 0.0050048828125, 0.0064697265625, 0.0, 0.0018310546875, 0.0001220703125, 0.0003662109375, 0.00439453125, 0.000244140625, 0.0035400390625, 0.0103759765625, 0.0439453125, 0.0101318359375, 0.05078125, 0.091064453125, 0.000244140625, 1.0, 0.0025634765625], [0.046630859375, 0.0732421875, 0.0, 0.0047607421875, 0.002197265625, 0.0062255859375, 0.0035400390625, 0.2669677734375, 0.03125, 0.671630859375, 0.1123046875, 0.003173828125, 0.00341796875, 0.0914306640625, 0.0078125, 0.0006103515625, 0.0550537109375, 0.0570068359375, 0.0025634765625, 1.0]]}}}', 'timestamp': '2021-08-04 13:02:19'}]}\n"
     ]
    },
    {
     "name": "stderr",
     "output_type": "stream",
     "text": [
      "DEBUG:qiskit_emulator.emulator_runtime_job:result: got [{'data': '{\"final\": true, \"message\": {\"aligned_kernel_parameters\": {\"__type__\": \"array\", \"__value__\": [0.24730511661879886]}, \"aligned_kernel_matrix\": {\"__type__\": \"array\", \"__value__\": [[1.0, 0.0023193359375, 0.004150390625, 0.052490234375, 0.059814453125, 0.0003662109375, 0.000244140625, 0.003662109375, 0.005859375, 0.052978515625, 0.004638671875, 0.0225830078125, 0.0623779296875, 0.0115966796875, 0.0029296875, 0.0146484375, 0.6761474609375, 0.002685546875, 0.2115478515625, 0.046630859375], [0.0023193359375, 1.0, 0.0, 0.0003662109375, 0.00048828125, 0.0001220703125, 0.071533203125, 0.0076904296875, 0.003662109375, 0.056884765625, 0.0225830078125, 0.0009765625, 0.0003662109375, 0.3590087890625, 0.03271484375, 0.005126953125, 0.0048828125, 0.0224609375, 0.032958984375, 0.0732421875], [0.004150390625, 0.0, 1.0, 0.0673828125, 0.0616455078125, 0.0472412109375, 0.0001220703125, 0.0040283203125, 0.00244140625, 0.0001220703125, 0.0, 0.0001220703125, 0.000244140625, 0.0, 0.0, 0.0, 0.0079345703125, 0.0, 0.0010986328125, 0.0], [0.052490234375, 0.0003662109375, 0.0673828125, 1.0, 0.004638671875, 0.00439453125, 0.0, 0.050537109375, 0.000244140625, 0.001953125, 0.0003662109375, 0.005126953125, 0.0064697265625, 0.0, 0.000732421875, 0.001953125, 0.085205078125, 0.0006103515625, 0.0050048828125, 0.0047607421875], [0.059814453125, 0.00048828125, 0.0616455078125, 0.004638671875, 1.0, 0.0025634765625, 0.0020751953125, 0.000244140625, 0.0574951171875, 0.005126953125, 0.00048828125, 0.0020751953125, 0.00341796875, 0.0003662109375, 0.0, 0.00048828125, 0.0355224609375, 0.0, 0.0064697265625, 0.002197265625], [0.0003662109375, 0.0001220703125, 0.0472412109375, 0.00439453125, 0.0025634765625, 1.0, 0.00244140625, 0.0499267578125, 0.04345703125, 0.005126953125, 0.000732421875, 0.0, 0.0, 0.0001220703125, 0.0, 0.0, 0.0, 0.0, 0.0, 0.0062255859375], [0.000244140625, 0.071533203125, 0.0001220703125, 0.0, 0.0020751953125, 0.00244140625, 1.0, 0.000244140625, 0.05322265625, 0.006591796875, 0.0015869140625, 0.0, 0.0, 0.0206298828125, 0.001708984375, 0.00048828125, 0.0, 0.00048828125, 0.0018310546875, 0.0035400390625], [0.003662109375, 0.0076904296875, 0.0040283203125, 0.050537109375, 0.000244140625, 0.0499267578125, 0.000244140625, 1.0, 0.006103515625, 0.130615234375, 0.01220703125, 0.0, 0.0001220703125, 0.0140380859375, 0.00146484375, 0.0, 0.000732421875, 0.035888671875, 0.0001220703125, 0.2669677734375], [0.005859375, 0.003662109375, 0.00244140625, 0.000244140625, 0.0574951171875, 0.04345703125, 0.05322265625, 0.006103515625, 1.0, 0.097412109375, 0.0174560546875, 0.0, 0.00048828125, 0.0074462890625, 0.0020751953125, 0.0001220703125, 0.001953125, 0.00048828125, 0.0003662109375, 0.03125], [0.052978515625, 0.056884765625, 0.0001220703125, 0.001953125, 0.005126953125, 0.005126953125, 0.006591796875, 0.130615234375, 0.097412109375, 1.0, 0.0789794921875, 0.003173828125, 0.0050048828125, 0.1146240234375, 0.007080078125, 0.000732421875, 0.0380859375, 0.068603515625, 0.00439453125, 0.671630859375], [0.004638671875, 0.0225830078125, 0.0, 0.0003662109375, 0.00048828125, 0.000732421875, 0.0015869140625, 0.01220703125, 0.0174560546875, 0.0789794921875, 1.0, 0.00048828125, 0.0755615234375, 0.0030517578125, 0.047119140625, 0.0048828125, 0.00439453125, 0.00390625, 0.000244140625, 0.1123046875], [0.0225830078125, 0.0009765625, 0.0001220703125, 0.005126953125, 0.0020751953125, 0.0, 0.0, 0.0, 0.0, 0.003173828125, 0.00048828125, 1.0, 0.0020751953125, 0.0, 0.0, 0.0003662109375, 0.0478515625, 0.0430908203125, 0.0035400390625, 0.003173828125], [0.0623779296875, 0.0003662109375, 0.000244140625, 0.0064697265625, 0.00341796875, 0.0, 0.0, 0.0001220703125, 0.00048828125, 0.0050048828125, 0.0755615234375, 0.0020751953125, 1.0, 0.00146484375, 0.0098876953125, 0.0687255859375, 0.0689697265625, 0.0, 0.0103759765625, 0.00341796875], [0.0115966796875, 0.3590087890625, 0.0, 0.0, 0.0003662109375, 0.0001220703125, 0.0206298828125, 0.0140380859375, 0.0074462890625, 0.1146240234375, 0.0030517578125, 0.0, 0.00146484375, 1.0, 0.0528564453125, 0.0078125, 0.008056640625, 0.0052490234375, 0.0439453125, 0.0914306640625], [0.0029296875, 0.03271484375, 0.0, 0.000732421875, 0.0, 0.0, 0.001708984375, 0.00146484375, 0.0020751953125, 0.007080078125, 0.047119140625, 0.0, 0.0098876953125, 0.0528564453125, 1.0, 0.0556640625, 0.000732421875, 0.0001220703125, 0.0101318359375, 0.0078125], [0.0146484375, 0.005126953125, 0.0, 0.001953125, 0.00048828125, 0.0, 0.00048828125, 0.0, 0.0001220703125, 0.000732421875, 0.0048828125, 0.0003662109375, 0.0687255859375, 0.0078125, 0.0556640625, 1.0, 0.0045166015625, 0.0, 0.05078125, 0.0006103515625], [0.6761474609375, 0.0048828125, 0.0079345703125, 0.085205078125, 0.0355224609375, 0.0, 0.0, 0.000732421875, 0.001953125, 0.0380859375, 0.00439453125, 0.0478515625, 0.0689697265625, 0.008056640625, 0.000732421875, 0.0045166015625, 1.0, 0.0028076171875, 0.091064453125, 0.0550537109375], [0.002685546875, 0.0224609375, 0.0, 0.0006103515625, 0.0, 0.0, 0.00048828125, 0.035888671875, 0.00048828125, 0.068603515625, 0.00390625, 0.0430908203125, 0.0, 0.0052490234375, 0.0001220703125, 0.0, 0.0028076171875, 1.0, 0.000244140625, 0.0570068359375], [0.2115478515625, 0.032958984375, 0.0010986328125, 0.0050048828125, 0.0064697265625, 0.0, 0.0018310546875, 0.0001220703125, 0.0003662109375, 0.00439453125, 0.000244140625, 0.0035400390625, 0.0103759765625, 0.0439453125, 0.0101318359375, 0.05078125, 0.091064453125, 0.000244140625, 1.0, 0.0025634765625], [0.046630859375, 0.0732421875, 0.0, 0.0047607421875, 0.002197265625, 0.0062255859375, 0.0035400390625, 0.2669677734375, 0.03125, 0.671630859375, 0.1123046875, 0.003173828125, 0.00341796875, 0.0914306640625, 0.0078125, 0.0006103515625, 0.0550537109375, 0.0570068359375, 0.0025634765625, 1.0]]}}}', 'timestamp': '2021-08-04 13:02:19'}]\n",
      "DEBUG:qiskit_emulator.emulator_runtime_job:result: got final result.\n"
     ]
    },
    {
     "name": "stdout",
     "output_type": "stream",
     "text": [
      "{'aligned_kernel_parameters': {'__type__': 'array', '__value__': [0.24730511661879886]}, 'aligned_kernel_matrix': {'__type__': 'array', '__value__': [[1.0, 0.0023193359375, 0.004150390625, 0.052490234375, 0.059814453125, 0.0003662109375, 0.000244140625, 0.003662109375, 0.005859375, 0.052978515625, 0.004638671875, 0.0225830078125, 0.0623779296875, 0.0115966796875, 0.0029296875, 0.0146484375, 0.6761474609375, 0.002685546875, 0.2115478515625, 0.046630859375], [0.0023193359375, 1.0, 0.0, 0.0003662109375, 0.00048828125, 0.0001220703125, 0.071533203125, 0.0076904296875, 0.003662109375, 0.056884765625, 0.0225830078125, 0.0009765625, 0.0003662109375, 0.3590087890625, 0.03271484375, 0.005126953125, 0.0048828125, 0.0224609375, 0.032958984375, 0.0732421875], [0.004150390625, 0.0, 1.0, 0.0673828125, 0.0616455078125, 0.0472412109375, 0.0001220703125, 0.0040283203125, 0.00244140625, 0.0001220703125, 0.0, 0.0001220703125, 0.000244140625, 0.0, 0.0, 0.0, 0.0079345703125, 0.0, 0.0010986328125, 0.0], [0.052490234375, 0.0003662109375, 0.0673828125, 1.0, 0.004638671875, 0.00439453125, 0.0, 0.050537109375, 0.000244140625, 0.001953125, 0.0003662109375, 0.005126953125, 0.0064697265625, 0.0, 0.000732421875, 0.001953125, 0.085205078125, 0.0006103515625, 0.0050048828125, 0.0047607421875], [0.059814453125, 0.00048828125, 0.0616455078125, 0.004638671875, 1.0, 0.0025634765625, 0.0020751953125, 0.000244140625, 0.0574951171875, 0.005126953125, 0.00048828125, 0.0020751953125, 0.00341796875, 0.0003662109375, 0.0, 0.00048828125, 0.0355224609375, 0.0, 0.0064697265625, 0.002197265625], [0.0003662109375, 0.0001220703125, 0.0472412109375, 0.00439453125, 0.0025634765625, 1.0, 0.00244140625, 0.0499267578125, 0.04345703125, 0.005126953125, 0.000732421875, 0.0, 0.0, 0.0001220703125, 0.0, 0.0, 0.0, 0.0, 0.0, 0.0062255859375], [0.000244140625, 0.071533203125, 0.0001220703125, 0.0, 0.0020751953125, 0.00244140625, 1.0, 0.000244140625, 0.05322265625, 0.006591796875, 0.0015869140625, 0.0, 0.0, 0.0206298828125, 0.001708984375, 0.00048828125, 0.0, 0.00048828125, 0.0018310546875, 0.0035400390625], [0.003662109375, 0.0076904296875, 0.0040283203125, 0.050537109375, 0.000244140625, 0.0499267578125, 0.000244140625, 1.0, 0.006103515625, 0.130615234375, 0.01220703125, 0.0, 0.0001220703125, 0.0140380859375, 0.00146484375, 0.0, 0.000732421875, 0.035888671875, 0.0001220703125, 0.2669677734375], [0.005859375, 0.003662109375, 0.00244140625, 0.000244140625, 0.0574951171875, 0.04345703125, 0.05322265625, 0.006103515625, 1.0, 0.097412109375, 0.0174560546875, 0.0, 0.00048828125, 0.0074462890625, 0.0020751953125, 0.0001220703125, 0.001953125, 0.00048828125, 0.0003662109375, 0.03125], [0.052978515625, 0.056884765625, 0.0001220703125, 0.001953125, 0.005126953125, 0.005126953125, 0.006591796875, 0.130615234375, 0.097412109375, 1.0, 0.0789794921875, 0.003173828125, 0.0050048828125, 0.1146240234375, 0.007080078125, 0.000732421875, 0.0380859375, 0.068603515625, 0.00439453125, 0.671630859375], [0.004638671875, 0.0225830078125, 0.0, 0.0003662109375, 0.00048828125, 0.000732421875, 0.0015869140625, 0.01220703125, 0.0174560546875, 0.0789794921875, 1.0, 0.00048828125, 0.0755615234375, 0.0030517578125, 0.047119140625, 0.0048828125, 0.00439453125, 0.00390625, 0.000244140625, 0.1123046875], [0.0225830078125, 0.0009765625, 0.0001220703125, 0.005126953125, 0.0020751953125, 0.0, 0.0, 0.0, 0.0, 0.003173828125, 0.00048828125, 1.0, 0.0020751953125, 0.0, 0.0, 0.0003662109375, 0.0478515625, 0.0430908203125, 0.0035400390625, 0.003173828125], [0.0623779296875, 0.0003662109375, 0.000244140625, 0.0064697265625, 0.00341796875, 0.0, 0.0, 0.0001220703125, 0.00048828125, 0.0050048828125, 0.0755615234375, 0.0020751953125, 1.0, 0.00146484375, 0.0098876953125, 0.0687255859375, 0.0689697265625, 0.0, 0.0103759765625, 0.00341796875], [0.0115966796875, 0.3590087890625, 0.0, 0.0, 0.0003662109375, 0.0001220703125, 0.0206298828125, 0.0140380859375, 0.0074462890625, 0.1146240234375, 0.0030517578125, 0.0, 0.00146484375, 1.0, 0.0528564453125, 0.0078125, 0.008056640625, 0.0052490234375, 0.0439453125, 0.0914306640625], [0.0029296875, 0.03271484375, 0.0, 0.000732421875, 0.0, 0.0, 0.001708984375, 0.00146484375, 0.0020751953125, 0.007080078125, 0.047119140625, 0.0, 0.0098876953125, 0.0528564453125, 1.0, 0.0556640625, 0.000732421875, 0.0001220703125, 0.0101318359375, 0.0078125], [0.0146484375, 0.005126953125, 0.0, 0.001953125, 0.00048828125, 0.0, 0.00048828125, 0.0, 0.0001220703125, 0.000732421875, 0.0048828125, 0.0003662109375, 0.0687255859375, 0.0078125, 0.0556640625, 1.0, 0.0045166015625, 0.0, 0.05078125, 0.0006103515625], [0.6761474609375, 0.0048828125, 0.0079345703125, 0.085205078125, 0.0355224609375, 0.0, 0.0, 0.000732421875, 0.001953125, 0.0380859375, 0.00439453125, 0.0478515625, 0.0689697265625, 0.008056640625, 0.000732421875, 0.0045166015625, 1.0, 0.0028076171875, 0.091064453125, 0.0550537109375], [0.002685546875, 0.0224609375, 0.0, 0.0006103515625, 0.0, 0.0, 0.00048828125, 0.035888671875, 0.00048828125, 0.068603515625, 0.00390625, 0.0430908203125, 0.0, 0.0052490234375, 0.0001220703125, 0.0, 0.0028076171875, 1.0, 0.000244140625, 0.0570068359375], [0.2115478515625, 0.032958984375, 0.0010986328125, 0.0050048828125, 0.0064697265625, 0.0, 0.0018310546875, 0.0001220703125, 0.0003662109375, 0.00439453125, 0.000244140625, 0.0035400390625, 0.0103759765625, 0.0439453125, 0.0101318359375, 0.05078125, 0.091064453125, 0.000244140625, 1.0, 0.0025634765625], [0.046630859375, 0.0732421875, 0.0, 0.0047607421875, 0.002197265625, 0.0062255859375, 0.0035400390625, 0.2669677734375, 0.03125, 0.671630859375, 0.1123046875, 0.003173828125, 0.00341796875, 0.0914306640625, 0.0078125, 0.0006103515625, 0.0550537109375, 0.0570068359375, 0.0025634765625, 1.0]]}}\n"
     ]
    },
    {
     "name": "stderr",
     "output_type": "stream",
     "text": [
      "DEBUG:qiskit_emulator.emulator_runtime_job:http://qre-dev.oro-sandbox-small1.k8s.cec.lab.emc.com/job/f4e149efe0be/results\n",
      "DEBUG:qiskit_emulator.emulator_runtime_job:http://qre-dev.oro-sandbox-small1.k8s.cec.lab.emc.com/job/f4e149efe0be/results/2021-08-04 13:02:19\n",
      "DEBUG:urllib3.connectionpool:http://qre-dev.oro-sandbox-small1.k8s.cec.lab.emc.com:80 \"GET /job/f4e149efe0be/results/2021-08-04%2013:02:19 HTTP/1.1\" 200 16\n",
      "DEBUG:qiskit_emulator.emulator_runtime_job:got: {'messages': []}\n",
      "DEBUG:qiskit_emulator.emulator_runtime_job:result: got []\n"
     ]
    }
   ],
   "source": [
    "results = job.result(timeout=600)\n",
    "print(results)"
   ]
  },
  {
   "cell_type": "code",
   "execution_count": null,
   "metadata": {},
   "outputs": [],
   "source": []
  }
 ],
 "metadata": {
  "kernelspec": {
   "display_name": "qruntime",
   "language": "python",
   "name": "qruntime"
  },
  "language_info": {
   "codemirror_mode": {
    "name": "ipython",
    "version": 3
   },
   "file_extension": ".py",
   "mimetype": "text/x-python",
   "name": "python",
   "nbconvert_exporter": "python",
   "pygments_lexer": "ipython3",
   "version": "3.9.5"
  }
 },
 "nbformat": 4,
 "nbformat_minor": 2
}
