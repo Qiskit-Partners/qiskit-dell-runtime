{
 "cells": [
  {
   "cell_type": "code",
   "execution_count": 4,
   "source": [
    "'''\n",
    "    local_exec\n",
    "    IBM/Dell Qiskit Runtime Emulator Demo\n",
    "    July 26, 2021\n",
    "    \n",
    "    \n",
    "    The following notebook walks through a (simple) example usage of the \n",
    "    Qiskit Runtime Emulator in a local execution environment: i.e. potentially\n",
    "    using a locally installed simulator or a remote call directly from a\n",
    "    local machine to a remote simulator or QPU.\n",
    "'''\n",
    "\n",
    "from qiskit_emulator import DellHybridProvider\n",
    "from qiskit import QuantumCircuit\n",
    "import logging\n",
    "import requests\n",
    "import time\n",
    "import os\n",
    "\n",
    "'''\n",
    "    If the program that interacts with the simulator/QPU is small enough,\n",
    "    it can be stored as a string in the file that interfaces with the \n",
    "    provider. Both directories and files can be taken as input, as well.\n",
    "\n",
    "'''\n",
    "\n",
    "RUNTIME_PROGRAM = \"\"\"\n",
    "# This code is part of qiskit-runtime.\n",
    "#\n",
    "# (C) Copyright IBM 2021.\n",
    "#\n",
    "# This code is licensed under the Apache License, Version 2.0. You may\n",
    "# obtain a copy of this license in the LICENSE.txt file in the root directory\n",
    "# of this source tree or at http://www.apache.org/licenses/LICENSE-2.0.\n",
    "#\n",
    "# Any modifications or derivative works of this code must retain this\n",
    "# copyright notice, and modified files need to carry a notice indicating\n",
    "# that they have been altered from the originals.\n",
    "from qiskit.compiler import transpile, schedule\n",
    "\n",
    "\n",
    "def main(\n",
    "    backend,\n",
    "    user_messenger,\n",
    "    circuits,\n",
    "    **kwargs,\n",
    "):\n",
    "    circuits = transpile(\n",
    "        circuits,\n",
    "    )\n",
    "    \n",
    "    user_messenger.publish({'results': 'intermittently'}, final=False)\n",
    "\n",
    "    if not isinstance(circuits, list):\n",
    "        circuits = [circuits]\n",
    "\n",
    "    # Compute raw results using either simulator or QPU backend.\n",
    "    result = backend.run(circuits, **kwargs).result()\n",
    "\n",
    "    user_messenger.publish(result.to_dict(), final=True)\n",
    "\"\"\"\n",
    "\n",
    "RUNTIME_PROGRAM_METADATA = {\n",
    "    \"max_execution_time\": 600,\n",
    "    \"description\": \"Qiskit test program\"\n",
    "}\n",
    "\n",
    "PROGRAM_PREFIX = 'qiskit-test'\n",
    "REMOTE_RUNTIME = os.getenv(\"SERVER_URL\") \n",
    "\n",
    "logging.basicConfig(level=logging.DEBUG)"
   ],
   "outputs": [],
   "metadata": {}
  },
  {
   "cell_type": "code",
   "execution_count": 5,
   "source": [
    "'''\n",
    "    The DellHybridProvider is an interface that offers a choice of runtime; either local or remote\n",
    "'''\n",
    "\n",
    "provider = DellHybridProvider()"
   ],
   "outputs": [],
   "metadata": {}
  },
  {
   "cell_type": "code",
   "execution_count": 6,
   "source": [
    "'''\n",
    "    The runtime is a service provided that allows clients to upload, update,\n",
    "    view, and run programs inside an execution environment. Since the client\n",
    "    has not specified a remote runtime to the provider it defaults to local.\n",
    "'''\n",
    "\n",
    "program_id = provider.runtime.upload_program(RUNTIME_PROGRAM, metadata=RUNTIME_PROGRAM_METADATA)\n",
    "print(f\"PROGRAM ID: {program_id}\")"
   ],
   "outputs": [
    {
     "output_type": "stream",
     "name": "stderr",
     "text": [
      "DEBUG:qiskit_emulator.emulator_runtime_service:Have string: \n",
      "# This code is part of qiskit-runtime.\n",
      "#\n",
      "# (C) Copyright IBM 2021.\n",
      "#\n",
      "# This code is licensed under the Apache License, Version 2.0. You may\n",
      "# obtain a copy of this license in the LICENSE.txt file in the root directory\n",
      "# of this source tree or at http://www.apache.org/licenses/LICENSE-2.0.\n",
      "#\n",
      "# Any modifications or derivative works of this code must retain this\n",
      "# copyright notice, and modified files need to carry a notice indicating\n",
      "# that they have been altered from the originals.\n",
      "from qiskit.compiler import transpile, schedule\n",
      "\n",
      "\n",
      "def main(\n",
      "    backend,\n",
      "    user_messenger,\n",
      "    circuits,\n",
      "    **kwargs,\n",
      "):\n",
      "    circuits = transpile(\n",
      "        circuits,\n",
      "    )\n",
      "    \n",
      "    user_messenger.publish({'results': 'intermittently'}, final=False)\n",
      "\n",
      "    if not isinstance(circuits, list):\n",
      "        circuits = [circuits]\n",
      "\n",
      "    # Compute raw results using either simulator or QPU backend.\n",
      "    result = backend.run(circuits, **kwargs).result()\n",
      "\n",
      "    user_messenger.publish(result.to_dict(), final=True)\n",
      "\n"
     ]
    },
    {
     "output_type": "stream",
     "name": "stdout",
     "text": [
      "PROGRAM ID: 682f340e7a7fef02\n"
     ]
    }
   ],
   "metadata": {
    "scrolled": true
   }
  },
  {
   "cell_type": "code",
   "execution_count": 7,
   "source": [
    "programs = provider.runtime.pprint_programs(refresh=True)"
   ],
   "outputs": [
    {
     "output_type": "stream",
     "name": "stdout",
     "text": [
      "==================================================\n",
      "682f340e7a7fef02:\n",
      "  Name: 682f340e7a7fef02\n",
      "  Description: Qiskit test program\n",
      "  Version: 0\n",
      "  Creation date: 12/08/2021 17:36:58\n",
      "  Max execution time: 600\n",
      "  Input parameters:\n",
      "    none\n",
      "  Interim results:\n",
      "    none\n",
      "  Returns:\n",
      "    none\n"
     ]
    }
   ],
   "metadata": {
    "scrolled": false
   }
  },
  {
   "cell_type": "code",
   "execution_count": 8,
   "source": [
    "provider.runtime.update_program(program_id, description=\"IBM/Dell Updated Qiskit Runtime Program\")"
   ],
   "outputs": [
    {
     "output_type": "execute_result",
     "data": {
      "text/plain": [
       "True"
      ]
     },
     "metadata": {},
     "execution_count": 8
    }
   ],
   "metadata": {
    "scrolled": false
   }
  },
  {
   "cell_type": "code",
   "execution_count": 9,
   "source": [
    "programs = provider.runtime.pprint_programs(refresh=True)"
   ],
   "outputs": [
    {
     "output_type": "stream",
     "name": "stdout",
     "text": [
      "==================================================\n",
      "682f340e7a7fef02:\n",
      "  Name: 682f340e7a7fef02\n",
      "  Description: IBM/Dell Updated Qiskit Runtime Program\n",
      "  Version: 0\n",
      "  Creation date: 12/08/2021 17:36:58\n",
      "  Max execution time: 600\n",
      "  Input parameters:\n",
      "    none\n",
      "  Interim results:\n",
      "    none\n",
      "  Returns:\n",
      "    none\n"
     ]
    }
   ],
   "metadata": {}
  },
  {
   "cell_type": "code",
   "execution_count": 10,
   "source": [
    "'''\n",
    "    Setting up QuantumCircuit objects from Qiskit to provide as inputs\n",
    "    to the program we uploaded.\n",
    "'''\n",
    "\n",
    "qc = QuantumCircuit(2, 2)\n",
    "qc.h(0)\n",
    "qc.cx(0, 1)\n",
    "qc.measure([0, 1], [0, 1])\n",
    "\n",
    "program_inputs = {\n",
    "    'circuits': qc,\n",
    "}"
   ],
   "outputs": [],
   "metadata": {}
  },
  {
   "cell_type": "code",
   "execution_count": 11,
   "source": [
    "'''\n",
    "    Through the provider we can run an instance of our program with the\n",
    "    inputs we have just created. \n",
    "    \n",
    "    When we run a job locally, we launch a separate process and communicate with the\n",
    "    client process via a socket connection.\n",
    "'''\n",
    "\n",
    "job = provider.runtime.run(program_id, options=None, inputs=program_inputs)"
   ],
   "outputs": [
    {
     "output_type": "stream",
     "name": "stderr",
     "text": [
      "DEBUG:qiskit_emulator.emulator_runtime_job:50395\n",
      "DEBUG:root:starting to listen to port 50395\n",
      "DEBUG:qiskit_emulator.emulation_executor:creating temp directory at /tmp/tmpq7qsj28n\n",
      "DEBUG:qiskit_emulator.emulation_executor:finished writing to /tmp/tmpq7qsj28n/program.py\n",
      "DEBUG:qiskit_emulator.emulation_executor:finished writing to /tmp/tmpq7qsj28n/params.json\n",
      "DEBUG:qiskit_emulator.emulation_executor:finished writing to /tmp/tmpq7qsj28n/executor.py\n",
      "DEBUG:qiskit_emulator.emulation_executor:starting ['/home/geoff/miniconda3/envs/qruntime/bin/python3', '/tmp/tmpq7qsj28n/executor.py']\n",
      "DEBUG:root:accepted client connection from ('127.0.0.1', 37780)\n",
      "DEBUG:qiskit_emulator.emulator_runtime_job:result: got final result.\n",
      "DEBUG:qiskit_emulator.emulator_runtime_job:local thread: exiting\n",
      "DEBUG:qiskit_emulator.emulation_executor:finished executing ['/home/geoff/miniconda3/envs/qruntime/bin/python3', '/tmp/tmpq7qsj28n/executor.py']\n",
      "DEBUG:qiskit_emulator.emulation_executor:stdout: using default backend: aer_simulator\n",
      "exit\n",
      "\n",
      "DEBUG:qiskit_emulator.emulation_executor:stderr: \n",
      "DEBUG:qiskit_emulator.emulation_executor:status: sent COMPLETED\n"
     ]
    }
   ],
   "metadata": {}
  },
  {
   "cell_type": "code",
   "execution_count": 12,
   "source": [
    "'''\n",
    "    We can obtain job results and specify a timeout if desired.\n",
    "    If we do not specify a timeout, the function call returns immediately,\n",
    "    either with None or the final results if they are present.\n",
    "'''\n",
    "\n",
    "results = job.result(timeout=60)\n",
    "print(results)"
   ],
   "outputs": [
    {
     "output_type": "stream",
     "name": "stdout",
     "text": [
      "{'backend_name': 'aer_simulator', 'backend_version': '0.8.2', 'qobj_id': 'e28c6c57-2574-438d-b46a-02c37d920ff1', 'job_id': 'f86ca89a-92a0-4db3-9d21-8f12b6ac90ae', 'success': True, 'results': [{'shots': 1024, 'success': True, 'data': {'counts': {'0x0': 487, '0x3': 537}}, 'meas_level': 2, 'header': {'clbit_labels': [['c', 0], ['c', 1]], 'creg_sizes': [['c', 2]], 'global_phase': 0.0, 'memory_slots': 2, 'metadata': None, 'n_qubits': 2, 'name': 'circuit-2', 'qreg_sizes': [['q', 2]], 'qubit_labels': [['q', 0], ['q', 1]]}, 'status': 'DONE', 'seed_simulator': 2258615556, 'metadata': {'parallel_state_update': 2, 'measure_sampling': True, 'method': 'stabilizer', 'parallel_shots': 1, 'device': 'CPU', 'fusion': {'enabled': False}}, 'time_taken': 0.002226786}], 'date': '2021-08-12T17:37:49.800321', 'status': 'COMPLETED', 'header': {'backend_name': 'aer_simulator', 'backend_version': '0.8.2'}, 'metadata': {'time_taken': 0.002396849, 'parallel_experiments': 1, 'omp_enabled': True, 'max_gpu_memory_mb': 0, 'num_mpi_processes': 1, 'max_memory_mb': 16040, 'mpi_rank': 0}, 'time_taken': 0.0025255680084228516}\n"
     ]
    }
   ],
   "metadata": {
    "scrolled": true
   }
  },
  {
   "cell_type": "code",
   "execution_count": 13,
   "source": [
    "'''\n",
    "    We can also provide a callback function to the runtime.\n",
    "    A thread launched in the client process that polls for messages\n",
    "    calls the callback function whenever it receives a non-final message.\n",
    "'''\n",
    "\n",
    "def callback_function(msg):\n",
    "    print(f'******************\\n\\n\\nFrom Callback Function: {msg}\\n\\n\\n******************')\n",
    "    "
   ],
   "outputs": [],
   "metadata": {}
  },
  {
   "cell_type": "code",
   "execution_count": 14,
   "source": [
    "job = provider.runtime.run(program_id, inputs=program_inputs, options=None, callback=callback_function)"
   ],
   "outputs": [
    {
     "output_type": "stream",
     "name": "stderr",
     "text": [
      "DEBUG:qiskit_emulator.emulator_runtime_job:34955\n",
      "DEBUG:root:starting to listen to port 34955\n",
      "DEBUG:qiskit_emulator.emulation_executor:creating temp directory at /tmp/tmpxzsk1_f3\n",
      "DEBUG:qiskit_emulator.emulation_executor:finished writing to /tmp/tmpxzsk1_f3/program.py\n",
      "DEBUG:qiskit_emulator.emulation_executor:finished writing to /tmp/tmpxzsk1_f3/params.json\n",
      "DEBUG:qiskit_emulator.emulation_executor:finished writing to /tmp/tmpxzsk1_f3/executor.py\n",
      "DEBUG:qiskit_emulator.emulation_executor:starting ['/home/geoff/miniconda3/envs/qruntime/bin/python3', '/tmp/tmpxzsk1_f3/executor.py']\n",
      "DEBUG:root:accepted client connection from ('127.0.0.1', 32854)\n",
      "DEBUG:qiskit_emulator.emulator_runtime_job:result: got final result.\n",
      "DEBUG:qiskit_emulator.emulator_runtime_job:local thread: exiting\n",
      "DEBUG:qiskit_emulator.emulation_executor:finished executing ['/home/geoff/miniconda3/envs/qruntime/bin/python3', '/tmp/tmpxzsk1_f3/executor.py']\n",
      "DEBUG:qiskit_emulator.emulation_executor:stdout: using default backend: aer_simulator\n",
      "exit\n",
      "\n",
      "DEBUG:qiskit_emulator.emulation_executor:stderr: \n",
      "DEBUG:qiskit_emulator.emulation_executor:status: sent COMPLETED\n"
     ]
    },
    {
     "output_type": "stream",
     "name": "stdout",
     "text": [
      "******************\n",
      "\n",
      "\n",
      "From Callback Function: {'results': 'intermittently'}\n",
      "\n",
      "\n",
      "******************\n"
     ]
    }
   ],
   "metadata": {
    "scrolled": false
   }
  },
  {
   "cell_type": "code",
   "execution_count": 15,
   "source": [
    "'''\n",
    "    We can also specify a different backend to run the quantum portions on. \n",
    "    The default backend is the Aer simulator.\n",
    "'''\n",
    "\n",
    "program_inputs['backend_name'] = 'emulator'\n",
    "job = provider.runtime.run(program_id, inputs=program_inputs, options=None, callback=callback_function)"
   ],
   "outputs": [
    {
     "output_type": "stream",
     "name": "stderr",
     "text": [
      "DEBUG:qiskit_emulator.emulator_runtime_job:56871\n",
      "DEBUG:root:starting to listen to port 56871\n",
      "DEBUG:qiskit_emulator.emulation_executor:creating temp directory at /tmp/tmpd783vmz_\n",
      "DEBUG:qiskit_emulator.emulation_executor:finished writing to /tmp/tmpd783vmz_/program.py\n",
      "DEBUG:qiskit_emulator.emulation_executor:finished writing to /tmp/tmpd783vmz_/params.json\n",
      "DEBUG:qiskit_emulator.emulation_executor:finished writing to /tmp/tmpd783vmz_/executor.py\n",
      "DEBUG:qiskit_emulator.emulation_executor:starting ['/home/geoff/miniconda3/envs/qruntime/bin/python3', '/tmp/tmpd783vmz_/executor.py']\n",
      "DEBUG:root:accepted client connection from ('127.0.0.1', 35720)\n",
      "DEBUG:qiskit_emulator.emulator_runtime_job:result: got final result.\n",
      "DEBUG:qiskit_emulator.emulator_runtime_job:local thread: exiting\n",
      "DEBUG:qiskit_emulator.emulation_executor:finished executing ['/home/geoff/miniconda3/envs/qruntime/bin/python3', '/tmp/tmpd783vmz_/executor.py']\n",
      "DEBUG:qiskit_emulator.emulation_executor:stdout: {'circuits': <qiskit.circuit.quantumcircuit.QuantumCircuit object at 0x7efd60cbbe80>, 'backend_name': 'emulator'}\n",
      "using backend: emulator\n",
      "exit\n",
      "\n",
      "DEBUG:qiskit_emulator.emulation_executor:stderr: \n",
      "DEBUG:qiskit_emulator.emulation_executor:status: sent COMPLETED\n"
     ]
    },
    {
     "output_type": "stream",
     "name": "stdout",
     "text": [
      "******************\n",
      "\n",
      "\n",
      "From Callback Function: {'results': 'intermittently'}\n",
      "\n",
      "\n",
      "******************\n"
     ]
    }
   ],
   "metadata": {
    "scrolled": false
   }
  },
  {
   "cell_type": "code",
   "execution_count": null,
   "source": [],
   "outputs": [],
   "metadata": {}
  }
 ],
 "metadata": {
  "kernelspec": {
   "display_name": "qruntime",
   "language": "python",
   "name": "qruntime"
  },
  "language_info": {
   "codemirror_mode": {
    "name": "ipython",
    "version": 3
   },
   "file_extension": ".py",
   "mimetype": "text/x-python",
   "name": "python",
   "nbconvert_exporter": "python",
   "pygments_lexer": "ipython3",
   "version": "3.9.5"
  }
 },
 "nbformat": 4,
 "nbformat_minor": 2
}