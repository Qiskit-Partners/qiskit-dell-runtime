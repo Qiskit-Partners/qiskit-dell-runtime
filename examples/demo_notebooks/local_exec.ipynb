{
 "cells": [
  {
   "cell_type": "code",
   "execution_count": 1,
   "metadata": {},
   "outputs": [],
   "source": [
    "'''\n",
    "    local_exec\n",
    "    IBM/Dell Qiskit Runtime Emulator Demo\n",
    "    July 26, 2021\n",
    "    \n",
    "    \n",
    "    The following notebook walks through a (simple) example usage of the \n",
    "    Qiskit Runtime Emulator in a local execution environment: i.e. potentially\n",
    "    using a locally installed simulator or a remote call directly from a\n",
    "    local machine to a remote simulator or QPU.\n",
    "'''\n",
    "\n",
    "from qiskit_emulator import EmulatorProvider\n",
    "from qiskit import QuantumCircuit\n",
    "import logging\n",
    "import requests\n",
    "import time\n",
    "import os\n",
    "\n",
    "'''\n",
    "    If the program that interacts with the simulator/QPU is small enough,\n",
    "    it can be stored as a string in the file that interfaces with the \n",
    "    provider. Both directories and files can be taken as input, as well.\n",
    "\n",
    "'''\n",
    "\n",
    "RUNTIME_PROGRAM = \"\"\"\n",
    "# This code is part of qiskit-runtime.\n",
    "#\n",
    "# (C) Copyright IBM 2021.\n",
    "#\n",
    "# This code is licensed under the Apache License, Version 2.0. You may\n",
    "# obtain a copy of this license in the LICENSE.txt file in the root directory\n",
    "# of this source tree or at http://www.apache.org/licenses/LICENSE-2.0.\n",
    "#\n",
    "# Any modifications or derivative works of this code must retain this\n",
    "# copyright notice, and modified files need to carry a notice indicating\n",
    "# that they have been altered from the originals.\n",
    "from qiskit.compiler import transpile, schedule\n",
    "\n",
    "\n",
    "def main(\n",
    "    backend,\n",
    "    user_messenger,\n",
    "    circuits,\n",
    "    **kwargs,\n",
    "):\n",
    "    circuits = transpile(\n",
    "        circuits,\n",
    "    )\n",
    "    \n",
    "    user_messenger.publish({'results': 'intermittently'}, final=False)\n",
    "\n",
    "    if not isinstance(circuits, list):\n",
    "        circuits = [circuits]\n",
    "\n",
    "    # Compute raw results using either simulator or QPU backend.\n",
    "    result = backend.run(circuits, **kwargs).result()\n",
    "\n",
    "    user_messenger.publish(result.to_dict(), final=True)\n",
    "\"\"\"\n",
    "\n",
    "RUNTIME_PROGRAM_METADATA = {\n",
    "    \"max_execution_time\": 600,\n",
    "    \"description\": \"Qiskit test program\"\n",
    "}\n",
    "\n",
    "PROGRAM_PREFIX = 'qiskit-test'\n",
    "REMOTE_RUNTIME = os.getenv(\"SERVER_URL\") \n",
    "\n",
    "logging.basicConfig(level=logging.DEBUG)"
   ]
  },
  {
   "cell_type": "code",
   "execution_count": 2,
   "metadata": {},
   "outputs": [
    {
     "name": "stderr",
     "output_type": "stream",
     "text": [
      "INFO:qiskit.compiler.assembler:Total Assembly Time - 0.08082 (ms)\n",
      "INFO:qiskit.compiler.assembler:Total Assembly Time - 0.06008 (ms)\n",
      "INFO:qiskit.compiler.assembler:Total Assembly Time - 0.05531 (ms)\n",
      "INFO:qiskit.compiler.assembler:Total Assembly Time - 0.05484 (ms)\n",
      "INFO:qiskit.compiler.assembler:Total Assembly Time - 0.05317 (ms)\n",
      "INFO:qiskit.compiler.assembler:Total Assembly Time - 0.06318 (ms)\n",
      "INFO:qiskit.compiler.assembler:Total Assembly Time - 0.05341 (ms)\n",
      "INFO:qiskit.compiler.assembler:Total Assembly Time - 0.05341 (ms)\n",
      "INFO:qiskit.compiler.assembler:Total Assembly Time - 0.06127 (ms)\n",
      "INFO:qiskit.compiler.assembler:Total Assembly Time - 0.05293 (ms)\n",
      "INFO:qiskit.compiler.assembler:Total Assembly Time - 0.05651 (ms)\n"
     ]
    }
   ],
   "source": [
    "'''\n",
    "    The EmulatorProvider is an interface that offers a choice of runtime\n",
    "    (local or remote) and lists which backends are available locally.\n",
    "    \n",
    "    Both the client process and the job process interact with the \n",
    "    EmulatorProvider - the client mainly uses it for the runtime while the \n",
    "    job process selects a backend from the list.\n",
    "'''\n",
    "\n",
    "provider = EmulatorProvider()"
   ]
  },
  {
   "cell_type": "code",
   "execution_count": 3,
   "metadata": {
    "scrolled": true
   },
   "outputs": [
    {
     "name": "stderr",
     "output_type": "stream",
     "text": [
      "DEBUG:qiskit_emulator.emulator_runtime_service:Have string: \n",
      "# This code is part of qiskit-runtime.\n",
      "#\n",
      "# (C) Copyright IBM 2021.\n",
      "#\n",
      "# This code is licensed under the Apache License, Version 2.0. You may\n",
      "# obtain a copy of this license in the LICENSE.txt file in the root directory\n",
      "# of this source tree or at http://www.apache.org/licenses/LICENSE-2.0.\n",
      "#\n",
      "# Any modifications or derivative works of this code must retain this\n",
      "# copyright notice, and modified files need to carry a notice indicating\n",
      "# that they have been altered from the originals.\n",
      "from qiskit.compiler import transpile, schedule\n",
      "\n",
      "\n",
      "def main(\n",
      "    backend,\n",
      "    user_messenger,\n",
      "    circuits,\n",
      "    **kwargs,\n",
      "):\n",
      "    circuits = transpile(\n",
      "        circuits,\n",
      "    )\n",
      "    \n",
      "    user_messenger.publish({'results': 'intermittently'}, final=False)\n",
      "\n",
      "    if not isinstance(circuits, list):\n",
      "        circuits = [circuits]\n",
      "\n",
      "    # Compute raw results using either simulator or QPU backend.\n",
      "    result = backend.run(circuits, **kwargs).result()\n",
      "\n",
      "    user_messenger.publish(result.to_dict(), final=True)\n",
      "\n"
     ]
    },
    {
     "name": "stdout",
     "output_type": "stream",
     "text": [
      "PROGRAM ID: 4ed007ab4b082f2b\n"
     ]
    }
   ],
   "source": [
    "'''\n",
    "    The runtime is a service provided that allows clients to upload, update,\n",
    "    view, and run programs inside an execution environment. Since the client\n",
    "    has not specified a remote runtime to the provider it defaults to local.\n",
    "'''\n",
    "\n",
    "program_id = provider.runtime.upload_program(RUNTIME_PROGRAM, metadata=RUNTIME_PROGRAM_METADATA)\n",
    "print(f\"PROGRAM ID: {program_id}\")"
   ]
  },
  {
   "cell_type": "code",
   "execution_count": 4,
   "metadata": {
    "scrolled": false
   },
   "outputs": [
    {
     "name": "stdout",
     "output_type": "stream",
     "text": [
      "==================================================\n",
      "4ed007ab4b082f2b:\n",
      "  Name: 4ed007ab4b082f2b\n",
      "  Description: Qiskit test program\n",
      "  Version: 0\n",
      "  Creation date: 04/08/2021 12:54:06\n",
      "  Max execution time: 600\n",
      "  Input parameters:\n",
      "    none\n",
      "  Interim results:\n",
      "    none\n",
      "  Returns:\n",
      "    none\n"
     ]
    }
   ],
   "source": [
    "programs = provider.runtime.pprint_programs(refresh=True)"
   ]
  },
  {
   "cell_type": "code",
   "execution_count": 5,
   "metadata": {
    "scrolled": false
   },
   "outputs": [
    {
     "data": {
      "text/plain": [
       "True"
      ]
     },
     "execution_count": 5,
     "metadata": {},
     "output_type": "execute_result"
    }
   ],
   "source": [
    "provider.runtime.update_program(program_id, description=\"IBM/Dell Updated Qiskit Runtime Program\")"
   ]
  },
  {
   "cell_type": "code",
   "execution_count": 6,
   "metadata": {},
   "outputs": [
    {
     "name": "stdout",
     "output_type": "stream",
     "text": [
      "==================================================\n",
      "4ed007ab4b082f2b:\n",
      "  Name: 4ed007ab4b082f2b\n",
      "  Description: IBM/Dell Updated Qiskit Runtime Program\n",
      "  Version: 0\n",
      "  Creation date: 04/08/2021 12:54:06\n",
      "  Max execution time: 600\n",
      "  Input parameters:\n",
      "    none\n",
      "  Interim results:\n",
      "    none\n",
      "  Returns:\n",
      "    none\n"
     ]
    }
   ],
   "source": [
    "programs = provider.runtime.pprint_programs(refresh=True)"
   ]
  },
  {
   "cell_type": "code",
   "execution_count": 7,
   "metadata": {},
   "outputs": [],
   "source": [
    "'''\n",
    "    Setting up QuantumCircuit objects from Qiskit to provide as inputs\n",
    "    to the program we uploaded.\n",
    "'''\n",
    "\n",
    "qc = QuantumCircuit(2, 2)\n",
    "qc.h(0)\n",
    "qc.cx(0, 1)\n",
    "qc.measure([0, 1], [0, 1])\n",
    "\n",
    "program_inputs = {\n",
    "    'circuits': qc,\n",
    "}"
   ]
  },
  {
   "cell_type": "code",
   "execution_count": 8,
   "metadata": {},
   "outputs": [
    {
     "name": "stderr",
     "output_type": "stream",
     "text": [
      "DEBUG:qiskit_emulator.emulator_runtime_job:41177\n",
      "DEBUG:root:starting to listen to port 41177\n",
      "DEBUG:qiskit_emulator.emulation_executor:creating temp directory at /tmp/tmpmj7cxxsj\n",
      "DEBUG:qiskit_emulator.emulation_executor:finished writing to /tmp/tmpmj7cxxsj/program.py\n",
      "DEBUG:qiskit_emulator.emulation_executor:finished writing to /tmp/tmpmj7cxxsj/params.json\n",
      "DEBUG:qiskit_emulator.emulation_executor:finished writing to /tmp/tmpmj7cxxsj/executor.py\n",
      "DEBUG:qiskit_emulator.emulation_executor:starting ['/home/geoff/miniconda3/envs/qruntime/bin/python3', '/tmp/tmpmj7cxxsj/executor.py']\n",
      "DEBUG:root:accepted client connection from ('127.0.0.1', 35480)\n",
      "DEBUG:qiskit_emulator.emulator_runtime_job:result: got final result.\n",
      "DEBUG:qiskit_emulator.emulator_runtime_job:local thread: exiting\n",
      "DEBUG:qiskit_emulator.emulation_executor:finished executing ['/home/geoff/miniconda3/envs/qruntime/bin/python3', '/tmp/tmpmj7cxxsj/executor.py']\n",
      "DEBUG:qiskit_emulator.emulation_executor:stdout: using default backend: aer_simulator\n",
      "exit\n",
      "\n",
      "DEBUG:qiskit_emulator.emulation_executor:stderr: \n",
      "DEBUG:qiskit_emulator.emulation_executor:status: sent COMPLETED\n"
     ]
    }
   ],
   "source": [
    "'''\n",
    "    Through the provider we can run an instance of our program with the\n",
    "    inputs we have just created. \n",
    "    \n",
    "    When we run a job locally, we launch a separate process and communicate with the\n",
    "    client process via a socket connection.\n",
    "'''\n",
    "\n",
    "job = provider.runtime.run(program_id, options=None, inputs=program_inputs)"
   ]
  },
  {
   "cell_type": "code",
   "execution_count": 9,
   "metadata": {
    "scrolled": true
   },
   "outputs": [
    {
     "name": "stdout",
     "output_type": "stream",
     "text": [
      "{'backend_name': 'aer_simulator', 'backend_version': '0.8.2', 'qobj_id': 'd1d4b47c-f50a-4601-94d1-dcdeb9df36bb', 'job_id': '3b1c0696-de06-4a1a-bed2-0e18d17a6537', 'success': True, 'results': [{'shots': 1024, 'success': True, 'data': {'counts': {'0x0': 526, '0x3': 498}}, 'meas_level': 2, 'header': {'clbit_labels': [['c', 0], ['c', 1]], 'creg_sizes': [['c', 2]], 'global_phase': 0.0, 'memory_slots': 2, 'metadata': None, 'n_qubits': 2, 'name': 'circuit-2', 'qreg_sizes': [['q', 2]], 'qubit_labels': [['q', 0], ['q', 1]]}, 'status': 'DONE', 'seed_simulator': 4284887258, 'metadata': {'parallel_state_update': 2, 'measure_sampling': True, 'method': 'stabilizer', 'parallel_shots': 1, 'device': 'CPU', 'fusion': {'enabled': False}}, 'time_taken': 0.0022063390000000003}], 'date': '2021-08-04T12:54:22.126370', 'status': 'COMPLETED', 'header': {'backend_name': 'aer_simulator', 'backend_version': '0.8.2'}, 'metadata': {'time_taken': 0.002378308, 'parallel_experiments': 1, 'omp_enabled': True, 'max_gpu_memory_mb': 0, 'num_mpi_processes': 1, 'max_memory_mb': 16040, 'mpi_rank': 0}, 'time_taken': 0.0025167465209960938}\n"
     ]
    }
   ],
   "source": [
    "'''\n",
    "    We can obtain job results and specify a timeout if desired.\n",
    "    If we do not specify a timeout, the function call returns immediately,\n",
    "    either with None or the final results if they are present.\n",
    "'''\n",
    "\n",
    "results = job.result(timeout=60)\n",
    "print(results)"
   ]
  },
  {
   "cell_type": "code",
   "execution_count": 10,
   "metadata": {},
   "outputs": [],
   "source": [
    "'''\n",
    "    We can also provide a callback function to the runtime.\n",
    "    A thread launched in the client process that polls for messages\n",
    "    calls the callback function whenever it receives a non-final message.\n",
    "'''\n",
    "\n",
    "def callback_function(msg):\n",
    "    print(f'******************\\n\\n\\nFrom Callback Function: {msg}\\n\\n\\n******************')\n",
    "    "
   ]
  },
  {
   "cell_type": "code",
   "execution_count": 11,
   "metadata": {
    "scrolled": false
   },
   "outputs": [
    {
     "name": "stderr",
     "output_type": "stream",
     "text": [
      "DEBUG:qiskit_emulator.emulator_runtime_job:60719\n",
      "DEBUG:root:starting to listen to port 60719\n",
      "DEBUG:qiskit_emulator.emulation_executor:creating temp directory at /tmp/tmpwdpy31ri\n",
      "DEBUG:qiskit_emulator.emulation_executor:finished writing to /tmp/tmpwdpy31ri/program.py\n",
      "DEBUG:qiskit_emulator.emulation_executor:finished writing to /tmp/tmpwdpy31ri/params.json\n",
      "DEBUG:qiskit_emulator.emulation_executor:finished writing to /tmp/tmpwdpy31ri/executor.py\n",
      "DEBUG:qiskit_emulator.emulation_executor:starting ['/home/geoff/miniconda3/envs/qruntime/bin/python3', '/tmp/tmpwdpy31ri/executor.py']\n",
      "DEBUG:root:accepted client connection from ('127.0.0.1', 59240)\n",
      "DEBUG:qiskit_emulator.emulator_runtime_job:result: got final result.\n",
      "DEBUG:qiskit_emulator.emulator_runtime_job:local thread: exiting\n",
      "DEBUG:qiskit_emulator.emulation_executor:finished executing ['/home/geoff/miniconda3/envs/qruntime/bin/python3', '/tmp/tmpwdpy31ri/executor.py']\n",
      "DEBUG:qiskit_emulator.emulation_executor:stdout: using default backend: aer_simulator\n",
      "exit\n",
      "\n",
      "DEBUG:qiskit_emulator.emulation_executor:stderr: \n",
      "DEBUG:qiskit_emulator.emulation_executor:status: sent COMPLETED\n"
     ]
    },
    {
     "name": "stdout",
     "output_type": "stream",
     "text": [
      "******************\n",
      "\n",
      "\n",
      "From Callback Function: {'results': 'intermittently'}\n",
      "\n",
      "\n",
      "******************\n"
     ]
    }
   ],
   "source": [
    "job = provider.runtime.run(program_id, inputs=program_inputs, options=None, callback=callback_function)"
   ]
  },
  {
   "cell_type": "code",
   "execution_count": 12,
   "metadata": {
    "scrolled": false
   },
   "outputs": [
    {
     "name": "stderr",
     "output_type": "stream",
     "text": [
      "DEBUG:qiskit_emulator.emulator_runtime_job:59417\n",
      "DEBUG:root:starting to listen to port 59417\n",
      "DEBUG:qiskit_emulator.emulation_executor:creating temp directory at /tmp/tmpx63qoxxz\n",
      "DEBUG:qiskit_emulator.emulation_executor:finished writing to /tmp/tmpx63qoxxz/program.py\n",
      "DEBUG:qiskit_emulator.emulation_executor:finished writing to /tmp/tmpx63qoxxz/params.json\n",
      "DEBUG:qiskit_emulator.emulation_executor:finished writing to /tmp/tmpx63qoxxz/executor.py\n",
      "DEBUG:qiskit_emulator.emulation_executor:starting ['/home/geoff/miniconda3/envs/qruntime/bin/python3', '/tmp/tmpx63qoxxz/executor.py']\n",
      "DEBUG:root:accepted client connection from ('127.0.0.1', 49900)\n",
      "DEBUG:qiskit_emulator.emulator_runtime_job:result: got final result.\n",
      "DEBUG:qiskit_emulator.emulator_runtime_job:local thread: exiting\n",
      "DEBUG:qiskit_emulator.emulation_executor:finished executing ['/home/geoff/miniconda3/envs/qruntime/bin/python3', '/tmp/tmpx63qoxxz/executor.py']\n",
      "DEBUG:qiskit_emulator.emulation_executor:stdout: {'circuits': <qiskit.circuit.quantumcircuit.QuantumCircuit object at 0x7f0ef84ceca0>, 'backend_name': 'emulator'}\n",
      "using backend: emulator\n",
      "exit\n",
      "\n",
      "DEBUG:qiskit_emulator.emulation_executor:stderr: \n",
      "DEBUG:qiskit_emulator.emulation_executor:status: sent COMPLETED\n"
     ]
    },
    {
     "name": "stdout",
     "output_type": "stream",
     "text": [
      "******************\n",
      "\n",
      "\n",
      "From Callback Function: {'results': 'intermittently'}\n",
      "\n",
      "\n",
      "******************\n"
     ]
    }
   ],
   "source": [
    "'''\n",
    "    We can also specify a different backend to run the quantum portions on. \n",
    "    The default backend is the Aer simulator.\n",
    "'''\n",
    "\n",
    "program_inputs['backend_name'] = 'emulator'\n",
    "job = provider.runtime.run(program_id, inputs=program_inputs, options=None, callback=callback_function)"
   ]
  },
  {
   "cell_type": "code",
   "execution_count": null,
   "metadata": {},
   "outputs": [],
   "source": []
  }
 ],
 "metadata": {
  "kernelspec": {
   "display_name": "qruntime",
   "language": "python",
   "name": "qruntime"
  },
  "language_info": {
   "codemirror_mode": {
    "name": "ipython",
    "version": 3
   },
   "file_extension": ".py",
   "mimetype": "text/x-python",
   "name": "python",
   "nbconvert_exporter": "python",
   "pygments_lexer": "ipython3",
   "version": "3.9.5"
  }
 },
 "nbformat": 4,
 "nbformat_minor": 2
}
