{
 "cells": [
  {
   "cell_type": "code",
   "execution_count": 1,
   "id": "5a93b684",
   "metadata": {},
   "outputs": [],
   "source": [
    "from qiskit_emulator import EmulatorProvider"
   ]
  },
  {
   "cell_type": "code",
   "execution_count": 2,
   "id": "098bdb2d",
   "metadata": {},
   "outputs": [],
   "source": [
    "RUNTIME_PROGRAM = \"\"\"\n",
    "import random\n",
    "\n",
    "from qiskit import transpile\n",
    "from qiskit.circuit.random import random_circuit\n",
    "\n",
    "def prepare_circuits(backend):\n",
    "    circuit = random_circuit(num_qubits=5, depth=4, measure=True,\n",
    "                            seed=random.randint(0, 1000))\n",
    "    return transpile(circuit, backend)\n",
    "\n",
    "def main(backend, user_messenger, **kwargs):\n",
    "    iterations = kwargs['iterations']\n",
    "    interim_results = kwargs.pop('interim_results', {})\n",
    "    final_result = kwargs.pop(\"final_result\", {})\n",
    "    for it in range(iterations):\n",
    "        qc = prepare_circuits(backend)\n",
    "        user_messenger.publish({\"iteration\": it, \"interim_results\": interim_results})\n",
    "        backend.run(qc).result()\n",
    "\n",
    "    user_messenger.publish(final_result, final=True)\n",
    "\"\"\""
   ]
  },
  {
   "cell_type": "code",
   "execution_count": 3,
   "id": "4b35ad4d",
   "metadata": {},
   "outputs": [],
   "source": [
    "RUNTIME_PROGRAM_METADATA = {\n",
    "    \"max_execution_time\": 600,\n",
    "    \"description\": \"Qiskit test program\"\n",
    "}\n",
    "\n",
    "PROGRAM_PREFIX = 'qiskit-test'"
   ]
  },
  {
   "cell_type": "code",
   "execution_count": 4,
   "id": "01e6f3c5",
   "metadata": {},
   "outputs": [
    {
     "data": {
      "text/plain": [
       "dict_values([])"
      ]
     },
     "execution_count": 4,
     "metadata": {},
     "output_type": "execute_result"
    }
   ],
   "source": [
    "provider = EmulatorProvider()\n",
    "provider.runtime.programs()\n"
   ]
  },
  {
   "cell_type": "code",
   "execution_count": 5,
   "id": "eee9562d",
   "metadata": {},
   "outputs": [],
   "source": [
    "program_id = provider.runtime.upload_program(RUNTIME_PROGRAM, metadata=RUNTIME_PROGRAM_METADATA)"
   ]
  },
  {
   "cell_type": "code",
   "execution_count": 6,
   "id": "3caf3ac5",
   "metadata": {},
   "outputs": [
    {
     "name": "stdout",
     "output_type": "stream",
     "text": [
      "==================================================\n",
      "4c452f8f7ebaeb20:\n",
      "  Name: 4c452f8f7ebaeb20\n",
      "  Description: Qiskit test program\n",
      "  Version: 0\n",
      "  Creation date: 01/06/2021 09:05:50\n",
      "  Max execution time: 600\n",
      "  Input parameters:\n",
      "    none\n",
      "  Interim results:\n",
      "    none\n",
      "  Returns:\n",
      "    none\n"
     ]
    }
   ],
   "source": [
    "provider.runtime.pprint_programs()"
   ]
  },
  {
   "cell_type": "code",
   "execution_count": 7,
   "id": "e04fc7f7",
   "metadata": {},
   "outputs": [],
   "source": [
    "runtime_program = provider.runtime.program(program_id)\n",
    "program_inputs = {\n",
    "    \"iterations\": 10\n",
    "}"
   ]
  },
  {
   "cell_type": "code",
   "execution_count": 8,
   "id": "498a93eb",
   "metadata": {},
   "outputs": [
    {
     "name": "stdout",
     "output_type": "stream",
     "text": [
      "MESSENGER RECEIVED: {'iteration': 0, 'interim_results': {}}\n",
      "MESSENGER RECEIVED: {'iteration': 1, 'interim_results': {}}\n",
      "MESSENGER RECEIVED: {'iteration': 2, 'interim_results': {}}\n",
      "MESSENGER RECEIVED: {'iteration': 3, 'interim_results': {}}\n",
      "MESSENGER RECEIVED: {'iteration': 4, 'interim_results': {}}\n",
      "MESSENGER RECEIVED: {'iteration': 5, 'interim_results': {}}\n",
      "MESSENGER RECEIVED: {'iteration': 6, 'interim_results': {}}\n",
      "MESSENGER RECEIVED: {'iteration': 7, 'interim_results': {}}\n",
      "MESSENGER RECEIVED: {'iteration': 8, 'interim_results': {}}\n",
      "MESSENGER RECEIVED: {'iteration': 9, 'interim_results': {}}\n",
      "MESSENGER RECEIVED: {}\n"
     ]
    }
   ],
   "source": [
    "job = provider.runtime.run(program_id, options=None, inputs=program_inputs)"
   ]
  },
  {
   "cell_type": "code",
   "execution_count": null,
   "id": "da22c9e4",
   "metadata": {},
   "outputs": [],
   "source": []
  }
 ],
 "metadata": {
  "kernelspec": {
   "display_name": "Python 3",
   "language": "python",
   "name": "python3"
  },
  "language_info": {
   "codemirror_mode": {
    "name": "ipython",
    "version": 3
   },
   "file_extension": ".py",
   "mimetype": "text/x-python",
   "name": "python",
   "nbconvert_exporter": "python",
   "pygments_lexer": "ipython3",
   "version": "3.7.3"
  }
 },
 "nbformat": 4,
 "nbformat_minor": 5
}
