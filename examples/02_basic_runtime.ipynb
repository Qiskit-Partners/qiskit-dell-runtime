{
 "cells": [
  {
   "cell_type": "code",
   "execution_count": 1,
   "id": "5a93b684",
   "metadata": {},
   "outputs": [],
   "source": [
    "from qiskit_emulator import EmulatorProvider"
   ]
  },
  {
   "cell_type": "code",
   "execution_count": 2,
   "id": "098bdb2d",
   "metadata": {},
   "outputs": [],
   "source": [
    "RUNTIME_PROGRAM = \"\"\"\n",
    "import random\n",
    "\n",
    "from qiskit import transpile\n",
    "from qiskit.circuit.random import random_circuit\n",
    "\n",
    "def prepare_circuits(backend):\n",
    "    circuit = random_circuit(num_qubits=5, depth=4, measure=True,\n",
    "                            seed=random.randint(0, 1000))\n",
    "    return transpile(circuit, backend)\n",
    "\n",
    "def main(backend, user_messenger, **kwargs):\n",
    "    iterations = kwargs['iterations']\n",
    "    interim_results = kwargs.pop('interim_results', {})\n",
    "    final_result = kwargs.pop(\"final_result\", {})\n",
    "    for it in range(iterations):\n",
    "        qc = prepare_circuits(backend)\n",
    "        user_messenger.publish({\"iteration\": it, \"interim_results\": interim_results})\n",
    "        backend.run(qc).result()\n",
    "\n",
    "    user_messenger.publish(final_result, final=True)\n",
    "\"\"\""
   ]
  },
  {
   "cell_type": "code",
   "execution_count": 3,
   "id": "4b35ad4d",
   "metadata": {},
   "outputs": [],
   "source": [
    "RUNTIME_PROGRAM_METADATA = {\n",
    "    \"max_execution_time\": 600,\n",
    "    \"description\": \"Qiskit test program\"\n",
    "}\n",
    "\n",
    "PROGRAM_PREFIX = 'qiskit-test'"
   ]
  },
  {
   "cell_type": "code",
   "execution_count": 4,
   "id": "01e6f3c5",
   "metadata": {},
   "outputs": [],
   "source": [
    "provider = EmulatorProvider()"
   ]
  },
  {
   "cell_type": "code",
   "execution_count": 5,
   "id": "eee9562d",
   "metadata": {},
   "outputs": [],
   "source": [
    "program_id = provider.runtime.upload_program(RUNTIME_PROGRAM, metadata=RUNTIME_PROGRAM_METADATA)"
   ]
  },
  {
   "cell_type": "code",
   "execution_count": 6,
   "id": "3caf3ac5",
   "metadata": {},
   "outputs": [],
   "source": [
    "runtime_program = provider.runtime.program(program_id)\n",
    "program_inputs = {\n",
    "    \"iterations\": 10\n",
    "}"
   ]
  },
  {
   "cell_type": "code",
   "execution_count": 7,
   "id": "498a93eb",
   "metadata": {},
   "outputs": [
    {
     "name": "stdout",
     "output_type": "stream",
     "text": [
      "received b'{\"iteration\": 0, \"interim_results\": {}}'\n",
      "received b'{\"iteration\": 1, \"interim_results\": {}}'\n",
      "received b'{}'\n",
      "received b''\n"
     ]
    }
   ],
   "source": [
    "job = provider.runtime.run(program_id, options=None, inputs=program_inputs)"
   ]
  },
  {
   "cell_type": "code",
   "execution_count": null,
   "id": "da22c9e4",
   "metadata": {},
   "outputs": [],
   "source": []
  }
 ],
 "metadata": {
  "kernelspec": {
   "display_name": "Python 3",
   "language": "python",
   "name": "python3"
  },
  "language_info": {
   "codemirror_mode": {
    "name": "ipython",
    "version": 3
   },
   "file_extension": ".py",
   "mimetype": "text/x-python",
   "name": "python",
   "nbconvert_exporter": "python",
   "pygments_lexer": "ipython3",
   "version": "3.7.3"
  }
 },
 "nbformat": 4,
 "nbformat_minor": 5
}
