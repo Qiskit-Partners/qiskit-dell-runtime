{
 "cells": [
  {
   "cell_type": "code",
   "execution_count": 1,
   "id": "5a93b684",
   "metadata": {},
   "outputs": [],
   "source": [
    "from qiskit_emulator import EmulatorProvider"
   ]
  },
  {
   "cell_type": "code",
   "execution_count": 2,
   "id": "098bdb2d",
   "metadata": {},
   "outputs": [],
   "source": [
    "RUNTIME_PROGRAM = \"\"\"\n",
    "import random\n",
    "\n",
    "from qiskit import transpile\n",
    "from qiskit.circuit.random import random_circuit\n",
    "\n",
    "def prepare_circuits(backend):\n",
    "    circuit = random_circuit(num_qubits=5, depth=4, measure=True,\n",
    "                            seed=random.randint(0, 1000))\n",
    "    return transpile(circuit, backend)\n",
    "\n",
    "def main(backend, user_messenger, **kwargs):\n",
    "    iterations = kwargs['iterations']\n",
    "    interim_results = kwargs.pop('interim_results', {})\n",
    "    final_result = kwargs.pop(\"final_result\", {})\n",
    "    for it in range(iterations):\n",
    "        qc = prepare_circuits(backend)\n",
    "        user_messenger.publish({\"iteration\": it, \"interim_results\": interim_results})\n",
    "        backend.run(qc).result()\n",
    "\n",
    "    user_messenger.publish(final_result, final=True)\n",
    "\"\"\""
   ]
  },
  {
   "cell_type": "code",
   "execution_count": 3,
   "id": "4b35ad4d",
   "metadata": {},
   "outputs": [],
   "source": [
    "RUNTIME_PROGRAM_METADATA = {\n",
    "    \"max_execution_time\": 600,\n",
    "    \"description\": \"Qiskit test program\"\n",
    "}\n",
    "\n",
    "PROGRAM_PREFIX = 'qiskit-test'"
   ]
  },
  {
   "cell_type": "code",
   "execution_count": 4,
   "id": "01e6f3c5",
   "metadata": {},
   "outputs": [
    {
     "data": {
      "text/plain": [
       "dict_values([])"
      ]
     },
     "execution_count": 4,
     "metadata": {},
     "output_type": "execute_result"
    }
   ],
   "source": [
    "provider = EmulatorProvider()\n",
    "provider.runtime.programs()\n"
   ]
  },
  {
   "cell_type": "code",
   "execution_count": 5,
   "id": "eee9562d",
   "metadata": {},
   "outputs": [],
   "source": [
    "program_id = provider.runtime.upload_program(RUNTIME_PROGRAM, metadata=RUNTIME_PROGRAM_METADATA)"
   ]
  },
  {
   "cell_type": "code",
   "execution_count": 6,
   "id": "3caf3ac5",
   "metadata": {},
   "outputs": [
    {
     "name": "stdout",
     "output_type": "stream",
     "text": [
      "==================================================\n",
      "519bdf6989dc19fe:\n",
      "  Name: 519bdf6989dc19fe\n",
      "  Description: Qiskit test program\n",
      "  Version: 0\n",
      "  Creation date: 21/06/2021 09:58:05\n",
      "  Max execution time: 600\n",
      "  Input parameters:\n",
      "    none\n",
      "  Interim results:\n",
      "    none\n",
      "  Returns:\n",
      "    none\n"
     ]
    }
   ],
   "source": [
    "provider.runtime.pprint_programs()"
   ]
  },
  {
   "cell_type": "code",
   "execution_count": 7,
   "id": "e04fc7f7",
   "metadata": {},
   "outputs": [],
   "source": [
    "runtime_program = provider.runtime.program(program_id)\n",
    "program_inputs = {\n",
    "    \"iterations\": 10\n",
    "}"
   ]
  },
  {
   "cell_type": "code",
   "execution_count": 8,
   "id": "498a93eb",
   "metadata": {},
   "outputs": [
    {
     "name": "stderr",
     "output_type": "stream",
     "text": [
      "DEBUG:qiskit_emulator.emulation_executor:starting ['/root/miniconda3/envs/qruntime/bin/python', '/tmp/tmpjezkbucx/executor.py']\n"
     ]
    },
    {
     "name": "stdout",
     "output_type": "stream",
     "text": [
      "MESSENGER RECEIVED: {'iteration': 0, 'interim_results': {}}\n",
      "MESSENGER RECEIVED: {'iteration': 1, 'interim_results': {}}\n",
      "MESSENGER RECEIVED: {'iteration': 2, 'interim_results': {}}\n",
      "MESSENGER RECEIVED: {'iteration': 3, 'interim_results': {}}\n",
      "MESSENGER RECEIVED: {'iteration': 4, 'interim_results': {}}\n",
      "MESSENGER RECEIVED: {'iteration': 5, 'interim_results': {}}\n",
      "MESSENGER RECEIVED: {'iteration': 6, 'interim_results': {}}\n",
      "MESSENGER RECEIVED: {'iteration': 7, 'interim_results': {}}\n",
      "MESSENGER RECEIVED: {'iteration': 8, 'interim_results': {}}\n",
      "MESSENGER RECEIVED: {'iteration': 9, 'interim_results': {}}\n",
      "MESSENGER RECEIVED: {}\n",
      "{'message': {}, 'isFinal': True}\n"
     ]
    },
    {
     "name": "stderr",
     "output_type": "stream",
     "text": [
      "DEBUG:qiskit_emulator.emulation_executor:finished executing ['/root/miniconda3/envs/qruntime/bin/python', '/tmp/tmpjezkbucx/executor.py']\n",
      "DEBUG:qiskit_emulator.emulation_executor:stdout: exit\n",
      "\n",
      "DEBUG:qiskit_emulator.emulation_executor:stderr: \n",
      "Exception in thread Thread-5:\n",
      "Traceback (most recent call last):\n",
      "  File \"/root/miniconda3/envs/qruntime/lib/python3.9/threading.py\", line 954, in _bootstrap_inner\n",
      "    self.run()\n",
      "  File \"/root/miniconda3/envs/qruntime/lib/python3.9/threading.py\", line 892, in run\n",
      "    self._target(*self._args, **self._kwargs)\n",
      "  File \"/root/miniconda3/envs/qruntime/lib/python3.9/site-packages/qiskit_emulator/emulator_runtime_job.py\", line 78, in poll_for_results\n",
      "    response = requests.get(url)\n",
      "  File \"/root/miniconda3/envs/qruntime/lib/python3.9/site-packages/requests/api.py\", line 76, in get\n",
      "    return request('get', url, params=params, **kwargs)\n",
      "  File \"/root/miniconda3/envs/qruntime/lib/python3.9/site-packages/requests/api.py\", line 61, in request\n",
      "    return session.request(method=method, url=url, **kwargs)\n",
      "  File \"/root/miniconda3/envs/qruntime/lib/python3.9/site-packages/requests/sessions.py\", line 528, in request\n",
      "    prep = self.prepare_request(req)\n",
      "  File \"/root/miniconda3/envs/qruntime/lib/python3.9/site-packages/requests/sessions.py\", line 456, in prepare_request\n",
      "    p.prepare(\n",
      "  File \"/root/miniconda3/envs/qruntime/lib/python3.9/site-packages/requests/models.py\", line 316, in prepare\n",
      "    self.prepare_url(url, params)\n",
      "  File \"/root/miniconda3/envs/qruntime/lib/python3.9/site-packages/requests/models.py\", line 390, in prepare_url\n",
      "    raise MissingSchema(error)\n",
      "requests.exceptions.MissingSchema: Invalid URL '/job/fix_me/results': No schema supplied. Perhaps you meant http:///job/fix_me/results?\n"
     ]
    }
   ],
   "source": [
    "job = provider.runtime.run(program_id, options=None, inputs=program_inputs)"
   ]
  },
  {
   "cell_type": "code",
   "execution_count": null,
   "id": "da22c9e4",
   "metadata": {},
   "outputs": [],
   "source": []
  }
 ],
 "metadata": {
  "kernelspec": {
   "display_name": "Python 3",
   "language": "python",
   "name": "python3"
  },
  "language_info": {
   "codemirror_mode": {
    "name": "ipython",
    "version": 3
   },
   "file_extension": ".py",
   "mimetype": "text/x-python",
   "name": "python",
   "nbconvert_exporter": "python",
   "pygments_lexer": "ipython3",
   "version": "3.9.5"
  }
 },
 "nbformat": 4,
 "nbformat_minor": 5
}
